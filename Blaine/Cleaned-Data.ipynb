{
 "cells": [
  {
   "cell_type": "code",
   "execution_count": 1,
   "metadata": {},
   "outputs": [],
   "source": [
    "import numpy as np\n",
    "import pandas as pd\n",
    "import matplotlib.pyplot as plt\n",
    "import seaborn as sns\n",
    "import mpl_toolkits\n",
    "import scipy.stats as st\n",
    "from scipy.stats import linregress\n",
    "from sklearn.model_selection import ShuffleSplit\n",
    "%matplotlib inline"
   ]
  },
  {
   "cell_type": "code",
   "execution_count": 5,
   "metadata": {},
   "outputs": [
    {
     "name": "stdout",
     "output_type": "stream",
     "text": [
      "KC housing dataset has 2293 data points with 15 variables each.\n"
     ]
    }
   ],
   "source": [
    "Data = pd.read_csv(\"cleaned.csv\")\n",
    "print(\"KC housing dataset has {} data points with {} variables each.\".format(*Data.shape))"
   ]
  },
  {
   "cell_type": "code",
   "execution_count": 6,
   "metadata": {},
   "outputs": [
    {
     "data": {
      "text/html": [
       "<div>\n",
       "<style scoped>\n",
       "    .dataframe tbody tr th:only-of-type {\n",
       "        vertical-align: middle;\n",
       "    }\n",
       "\n",
       "    .dataframe tbody tr th {\n",
       "        vertical-align: top;\n",
       "    }\n",
       "\n",
       "    .dataframe thead th {\n",
       "        text-align: right;\n",
       "    }\n",
       "</style>\n",
       "<table border=\"1\" class=\"dataframe\">\n",
       "  <thead>\n",
       "    <tr style=\"text-align: right;\">\n",
       "      <th></th>\n",
       "      <th>SOLD DATE</th>\n",
       "      <th>ADDRESS</th>\n",
       "      <th>ZIP OR POSTAL CODE</th>\n",
       "      <th>PRICE</th>\n",
       "      <th>BEDS</th>\n",
       "      <th>BATHS</th>\n",
       "      <th>LOCATION</th>\n",
       "      <th>SQUARE FEET</th>\n",
       "      <th>LOT SIZE</th>\n",
       "      <th>YEAR BUILT</th>\n",
       "      <th>DAYS ON MARKET</th>\n",
       "      <th>$/SQUARE FEET</th>\n",
       "      <th>HOA/MONTH</th>\n",
       "      <th>LATITUDE</th>\n",
       "      <th>LONGITUDE</th>\n",
       "    </tr>\n",
       "  </thead>\n",
       "  <tbody>\n",
       "    <tr>\n",
       "      <th>0</th>\n",
       "      <td>May-6-2020</td>\n",
       "      <td>8415 SE Schwind Cir</td>\n",
       "      <td>98664</td>\n",
       "      <td>699999</td>\n",
       "      <td>1</td>\n",
       "      <td>1.0</td>\n",
       "      <td>VANCOUVER: THE HEIGHTS (SW)</td>\n",
       "      <td>100</td>\n",
       "      <td>15245</td>\n",
       "      <td>1960</td>\n",
       "      <td>106</td>\n",
       "      <td>7000</td>\n",
       "      <td>0</td>\n",
       "      <td>45.601924</td>\n",
       "      <td>-122.590982</td>\n",
       "    </tr>\n",
       "    <tr>\n",
       "      <th>1</th>\n",
       "      <td>April-15-2020</td>\n",
       "      <td>7607 SE Harney St</td>\n",
       "      <td>97206</td>\n",
       "      <td>229500</td>\n",
       "      <td>1</td>\n",
       "      <td>1.0</td>\n",
       "      <td>BRENTWOOD</td>\n",
       "      <td>504</td>\n",
       "      <td>5662</td>\n",
       "      <td>1949</td>\n",
       "      <td>127</td>\n",
       "      <td>455</td>\n",
       "      <td>0</td>\n",
       "      <td>45.463471</td>\n",
       "      <td>-122.585376</td>\n",
       "    </tr>\n",
       "    <tr>\n",
       "      <th>2</th>\n",
       "      <td>June-12-2020</td>\n",
       "      <td>7220 NE 33rd Dr</td>\n",
       "      <td>97211</td>\n",
       "      <td>265000</td>\n",
       "      <td>2</td>\n",
       "      <td>1.0</td>\n",
       "      <td>PORTLAND NORTHEAST</td>\n",
       "      <td>572</td>\n",
       "      <td>11761</td>\n",
       "      <td>1944</td>\n",
       "      <td>69</td>\n",
       "      <td>463</td>\n",
       "      <td>0</td>\n",
       "      <td>45.575460</td>\n",
       "      <td>-122.632957</td>\n",
       "    </tr>\n",
       "    <tr>\n",
       "      <th>3</th>\n",
       "      <td>May-27-2020</td>\n",
       "      <td>6804 SE 77th Ave</td>\n",
       "      <td>97206</td>\n",
       "      <td>250000</td>\n",
       "      <td>1</td>\n",
       "      <td>1.0</td>\n",
       "      <td>BRENTWOOD</td>\n",
       "      <td>577</td>\n",
       "      <td>5662</td>\n",
       "      <td>1927</td>\n",
       "      <td>85</td>\n",
       "      <td>433</td>\n",
       "      <td>0</td>\n",
       "      <td>45.473382</td>\n",
       "      <td>-122.583730</td>\n",
       "    </tr>\n",
       "    <tr>\n",
       "      <th>4</th>\n",
       "      <td>February-28-2020</td>\n",
       "      <td>3134 NE 76th Ave</td>\n",
       "      <td>97213</td>\n",
       "      <td>234600</td>\n",
       "      <td>1</td>\n",
       "      <td>1.0</td>\n",
       "      <td>ROSEWAY</td>\n",
       "      <td>600</td>\n",
       "      <td>4791</td>\n",
       "      <td>1914</td>\n",
       "      <td>174</td>\n",
       "      <td>391</td>\n",
       "      <td>0</td>\n",
       "      <td>45.545134</td>\n",
       "      <td>-122.584665</td>\n",
       "    </tr>\n",
       "  </tbody>\n",
       "</table>\n",
       "</div>"
      ],
      "text/plain": [
       "          SOLD DATE              ADDRESS  ZIP OR POSTAL CODE   PRICE  BEDS  \\\n",
       "0        May-6-2020  8415 SE Schwind Cir               98664  699999     1   \n",
       "1     April-15-2020    7607 SE Harney St               97206  229500     1   \n",
       "2      June-12-2020      7220 NE 33rd Dr               97211  265000     2   \n",
       "3       May-27-2020     6804 SE 77th Ave               97206  250000     1   \n",
       "4  February-28-2020     3134 NE 76th Ave               97213  234600     1   \n",
       "\n",
       "   BATHS                     LOCATION  SQUARE FEET  LOT SIZE  YEAR BUILT  \\\n",
       "0    1.0  VANCOUVER: THE HEIGHTS (SW)          100     15245        1960   \n",
       "1    1.0                    BRENTWOOD          504      5662        1949   \n",
       "2    1.0           PORTLAND NORTHEAST          572     11761        1944   \n",
       "3    1.0                    BRENTWOOD          577      5662        1927   \n",
       "4    1.0                      ROSEWAY          600      4791        1914   \n",
       "\n",
       "   DAYS ON MARKET  $/SQUARE FEET  HOA/MONTH   LATITUDE   LONGITUDE  \n",
       "0             106           7000          0  45.601924 -122.590982  \n",
       "1             127            455          0  45.463471 -122.585376  \n",
       "2              69            463          0  45.575460 -122.632957  \n",
       "3              85            433          0  45.473382 -122.583730  \n",
       "4             174            391          0  45.545134 -122.584665  "
      ]
     },
     "execution_count": 6,
     "metadata": {},
     "output_type": "execute_result"
    }
   ],
   "source": [
    "Data.head()"
   ]
  },
  {
   "cell_type": "code",
   "execution_count": 7,
   "metadata": {},
   "outputs": [
    {
     "data": {
      "text/plain": [
       "Index(['SOLD DATE', 'ADDRESS', 'ZIP OR POSTAL CODE', 'PRICE', 'BEDS', 'BATHS',\n",
       "       'LOCATION', 'SQUARE FEET', 'LOT SIZE', 'YEAR BUILT', 'DAYS ON MARKET',\n",
       "       '$/SQUARE FEET', 'HOA/MONTH', 'LATITUDE', 'LONGITUDE'],\n",
       "      dtype='object')"
      ]
     },
     "execution_count": 7,
     "metadata": {},
     "output_type": "execute_result"
    }
   ],
   "source": [
    "Data.columns"
   ]
  },
  {
   "cell_type": "code",
   "execution_count": 8,
   "metadata": {},
   "outputs": [
    {
     "data": {
      "text/html": [
       "<div>\n",
       "<style scoped>\n",
       "    .dataframe tbody tr th:only-of-type {\n",
       "        vertical-align: middle;\n",
       "    }\n",
       "\n",
       "    .dataframe tbody tr th {\n",
       "        vertical-align: top;\n",
       "    }\n",
       "\n",
       "    .dataframe thead th {\n",
       "        text-align: right;\n",
       "    }\n",
       "</style>\n",
       "<table border=\"1\" class=\"dataframe\">\n",
       "  <thead>\n",
       "    <tr style=\"text-align: right;\">\n",
       "      <th></th>\n",
       "      <th>ZIP OR POSTAL CODE</th>\n",
       "      <th>PRICE</th>\n",
       "      <th>BEDS</th>\n",
       "      <th>BATHS</th>\n",
       "      <th>SQUARE FEET</th>\n",
       "      <th>LOT SIZE</th>\n",
       "      <th>YEAR BUILT</th>\n",
       "      <th>DAYS ON MARKET</th>\n",
       "      <th>$/SQUARE FEET</th>\n",
       "      <th>HOA/MONTH</th>\n",
       "      <th>LATITUDE</th>\n",
       "      <th>LONGITUDE</th>\n",
       "    </tr>\n",
       "  </thead>\n",
       "  <tbody>\n",
       "    <tr>\n",
       "      <th>count</th>\n",
       "      <td>2293.000000</td>\n",
       "      <td>2.293000e+03</td>\n",
       "      <td>2293.000000</td>\n",
       "      <td>2293.000000</td>\n",
       "      <td>2293.000000</td>\n",
       "      <td>2293.000000</td>\n",
       "      <td>2293.000000</td>\n",
       "      <td>2293.000000</td>\n",
       "      <td>2293.000000</td>\n",
       "      <td>2293.000000</td>\n",
       "      <td>2293.000000</td>\n",
       "      <td>2293.000000</td>\n",
       "    </tr>\n",
       "    <tr>\n",
       "      <th>mean</th>\n",
       "      <td>97211.713912</td>\n",
       "      <td>5.693409e+05</td>\n",
       "      <td>3.208461</td>\n",
       "      <td>2.009376</td>\n",
       "      <td>2137.190144</td>\n",
       "      <td>5538.473615</td>\n",
       "      <td>1944.051897</td>\n",
       "      <td>81.493240</td>\n",
       "      <td>282.298735</td>\n",
       "      <td>1.221108</td>\n",
       "      <td>45.531120</td>\n",
       "      <td>-122.643574</td>\n",
       "    </tr>\n",
       "    <tr>\n",
       "      <th>std</th>\n",
       "      <td>31.820397</td>\n",
       "      <td>2.362861e+05</td>\n",
       "      <td>0.904795</td>\n",
       "      <td>0.832910</td>\n",
       "      <td>865.930185</td>\n",
       "      <td>4743.493387</td>\n",
       "      <td>34.850947</td>\n",
       "      <td>51.720981</td>\n",
       "      <td>157.598126</td>\n",
       "      <td>16.180819</td>\n",
       "      <td>0.039343</td>\n",
       "      <td>0.049362</td>\n",
       "    </tr>\n",
       "    <tr>\n",
       "      <th>min</th>\n",
       "      <td>97035.000000</td>\n",
       "      <td>2.190000e+05</td>\n",
       "      <td>1.000000</td>\n",
       "      <td>1.000000</td>\n",
       "      <td>100.000000</td>\n",
       "      <td>861.000000</td>\n",
       "      <td>1880.000000</td>\n",
       "      <td>1.000000</td>\n",
       "      <td>91.000000</td>\n",
       "      <td>0.000000</td>\n",
       "      <td>45.455898</td>\n",
       "      <td>-122.764945</td>\n",
       "    </tr>\n",
       "    <tr>\n",
       "      <th>25%</th>\n",
       "      <td>97206.000000</td>\n",
       "      <td>4.160000e+05</td>\n",
       "      <td>3.000000</td>\n",
       "      <td>1.000000</td>\n",
       "      <td>1506.000000</td>\n",
       "      <td>4356.000000</td>\n",
       "      <td>1919.000000</td>\n",
       "      <td>36.000000</td>\n",
       "      <td>231.000000</td>\n",
       "      <td>0.000000</td>\n",
       "      <td>45.498532</td>\n",
       "      <td>-122.684429</td>\n",
       "    </tr>\n",
       "    <tr>\n",
       "      <th>50%</th>\n",
       "      <td>97211.000000</td>\n",
       "      <td>5.170000e+05</td>\n",
       "      <td>3.000000</td>\n",
       "      <td>2.000000</td>\n",
       "      <td>2088.000000</td>\n",
       "      <td>4791.000000</td>\n",
       "      <td>1932.000000</td>\n",
       "      <td>76.000000</td>\n",
       "      <td>269.000000</td>\n",
       "      <td>0.000000</td>\n",
       "      <td>45.532089</td>\n",
       "      <td>-122.632720</td>\n",
       "    </tr>\n",
       "    <tr>\n",
       "      <th>75%</th>\n",
       "      <td>97215.000000</td>\n",
       "      <td>6.500000e+05</td>\n",
       "      <td>4.000000</td>\n",
       "      <td>2.500000</td>\n",
       "      <td>2603.000000</td>\n",
       "      <td>5662.000000</td>\n",
       "      <td>1957.000000</td>\n",
       "      <td>126.000000</td>\n",
       "      <td>316.000000</td>\n",
       "      <td>0.000000</td>\n",
       "      <td>45.564296</td>\n",
       "      <td>-122.604940</td>\n",
       "    </tr>\n",
       "    <tr>\n",
       "      <th>max</th>\n",
       "      <td>98664.000000</td>\n",
       "      <td>3.400000e+06</td>\n",
       "      <td>8.000000</td>\n",
       "      <td>6.000000</td>\n",
       "      <td>7088.000000</td>\n",
       "      <td>135907.000000</td>\n",
       "      <td>2020.000000</td>\n",
       "      <td>178.000000</td>\n",
       "      <td>7000.000000</td>\n",
       "      <td>454.000000</td>\n",
       "      <td>45.607584</td>\n",
       "      <td>-122.539143</td>\n",
       "    </tr>\n",
       "  </tbody>\n",
       "</table>\n",
       "</div>"
      ],
      "text/plain": [
       "       ZIP OR POSTAL CODE         PRICE         BEDS        BATHS  \\\n",
       "count         2293.000000  2.293000e+03  2293.000000  2293.000000   \n",
       "mean         97211.713912  5.693409e+05     3.208461     2.009376   \n",
       "std             31.820397  2.362861e+05     0.904795     0.832910   \n",
       "min          97035.000000  2.190000e+05     1.000000     1.000000   \n",
       "25%          97206.000000  4.160000e+05     3.000000     1.000000   \n",
       "50%          97211.000000  5.170000e+05     3.000000     2.000000   \n",
       "75%          97215.000000  6.500000e+05     4.000000     2.500000   \n",
       "max          98664.000000  3.400000e+06     8.000000     6.000000   \n",
       "\n",
       "       SQUARE FEET       LOT SIZE   YEAR BUILT  DAYS ON MARKET  $/SQUARE FEET  \\\n",
       "count  2293.000000    2293.000000  2293.000000     2293.000000    2293.000000   \n",
       "mean   2137.190144    5538.473615  1944.051897       81.493240     282.298735   \n",
       "std     865.930185    4743.493387    34.850947       51.720981     157.598126   \n",
       "min     100.000000     861.000000  1880.000000        1.000000      91.000000   \n",
       "25%    1506.000000    4356.000000  1919.000000       36.000000     231.000000   \n",
       "50%    2088.000000    4791.000000  1932.000000       76.000000     269.000000   \n",
       "75%    2603.000000    5662.000000  1957.000000      126.000000     316.000000   \n",
       "max    7088.000000  135907.000000  2020.000000      178.000000    7000.000000   \n",
       "\n",
       "         HOA/MONTH     LATITUDE    LONGITUDE  \n",
       "count  2293.000000  2293.000000  2293.000000  \n",
       "mean      1.221108    45.531120  -122.643574  \n",
       "std      16.180819     0.039343     0.049362  \n",
       "min       0.000000    45.455898  -122.764945  \n",
       "25%       0.000000    45.498532  -122.684429  \n",
       "50%       0.000000    45.532089  -122.632720  \n",
       "75%       0.000000    45.564296  -122.604940  \n",
       "max     454.000000    45.607584  -122.539143  "
      ]
     },
     "execution_count": 8,
     "metadata": {},
     "output_type": "execute_result"
    }
   ],
   "source": [
    "Data.describe()"
   ]
  },
  {
   "cell_type": "code",
   "execution_count": 9,
   "metadata": {},
   "outputs": [
    {
     "data": {
      "text/plain": [
       "SOLD DATE              object\n",
       "ADDRESS                object\n",
       "ZIP OR POSTAL CODE      int64\n",
       "PRICE                   int64\n",
       "BEDS                    int64\n",
       "BATHS                 float64\n",
       "LOCATION               object\n",
       "SQUARE FEET             int64\n",
       "LOT SIZE                int64\n",
       "YEAR BUILT              int64\n",
       "DAYS ON MARKET          int64\n",
       "$/SQUARE FEET           int64\n",
       "HOA/MONTH               int64\n",
       "LATITUDE              float64\n",
       "LONGITUDE             float64\n",
       "dtype: object"
      ]
     },
     "execution_count": 9,
     "metadata": {},
     "output_type": "execute_result"
    }
   ],
   "source": [
    "Data.dtypes"
   ]
  },
  {
   "cell_type": "code",
   "execution_count": 10,
   "metadata": {},
   "outputs": [],
   "source": [
    "Data = Data.drop(['SOLD DATE','ADDRESS','LOCATION'], axis=1)"
   ]
  },
  {
   "cell_type": "code",
   "execution_count": 11,
   "metadata": {},
   "outputs": [
    {
     "data": {
      "text/html": [
       "<div>\n",
       "<style scoped>\n",
       "    .dataframe tbody tr th:only-of-type {\n",
       "        vertical-align: middle;\n",
       "    }\n",
       "\n",
       "    .dataframe tbody tr th {\n",
       "        vertical-align: top;\n",
       "    }\n",
       "\n",
       "    .dataframe thead th {\n",
       "        text-align: right;\n",
       "    }\n",
       "</style>\n",
       "<table border=\"1\" class=\"dataframe\">\n",
       "  <thead>\n",
       "    <tr style=\"text-align: right;\">\n",
       "      <th></th>\n",
       "      <th>ZIP OR POSTAL CODE</th>\n",
       "      <th>PRICE</th>\n",
       "      <th>BEDS</th>\n",
       "      <th>BATHS</th>\n",
       "      <th>SQUARE FEET</th>\n",
       "      <th>LOT SIZE</th>\n",
       "      <th>YEAR BUILT</th>\n",
       "      <th>DAYS ON MARKET</th>\n",
       "      <th>$/SQUARE FEET</th>\n",
       "      <th>HOA/MONTH</th>\n",
       "      <th>LATITUDE</th>\n",
       "      <th>LONGITUDE</th>\n",
       "    </tr>\n",
       "  </thead>\n",
       "  <tbody>\n",
       "    <tr>\n",
       "      <th>0</th>\n",
       "      <td>98664</td>\n",
       "      <td>699999</td>\n",
       "      <td>1</td>\n",
       "      <td>1.0</td>\n",
       "      <td>100</td>\n",
       "      <td>15245</td>\n",
       "      <td>1960</td>\n",
       "      <td>106</td>\n",
       "      <td>7000</td>\n",
       "      <td>0</td>\n",
       "      <td>45.601924</td>\n",
       "      <td>-122.590982</td>\n",
       "    </tr>\n",
       "    <tr>\n",
       "      <th>1</th>\n",
       "      <td>97206</td>\n",
       "      <td>229500</td>\n",
       "      <td>1</td>\n",
       "      <td>1.0</td>\n",
       "      <td>504</td>\n",
       "      <td>5662</td>\n",
       "      <td>1949</td>\n",
       "      <td>127</td>\n",
       "      <td>455</td>\n",
       "      <td>0</td>\n",
       "      <td>45.463471</td>\n",
       "      <td>-122.585376</td>\n",
       "    </tr>\n",
       "    <tr>\n",
       "      <th>2</th>\n",
       "      <td>97211</td>\n",
       "      <td>265000</td>\n",
       "      <td>2</td>\n",
       "      <td>1.0</td>\n",
       "      <td>572</td>\n",
       "      <td>11761</td>\n",
       "      <td>1944</td>\n",
       "      <td>69</td>\n",
       "      <td>463</td>\n",
       "      <td>0</td>\n",
       "      <td>45.575460</td>\n",
       "      <td>-122.632957</td>\n",
       "    </tr>\n",
       "    <tr>\n",
       "      <th>3</th>\n",
       "      <td>97206</td>\n",
       "      <td>250000</td>\n",
       "      <td>1</td>\n",
       "      <td>1.0</td>\n",
       "      <td>577</td>\n",
       "      <td>5662</td>\n",
       "      <td>1927</td>\n",
       "      <td>85</td>\n",
       "      <td>433</td>\n",
       "      <td>0</td>\n",
       "      <td>45.473382</td>\n",
       "      <td>-122.583730</td>\n",
       "    </tr>\n",
       "    <tr>\n",
       "      <th>4</th>\n",
       "      <td>97213</td>\n",
       "      <td>234600</td>\n",
       "      <td>1</td>\n",
       "      <td>1.0</td>\n",
       "      <td>600</td>\n",
       "      <td>4791</td>\n",
       "      <td>1914</td>\n",
       "      <td>174</td>\n",
       "      <td>391</td>\n",
       "      <td>0</td>\n",
       "      <td>45.545134</td>\n",
       "      <td>-122.584665</td>\n",
       "    </tr>\n",
       "  </tbody>\n",
       "</table>\n",
       "</div>"
      ],
      "text/plain": [
       "   ZIP OR POSTAL CODE   PRICE  BEDS  BATHS  SQUARE FEET  LOT SIZE  YEAR BUILT  \\\n",
       "0               98664  699999     1    1.0          100     15245        1960   \n",
       "1               97206  229500     1    1.0          504      5662        1949   \n",
       "2               97211  265000     2    1.0          572     11761        1944   \n",
       "3               97206  250000     1    1.0          577      5662        1927   \n",
       "4               97213  234600     1    1.0          600      4791        1914   \n",
       "\n",
       "   DAYS ON MARKET  $/SQUARE FEET  HOA/MONTH   LATITUDE   LONGITUDE  \n",
       "0             106           7000          0  45.601924 -122.590982  \n",
       "1             127            455          0  45.463471 -122.585376  \n",
       "2              69            463          0  45.575460 -122.632957  \n",
       "3              85            433          0  45.473382 -122.583730  \n",
       "4             174            391          0  45.545134 -122.584665  "
      ]
     },
     "execution_count": 11,
     "metadata": {},
     "output_type": "execute_result"
    }
   ],
   "source": [
    "Data.head()"
   ]
  },
  {
   "cell_type": "code",
   "execution_count": 12,
   "metadata": {},
   "outputs": [
    {
     "data": {
      "text/plain": [
       "ZIP OR POSTAL CODE    0\n",
       "PRICE                 0\n",
       "BEDS                  0\n",
       "BATHS                 0\n",
       "SQUARE FEET           0\n",
       "LOT SIZE              0\n",
       "YEAR BUILT            0\n",
       "DAYS ON MARKET        0\n",
       "$/SQUARE FEET         0\n",
       "HOA/MONTH             0\n",
       "LATITUDE              0\n",
       "LONGITUDE             0\n",
       "dtype: int64"
      ]
     },
     "execution_count": 12,
     "metadata": {},
     "output_type": "execute_result"
    }
   ],
   "source": [
    "Data.isnull().sum()"
   ]
  },
  {
   "cell_type": "code",
   "execution_count": 13,
   "metadata": {},
   "outputs": [
    {
     "data": {
      "text/plain": [
       "<function seaborn.utils.despine(fig=None, ax=None, top=True, right=True, left=False, bottom=False, offset=None, trim=False)>"
      ]
     },
     "execution_count": 13,
     "metadata": {},
     "output_type": "execute_result"
    },
    {
     "data": {
      "image/png": "[encoded data removed]",
      "text/plain": [
       "<Figure size 432x288 with 1 Axes>"
      ]
     },
     "metadata": {
      "needs_background": "light"
     },
     "output_type": "display_data"
    }
   ],
   "source": [
    "Data['BEDS'].value_counts().plot(kind='bar')\n",
    "plt.title('Number of Bedrooms')\n",
    "plt.xlabel('Bedrooms')\n",
    "plt.ylabel('Count')\n",
    "sns.despine"
   ]
  },
  {
   "cell_type": "code",
   "execution_count": 14,
   "metadata": {},
   "outputs": [
    {
     "data": {
      "text/plain": [
       "<function seaborn.utils.despine(fig=None, ax=None, top=True, right=True, left=False, bottom=False, offset=None, trim=False)>"
      ]
     },
     "execution_count": 14,
     "metadata": {},
     "output_type": "execute_result"
    },
    {
     "data": {
      "image/png": "[encoded data removed]",
      "text/plain": [
       "<Figure size 432x288 with 1 Axes>"
      ]
     },
     "metadata": {
      "needs_background": "light"
     },
     "output_type": "display_data"
    }
   ],
   "source": [
    "Data['BATHS'].value_counts().plot(kind='bar')\n",
    "plt.title('Number of Bathrooms')\n",
    "plt.xlabel('Bathrooms')\n",
    "plt.ylabel('Count')\n",
    "sns.despine"
   ]
  },
  {
   "cell_type": "code",
   "execution_count": 15,
   "metadata": {},
   "outputs": [
    {
     "data": {
      "text/plain": [
       "Text(0.5, 1.0, 'Price vs Square Feet')"
      ]
     },
     "execution_count": 15,
     "metadata": {},
     "output_type": "execute_result"
    },
    {
     "data": {
      "image/png": "[encoded data removed]",
      "text/plain": [
       "<Figure size 432x288 with 1 Axes>"
      ]
     },
     "metadata": {
      "needs_background": "light"
     },
     "output_type": "display_data"
    }
   ],
   "source": [
    "plt.scatter(Data['SQUARE FEET'],Data['PRICE'])\n",
    "plt.title(\"Price vs Square Feet\")"
   ]
  },
  {
   "cell_type": "code",
   "execution_count": null,
   "metadata": {},
   "outputs": [],
   "source": []
  },
  {
   "cell_type": "code",
   "execution_count": 16,
   "metadata": {},
   "outputs": [
    {
     "data": {
      "text/plain": [
       "Text(0.5, 1.0, 'Price vs Square Feet')"
      ]
     },
     "execution_count": 16,
     "metadata": {},
     "output_type": "execute_result"
    },
    {
     "data": {
      "image/png": "[encoded data removed]",
      "text/plain": [
       "<Figure size 432x288 with 1 Axes>"
      ]
     },
     "metadata": {
      "needs_background": "light"
     },
     "output_type": "display_data"
    }
   ],
   "source": [
    "plt.scatter(Data['LOT SIZE'],Data['PRICE'])\n",
    "plt.title(\"Price vs Square Feet\")"
   ]
  },
  {
   "cell_type": "code",
   "execution_count": 18,
   "metadata": {},
   "outputs": [
    {
     "data": {
      "image/png": "[encoded data removed]",
      "text/plain": [
       "<Figure size 720x504 with 2 Axes>"
      ]
     },
     "metadata": {
      "needs_background": "light"
     },
     "output_type": "display_data"
    }
   ],
   "source": [
    "fig = plt.figure(figsize=(10,7))\n",
    "fig.add_subplot(2,1,1)\n",
    "sns.distplot(Data['PRICE'])\n",
    "fig.add_subplot(2,1,2)\n",
    "sns.boxplot(Data['PRICE'])\n",
    "plt.tight_layout()"
   ]
  },
  {
   "cell_type": "code",
   "execution_count": 19,
   "metadata": {},
   "outputs": [],
   "source": [
    "top = Data.sort_values('PRICE',ascending = False).iloc[216:]"
   ]
  },
  {
   "cell_type": "code",
   "execution_count": 47,
   "metadata": {},
   "outputs": [
    {
     "data": {
      "image/png": "[encoded data removed]",
      "text/plain": [
       "<Figure size 1080x720 with 1 Axes>"
      ]
     },
     "metadata": {
      "needs_background": "light"
     },
     "output_type": "display_data"
    }
   ],
   "source": [
    "plt.figure(figsize=(15,10))\n",
    "sns.scatterplot(x='LONGITUDE',y='LATITUDE',data=top,alpha = 0.8,palette = 'RdYlGn', hue='PRICE')\n",
    "plt.savefig('long-lat.png')"
   ]
  },
  {
   "cell_type": "markdown",
   "metadata": {},
   "source": [
    "## Linear Regression"
   ]
  },
  {
   "cell_type": "code",
   "execution_count": 21,
   "metadata": {},
   "outputs": [],
   "source": [
    "from sklearn.linear_model import LinearRegression"
   ]
  },
  {
   "cell_type": "code",
   "execution_count": 22,
   "metadata": {},
   "outputs": [],
   "source": [
    "model = LinearRegression()"
   ]
  },
  {
   "cell_type": "code",
   "execution_count": 23,
   "metadata": {},
   "outputs": [
    {
     "name": "stdout",
     "output_type": "stream",
     "text": [
      "(2293, 11) (2293, 1)\n"
     ]
    }
   ],
   "source": [
    "y = Data['PRICE'].values.reshape(-1, 1)\n",
    "X = Data.drop(['PRICE'], axis=1)\n",
    "print(X.shape, y.shape)"
   ]
  },
  {
   "cell_type": "code",
   "execution_count": 24,
   "metadata": {},
   "outputs": [],
   "source": [
    "from sklearn.model_selection import train_test_split\n",
    "X_train, X_test, y_train, y_test = train_test_split(X, y, test_size=0.33, random_state=40)"
   ]
  },
  {
   "cell_type": "code",
   "execution_count": 25,
   "metadata": {},
   "outputs": [],
   "source": [
    "from sklearn.preprocessing import StandardScaler\n",
    "s_scaler = StandardScaler()\n",
    "X_train = s_scaler.fit_transform(X_train.astype(np.float))\n",
    "X_test = s_scaler.transform(X_test.astype(np.float))"
   ]
  },
  {
   "cell_type": "code",
   "execution_count": 26,
   "metadata": {},
   "outputs": [
    {
     "data": {
      "text/plain": [
       "LinearRegression(copy_X=True, fit_intercept=True, n_jobs=None, normalize=False)"
      ]
     },
     "execution_count": 26,
     "metadata": {},
     "output_type": "execute_result"
    }
   ],
   "source": [
    "model.fit(X_train, y_train)"
   ]
  },
  {
   "cell_type": "code",
   "execution_count": 27,
   "metadata": {},
   "outputs": [
    {
     "name": "stdout",
     "output_type": "stream",
     "text": [
      "Training Score: 0.9215741140721599\n"
     ]
    }
   ],
   "source": [
    "model.fit(X_train, y_train)\n",
    "training_score = model.score(X_train, y_train)\n",
    "print(f\"Training Score: {training_score}\")"
   ]
  },
  {
   "cell_type": "code",
   "execution_count": 28,
   "metadata": {},
   "outputs": [
    {
     "name": "stdout",
     "output_type": "stream",
     "text": [
      "Linear Regression Model:\n",
      "Train Score 0.92\n",
      "Test Score -1.43\n"
     ]
    }
   ],
   "source": [
    "print('Linear Regression Model:')\n",
    "print(\"Train Score {:.2f}\".format(model.score(X_train,y_train)))\n",
    "print(\"Test Score {:.2f}\".format(model.score(X_test, y_test)))"
   ]
  },
  {
   "cell_type": "markdown",
   "metadata": {},
   "source": [
    "## Multiple Linear Regression"
   ]
  },
  {
   "cell_type": "code",
   "execution_count": 29,
   "metadata": {},
   "outputs": [
    {
     "data": {
      "text/plain": [
       "array([[-1.26170257e+03, -5.11900982e+03,  2.45772639e+04,\n",
       "         2.30689794e+05, -1.07577531e+03,  1.69772385e+02,\n",
       "        -2.09799151e+03,  1.19900908e+05, -3.80811634e+03,\n",
       "        -4.24525923e+03, -4.57357004e+03]])"
      ]
     },
     "execution_count": 29,
     "metadata": {},
     "output_type": "execute_result"
    }
   ],
   "source": [
    "from sklearn.linear_model import LinearRegression\n",
    "regressor = LinearRegression()  \n",
    "regressor.fit(X_train, y_train)\n",
    "\n",
    "#evaluate the model (intercept and slope)\n",
    "regressor.intercept_\n",
    "regressor.coef_"
   ]
  },
  {
   "cell_type": "code",
   "execution_count": 30,
   "metadata": {},
   "outputs": [
    {
     "data": {
      "text/html": [
       "<div>\n",
       "<style scoped>\n",
       "    .dataframe tbody tr th:only-of-type {\n",
       "        vertical-align: middle;\n",
       "    }\n",
       "\n",
       "    .dataframe tbody tr th {\n",
       "        vertical-align: top;\n",
       "    }\n",
       "\n",
       "    .dataframe thead th {\n",
       "        text-align: right;\n",
       "    }\n",
       "</style>\n",
       "<table border=\"1\" class=\"dataframe\">\n",
       "  <thead>\n",
       "    <tr style=\"text-align: right;\">\n",
       "      <th></th>\n",
       "      <th>Actual</th>\n",
       "      <th>Predicted</th>\n",
       "    </tr>\n",
       "  </thead>\n",
       "  <tbody>\n",
       "    <tr>\n",
       "      <th>0</th>\n",
       "      <td>528000</td>\n",
       "      <td>543416.994321</td>\n",
       "    </tr>\n",
       "  </tbody>\n",
       "</table>\n",
       "</div>"
      ],
      "text/plain": [
       "   Actual      Predicted\n",
       "0  528000  543416.994321"
      ]
     },
     "execution_count": 30,
     "metadata": {},
     "output_type": "execute_result"
    }
   ],
   "source": [
    "y_predd = regressor.predict(X_test)\n",
    "df = pd.DataFrame({'Actual': y_test[0], 'Predicted': y_predd[0]})\n",
    "df1 = df.head(10)\n",
    "df1"
   ]
  },
  {
   "cell_type": "code",
   "execution_count": 31,
   "metadata": {},
   "outputs": [
    {
     "name": "stdout",
     "output_type": "stream",
     "text": [
      "Mean Absolute Error: 58451.49\n",
      "Mean Squared Error:153902548541.47\n",
      "Root Mean Squared Error:392304.15\n",
      "Variance score is: -1.43\n"
     ]
    }
   ],
   "source": [
    "from sklearn import metrics\n",
    "\n",
    "print('Mean Absolute Error: {:.2f}'.format(metrics.mean_absolute_error(y_test, y_predd))) \n",
    "print('Mean Squared Error:{:.2f}'.format(metrics.mean_squared_error(y_test, y_predd)))  \n",
    "print('Root Mean Squared Error:{:.2f}'.format(np.sqrt(metrics.mean_squared_error(y_test, y_predd))))\n",
    "print('Variance score is: {:.2f}'.format(metrics.explained_variance_score(y_test,y_predd)))"
   ]
  },
  {
   "cell_type": "markdown",
   "metadata": {},
   "source": [
    "## Keras Regression"
   ]
  },
  {
   "cell_type": "code",
   "execution_count": 33,
   "metadata": {},
   "outputs": [],
   "source": [
    "from tensorflow.keras.models import Sequential\n",
    "from tensorflow.keras.layers import Dense, Activation\n",
    "from tensorflow.keras.optimizers import Adam"
   ]
  },
  {
   "cell_type": "code",
   "execution_count": 34,
   "metadata": {},
   "outputs": [],
   "source": [
    "model = Sequential()\n",
    "\n",
    "model.add(Dense(12,activation='relu'))\n",
    "model.add(Dense(12,activation='relu'))\n",
    "model.add(Dense(12,activation='relu'))\n",
    "model.add(Dense(12,activation='relu'))\n",
    "model.add(Dense(1))\n",
    "\n",
    "model.compile(optimizer='adam',loss='mse')"
   ]
  },
  {
   "cell_type": "code",
   "execution_count": 35,
   "metadata": {},
   "outputs": [
    {
     "name": "stdout",
     "output_type": "stream",
     "text": [
      "Epoch 1/400\n",
      "12/12 [==============================] - 0s 16ms/step - loss: 375764975616.0000 - val_loss: 388457857024.0000\n",
      "Epoch 2/400\n",
      "12/12 [==============================] - 0s 3ms/step - loss: 375764713472.0000 - val_loss: 388457496576.0000\n",
      "Epoch 3/400\n",
      "12/12 [==============================] - 0s 3ms/step - loss: 375764320256.0000 - val_loss: 388456906752.0000\n",
      "Epoch 4/400\n",
      "12/12 [==============================] - 0s 4ms/step - loss: 375763730432.0000 - val_loss: 388456120320.0000\n",
      "Epoch 5/400\n",
      "12/12 [==============================] - 0s 3ms/step - loss: 375762812928.0000 - val_loss: 388454875136.0000\n",
      "Epoch 6/400\n",
      "12/12 [==============================] - 0s 3ms/step - loss: 375761403904.0000 - val_loss: 388453040128.0000\n",
      "Epoch 7/400\n",
      "12/12 [==============================] - 0s 3ms/step - loss: 375759405056.0000 - val_loss: 388450222080.0000\n",
      "Epoch 8/400\n",
      "12/12 [==============================] - 0s 3ms/step - loss: 375756259328.0000 - val_loss: 388445962240.0000\n",
      "Epoch 9/400\n",
      "12/12 [==============================] - 0s 3ms/step - loss: 375751475200.0000 - val_loss: 388439441408.0000\n",
      "Epoch 10/400\n",
      "12/12 [==============================] - 0s 3ms/step - loss: 375744364544.0000 - val_loss: 388429742080.0000\n",
      "Epoch 11/400\n",
      "12/12 [==============================] - 0s 4ms/step - loss: 375733616640.0000 - val_loss: 388415291392.0000\n",
      "Epoch 12/400\n",
      "12/12 [==============================] - 0s 3ms/step - loss: 375717789696.0000 - val_loss: 388393893888.0000\n",
      "Epoch 13/400\n",
      "12/12 [==============================] - 0s 3ms/step - loss: 375694295040.0000 - val_loss: 388362797056.0000\n",
      "Epoch 14/400\n",
      "12/12 [==============================] - 0s 3ms/step - loss: 375660707840.0000 - val_loss: 388318396416.0000\n",
      "Epoch 15/400\n",
      "12/12 [==============================] - 0s 3ms/step - loss: 375613292544.0000 - val_loss: 388256956416.0000\n",
      "Epoch 16/400\n",
      "12/12 [==============================] - 0s 3ms/step - loss: 375547396096.0000 - val_loss: 388173725696.0000\n",
      "Epoch 17/400\n",
      "12/12 [==============================] - 0s 3ms/step - loss: 375459840000.0000 - val_loss: 388061921280.0000\n",
      "Epoch 18/400\n",
      "12/12 [==============================] - 0s 3ms/step - loss: 375342399488.0000 - val_loss: 387915579392.0000\n",
      "Epoch 19/400\n",
      "12/12 [==============================] - 0s 3ms/step - loss: 375188652032.0000 - val_loss: 387725590528.0000\n",
      "Epoch 20/400\n",
      "12/12 [==============================] - 0s 3ms/step - loss: 374990012416.0000 - val_loss: 387481174016.0000\n",
      "Epoch 21/400\n",
      "12/12 [==============================] - 0s 3ms/step - loss: 374737108992.0000 - val_loss: 387170664448.0000\n",
      "Epoch 22/400\n",
      "12/12 [==============================] - 0s 3ms/step - loss: 374413983744.0000 - val_loss: 386784854016.0000\n",
      "Epoch 23/400\n",
      "12/12 [==============================] - 0s 3ms/step - loss: 374013722624.0000 - val_loss: 386305556480.0000\n",
      "Epoch 24/400\n",
      "12/12 [==============================] - 0s 3ms/step - loss: 373525708800.0000 - val_loss: 385716092928.0000\n",
      "Epoch 25/400\n",
      "12/12 [==============================] - 0s 3ms/step - loss: 372926054400.0000 - val_loss: 385003913216.0000\n",
      "Epoch 26/400\n",
      "12/12 [==============================] - 0s 3ms/step - loss: 372186316800.0000 - val_loss: 384161972224.0000\n",
      "Epoch 27/400\n",
      "12/12 [==============================] - 0s 3ms/step - loss: 371328024576.0000 - val_loss: 383141969920.0000\n",
      "Epoch 28/400\n",
      "12/12 [==============================] - 0s 3ms/step - loss: 370288721920.0000 - val_loss: 381947117568.0000\n",
      "Epoch 29/400\n",
      "12/12 [==============================] - 0s 3ms/step - loss: 369069228032.0000 - val_loss: 380546809856.0000\n",
      "Epoch 30/400\n",
      "12/12 [==============================] - 0s 3ms/step - loss: 367642181632.0000 - val_loss: 378919976960.0000\n",
      "Epoch 31/400\n",
      "12/12 [==============================] - 0s 3ms/step - loss: 365982744576.0000 - val_loss: 377039454208.0000\n",
      "Epoch 32/400\n",
      "12/12 [==============================] - 0s 3ms/step - loss: 364068175872.0000 - val_loss: 374886432768.0000\n",
      "Epoch 33/400\n",
      "12/12 [==============================] - 0s 3ms/step - loss: 361848897536.0000 - val_loss: 372451049472.0000\n",
      "Epoch 34/400\n",
      "12/12 [==============================] - 0s 3ms/step - loss: 359342669824.0000 - val_loss: 369673601024.0000\n",
      "Epoch 35/400\n",
      "12/12 [==============================] - 0s 3ms/step - loss: 356485332992.0000 - val_loss: 366548090880.0000\n",
      "Epoch 36/400\n",
      "12/12 [==============================] - 0s 3ms/step - loss: 353236025344.0000 - val_loss: 363075764224.0000\n",
      "Epoch 37/400\n",
      "12/12 [==============================] - 0s 3ms/step - loss: 349640228864.0000 - val_loss: 359183253504.0000\n",
      "Epoch 38/400\n",
      "12/12 [==============================] - 0s 3ms/step - loss: 345553141760.0000 - val_loss: 354918957056.0000\n",
      "Epoch 39/400\n",
      "12/12 [==============================] - 0s 3ms/step - loss: 341076508672.0000 - val_loss: 350224547840.0000\n",
      "Epoch 40/400\n",
      "12/12 [==============================] - 0s 3ms/step - loss: 336089481216.0000 - val_loss: 345109594112.0000\n",
      "Epoch 41/400\n",
      "12/12 [==============================] - 0s 3ms/step - loss: 330586226688.0000 - val_loss: 339599917056.0000\n",
      "Epoch 42/400\n",
      "12/12 [==============================] - 0s 3ms/step - loss: 324640342016.0000 - val_loss: 333624639488.0000\n",
      "Epoch 43/400\n",
      "12/12 [==============================] - 0s 3ms/step - loss: 318107582464.0000 - val_loss: 327270629376.0000\n",
      "Epoch 44/400\n",
      "12/12 [==============================] - 0s 3ms/step - loss: 311137370112.0000 - val_loss: 320468287488.0000\n",
      "Epoch 45/400\n",
      "12/12 [==============================] - 0s 3ms/step - loss: 303473655808.0000 - val_loss: 313376735232.0000\n",
      "Epoch 46/400\n",
      "12/12 [==============================] - 0s 3ms/step - loss: 295280803840.0000 - val_loss: 306011144192.0000\n",
      "Epoch 47/400\n",
      "12/12 [==============================] - 0s 3ms/step - loss: 286658166784.0000 - val_loss: 298281861120.0000\n",
      "Epoch 48/400\n",
      "12/12 [==============================] - 0s 3ms/step - loss: 277545189376.0000 - val_loss: 290352693248.0000\n",
      "Epoch 49/400\n",
      "12/12 [==============================] - 0s 3ms/step - loss: 267724718080.0000 - val_loss: 282428276736.0000\n",
      "Epoch 50/400\n",
      "12/12 [==============================] - 0s 3ms/step - loss: 257656487936.0000 - val_loss: 274339856384.0000\n",
      "Epoch 51/400\n",
      "12/12 [==============================] - 0s 3ms/step - loss: 247025549312.0000 - val_loss: 266424500224.0000\n",
      "Epoch 52/400\n",
      "12/12 [==============================] - 0s 3ms/step - loss: 236233359360.0000 - val_loss: 258690924544.0000\n",
      "Epoch 53/400\n",
      "12/12 [==============================] - 0s 3ms/step - loss: 224857833472.0000 - val_loss: 251372208128.0000\n",
      "Epoch 54/400\n",
      "12/12 [==============================] - 0s 3ms/step - loss: 213538816000.0000 - val_loss: 244270284800.0000\n",
      "Epoch 55/400\n",
      "12/12 [==============================] - 0s 3ms/step - loss: 201895428096.0000 - val_loss: 237858881536.0000\n",
      "Epoch 56/400\n",
      "12/12 [==============================] - 0s 3ms/step - loss: 190418042880.0000 - val_loss: 232116797440.0000\n",
      "Epoch 57/400\n",
      "12/12 [==============================] - 0s 3ms/step - loss: 178893881344.0000 - val_loss: 227237543936.0000\n",
      "Epoch 58/400\n",
      "12/12 [==============================] - 0s 3ms/step - loss: 167426277376.0000 - val_loss: 223441534976.0000\n",
      "Epoch 59/400\n",
      "12/12 [==============================] - 0s 3ms/step - loss: 156303884288.0000 - val_loss: 220653633536.0000\n",
      "Epoch 60/400\n",
      "12/12 [==============================] - 0s 3ms/step - loss: 145673306112.0000 - val_loss: 219136131072.0000\n",
      "Epoch 61/400\n",
      "12/12 [==============================] - 0s 3ms/step - loss: 135353393152.0000 - val_loss: 218353434624.0000\n",
      "Epoch 62/400\n",
      "12/12 [==============================] - 0s 3ms/step - loss: 125683924992.0000 - val_loss: 219357052928.0000\n",
      "Epoch 63/400\n",
      "12/12 [==============================] - 0s 3ms/step - loss: 116552998912.0000 - val_loss: 221436821504.0000\n",
      "Epoch 64/400\n",
      "12/12 [==============================] - 0s 3ms/step - loss: 108126838784.0000 - val_loss: 224769196032.0000\n",
      "Epoch 65/400\n",
      "12/12 [==============================] - 0s 3ms/step - loss: 100390010880.0000 - val_loss: 229405884416.0000\n",
      "Epoch 66/400\n",
      "12/12 [==============================] - 0s 3ms/step - loss: 93554409472.0000 - val_loss: 235525357568.0000\n",
      "Epoch 67/400\n",
      "12/12 [==============================] - 0s 3ms/step - loss: 87226671104.0000 - val_loss: 241701797888.0000\n",
      "Epoch 68/400\n"
     ]
    },
    {
     "name": "stdout",
     "output_type": "stream",
     "text": [
      "12/12 [==============================] - 0s 3ms/step - loss: 81733648384.0000 - val_loss: 248647974912.0000\n",
      "Epoch 69/400\n",
      "12/12 [==============================] - 0s 3ms/step - loss: 76945874944.0000 - val_loss: 257100070912.0000\n",
      "Epoch 70/400\n",
      "12/12 [==============================] - 0s 3ms/step - loss: 72740610048.0000 - val_loss: 265580380160.0000\n",
      "Epoch 71/400\n",
      "12/12 [==============================] - 0s 3ms/step - loss: 69013438464.0000 - val_loss: 274048073728.0000\n",
      "Epoch 72/400\n",
      "12/12 [==============================] - 0s 3ms/step - loss: 65995231232.0000 - val_loss: 282558562304.0000\n",
      "Epoch 73/400\n",
      "12/12 [==============================] - 0s 3ms/step - loss: 63192322048.0000 - val_loss: 289844789248.0000\n",
      "Epoch 74/400\n",
      "12/12 [==============================] - 0s 3ms/step - loss: 60928884736.0000 - val_loss: 298080141312.0000\n",
      "Epoch 75/400\n",
      "12/12 [==============================] - 0s 3ms/step - loss: 58860867584.0000 - val_loss: 305079058432.0000\n",
      "Epoch 76/400\n",
      "12/12 [==============================] - 0s 3ms/step - loss: 57128615936.0000 - val_loss: 312146231296.0000\n",
      "Epoch 77/400\n",
      "12/12 [==============================] - 0s 3ms/step - loss: 55624331264.0000 - val_loss: 318834278400.0000\n",
      "Epoch 78/400\n",
      "12/12 [==============================] - 0s 3ms/step - loss: 54262501376.0000 - val_loss: 324314955776.0000\n",
      "Epoch 79/400\n",
      "12/12 [==============================] - 0s 3ms/step - loss: 53062631424.0000 - val_loss: 329443213312.0000\n",
      "Epoch 80/400\n",
      "12/12 [==============================] - 0s 3ms/step - loss: 51915620352.0000 - val_loss: 333833076736.0000\n",
      "Epoch 81/400\n",
      "12/12 [==============================] - 0s 3ms/step - loss: 50961166336.0000 - val_loss: 337876189184.0000\n",
      "Epoch 82/400\n",
      "12/12 [==============================] - 0s 3ms/step - loss: 49990381568.0000 - val_loss: 341024833536.0000\n",
      "Epoch 83/400\n",
      "12/12 [==============================] - 0s 3ms/step - loss: 49125228544.0000 - val_loss: 342735716352.0000\n",
      "Epoch 84/400\n",
      "12/12 [==============================] - 0s 3ms/step - loss: 48285380608.0000 - val_loss: 345297682432.0000\n",
      "Epoch 85/400\n",
      "12/12 [==============================] - 0s 3ms/step - loss: 47537655808.0000 - val_loss: 348066906112.0000\n",
      "Epoch 86/400\n",
      "12/12 [==============================] - 0s 3ms/step - loss: 46808666112.0000 - val_loss: 350420140032.0000\n",
      "Epoch 87/400\n",
      "12/12 [==============================] - 0s 3ms/step - loss: 46101360640.0000 - val_loss: 352253378560.0000\n",
      "Epoch 88/400\n",
      "12/12 [==============================] - 0s 3ms/step - loss: 45424271360.0000 - val_loss: 352725434368.0000\n",
      "Epoch 89/400\n",
      "12/12 [==============================] - 0s 2ms/step - loss: 44777660416.0000 - val_loss: 354575253504.0000\n",
      "Epoch 90/400\n",
      "12/12 [==============================] - 0s 3ms/step - loss: 44160192512.0000 - val_loss: 356512923648.0000\n",
      "Epoch 91/400\n",
      "12/12 [==============================] - 0s 3ms/step - loss: 43557363712.0000 - val_loss: 357944688640.0000\n",
      "Epoch 92/400\n",
      "12/12 [==============================] - 0s 3ms/step - loss: 42983235584.0000 - val_loss: 358942638080.0000\n",
      "Epoch 93/400\n",
      "12/12 [==============================] - 0s 3ms/step - loss: 42413289472.0000 - val_loss: 360255946752.0000\n",
      "Epoch 94/400\n",
      "12/12 [==============================] - 0s 3ms/step - loss: 41860255744.0000 - val_loss: 360614952960.0000\n",
      "Epoch 95/400\n",
      "12/12 [==============================] - 0s 3ms/step - loss: 41336328192.0000 - val_loss: 361331326976.0000\n",
      "Epoch 96/400\n",
      "12/12 [==============================] - 0s 3ms/step - loss: 40801316864.0000 - val_loss: 362491084800.0000\n",
      "Epoch 97/400\n",
      "12/12 [==============================] - 0s 3ms/step - loss: 40317849600.0000 - val_loss: 363749736448.0000\n",
      "Epoch 98/400\n",
      "12/12 [==============================] - 0s 3ms/step - loss: 39814299648.0000 - val_loss: 365135921152.0000\n",
      "Epoch 99/400\n",
      "12/12 [==============================] - 0s 3ms/step - loss: 39328968704.0000 - val_loss: 365225803776.0000\n",
      "Epoch 100/400\n",
      "12/12 [==============================] - 0s 3ms/step - loss: 38844006400.0000 - val_loss: 366627323904.0000\n",
      "Epoch 101/400\n",
      "12/12 [==============================] - 0s 3ms/step - loss: 38381146112.0000 - val_loss: 367975497728.0000\n",
      "Epoch 102/400\n",
      "12/12 [==============================] - 0s 3ms/step - loss: 37933748224.0000 - val_loss: 368624107520.0000\n",
      "Epoch 103/400\n",
      "12/12 [==============================] - 0s 4ms/step - loss: 37484294144.0000 - val_loss: 368855810048.0000\n",
      "Epoch 104/400\n",
      "12/12 [==============================] - 0s 3ms/step - loss: 37051076608.0000 - val_loss: 370190647296.0000\n",
      "Epoch 105/400\n",
      "12/12 [==============================] - 0s 3ms/step - loss: 36614295552.0000 - val_loss: 370923601920.0000\n",
      "Epoch 106/400\n",
      "12/12 [==============================] - 0s 3ms/step - loss: 36199600128.0000 - val_loss: 372136411136.0000\n",
      "Epoch 107/400\n",
      "12/12 [==============================] - 0s 3ms/step - loss: 35776774144.0000 - val_loss: 373236727808.0000\n",
      "Epoch 108/400\n",
      "12/12 [==============================] - 0s 3ms/step - loss: 35374415872.0000 - val_loss: 374271934464.0000\n",
      "Epoch 109/400\n",
      "12/12 [==============================] - 0s 3ms/step - loss: 34982375424.0000 - val_loss: 374603808768.0000\n",
      "Epoch 110/400\n",
      "12/12 [==============================] - 0s 3ms/step - loss: 34591973376.0000 - val_loss: 375957946368.0000\n",
      "Epoch 111/400\n",
      "12/12 [==============================] - 0s 3ms/step - loss: 34201575424.0000 - val_loss: 376681594880.0000\n",
      "Epoch 112/400\n",
      "12/12 [==============================] - 0s 3ms/step - loss: 33837250560.0000 - val_loss: 377191366656.0000\n",
      "Epoch 113/400\n",
      "12/12 [==============================] - 0s 3ms/step - loss: 33459838976.0000 - val_loss: 378316128256.0000\n",
      "Epoch 114/400\n",
      "12/12 [==============================] - 0s 3ms/step - loss: 33085079552.0000 - val_loss: 379005960192.0000\n",
      "Epoch 115/400\n",
      "12/12 [==============================] - 0s 3ms/step - loss: 32728582144.0000 - val_loss: 379193196544.0000\n",
      "Epoch 116/400\n",
      "12/12 [==============================] - 0s 3ms/step - loss: 32377321472.0000 - val_loss: 380987310080.0000\n",
      "Epoch 117/400\n",
      "12/12 [==============================] - 0s 3ms/step - loss: 32027115520.0000 - val_loss: 380917219328.0000\n",
      "Epoch 118/400\n",
      "12/12 [==============================] - 0s 3ms/step - loss: 31676336128.0000 - val_loss: 381641818112.0000\n",
      "Epoch 119/400\n",
      "12/12 [==============================] - 0s 3ms/step - loss: 31341363200.0000 - val_loss: 382666539008.0000\n",
      "Epoch 120/400\n",
      "12/12 [==============================] - 0s 3ms/step - loss: 31005222912.0000 - val_loss: 383585124352.0000\n",
      "Epoch 121/400\n",
      "12/12 [==============================] - 0s 3ms/step - loss: 30666063872.0000 - val_loss: 383744704512.0000\n",
      "Epoch 122/400\n",
      "12/12 [==============================] - 0s 3ms/step - loss: 30345336832.0000 - val_loss: 385371865088.0000\n",
      "Epoch 123/400\n",
      "12/12 [==============================] - 0s 3ms/step - loss: 30030862336.0000 - val_loss: 386982674432.0000\n",
      "Epoch 124/400\n",
      "12/12 [==============================] - 0s 3ms/step - loss: 29712476160.0000 - val_loss: 388185096192.0000\n",
      "Epoch 125/400\n",
      "12/12 [==============================] - 0s 3ms/step - loss: 29403799552.0000 - val_loss: 388186210304.0000\n",
      "Epoch 126/400\n",
      "12/12 [==============================] - 0s 3ms/step - loss: 29084293120.0000 - val_loss: 389737644032.0000\n",
      "Epoch 127/400\n",
      "12/12 [==============================] - 0s 3ms/step - loss: 28795131904.0000 - val_loss: 389871042560.0000\n",
      "Epoch 128/400\n",
      "12/12 [==============================] - 0s 3ms/step - loss: 28495996928.0000 - val_loss: 393288187904.0000\n",
      "Epoch 129/400\n",
      "12/12 [==============================] - 0s 3ms/step - loss: 28200214528.0000 - val_loss: 393498263552.0000\n",
      "Epoch 130/400\n",
      "12/12 [==============================] - 0s 3ms/step - loss: 27886010368.0000 - val_loss: 394492903424.0000\n",
      "Epoch 131/400\n",
      "12/12 [==============================] - 0s 3ms/step - loss: 27611830272.0000 - val_loss: 396361695232.0000\n",
      "Epoch 132/400\n",
      "12/12 [==============================] - 0s 3ms/step - loss: 27333156864.0000 - val_loss: 395740315648.0000\n",
      "Epoch 133/400\n",
      "12/12 [==============================] - 0s 4ms/step - loss: 27029583872.0000 - val_loss: 397309870080.0000\n",
      "Epoch 134/400\n",
      "12/12 [==============================] - 0s 3ms/step - loss: 26763925504.0000 - val_loss: 398477066240.0000\n",
      "Epoch 135/400\n"
     ]
    },
    {
     "name": "stdout",
     "output_type": "stream",
     "text": [
      "12/12 [==============================] - 0s 3ms/step - loss: 26484998144.0000 - val_loss: 400085549056.0000\n",
      "Epoch 136/400\n",
      "12/12 [==============================] - 0s 3ms/step - loss: 26218776576.0000 - val_loss: 400615538688.0000\n",
      "Epoch 137/400\n",
      "12/12 [==============================] - 0s 3ms/step - loss: 25940797440.0000 - val_loss: 402766135296.0000\n",
      "Epoch 138/400\n",
      "12/12 [==============================] - 0s 3ms/step - loss: 25675958272.0000 - val_loss: 403451707392.0000\n",
      "Epoch 139/400\n",
      "12/12 [==============================] - 0s 3ms/step - loss: 25412184064.0000 - val_loss: 404554252288.0000\n",
      "Epoch 140/400\n",
      "12/12 [==============================] - 0s 3ms/step - loss: 25146841088.0000 - val_loss: 406045458432.0000\n",
      "Epoch 141/400\n",
      "12/12 [==============================] - 0s 3ms/step - loss: 24891824128.0000 - val_loss: 406307635200.0000\n",
      "Epoch 142/400\n",
      "12/12 [==============================] - 0s 3ms/step - loss: 24639971328.0000 - val_loss: 407694278656.0000\n",
      "Epoch 143/400\n",
      "12/12 [==============================] - 0s 3ms/step - loss: 24397463552.0000 - val_loss: 407786389504.0000\n",
      "Epoch 144/400\n",
      "12/12 [==============================] - 0s 3ms/step - loss: 24144084992.0000 - val_loss: 408206606336.0000\n",
      "Epoch 145/400\n",
      "12/12 [==============================] - 0s 3ms/step - loss: 23886020608.0000 - val_loss: 409601376256.0000\n",
      "Epoch 146/400\n",
      "12/12 [==============================] - 0s 3ms/step - loss: 23644776448.0000 - val_loss: 412189655040.0000\n",
      "Epoch 147/400\n",
      "12/12 [==============================] - 0s 3ms/step - loss: 23406061568.0000 - val_loss: 413157621760.0000\n",
      "Epoch 148/400\n",
      "12/12 [==============================] - 0s 3ms/step - loss: 23172769792.0000 - val_loss: 412950462464.0000\n",
      "Epoch 149/400\n",
      "12/12 [==============================] - 0s 3ms/step - loss: 22925289472.0000 - val_loss: 414402904064.0000\n",
      "Epoch 150/400\n",
      "12/12 [==============================] - 0s 3ms/step - loss: 22695163904.0000 - val_loss: 415219515392.0000\n",
      "Epoch 151/400\n",
      "12/12 [==============================] - 0s 3ms/step - loss: 22462603264.0000 - val_loss: 415374049280.0000\n",
      "Epoch 152/400\n",
      "12/12 [==============================] - 0s 3ms/step - loss: 22230007808.0000 - val_loss: 416830849024.0000\n",
      "Epoch 153/400\n",
      "12/12 [==============================] - 0s 3ms/step - loss: 22017968128.0000 - val_loss: 418349023232.0000\n",
      "Epoch 154/400\n",
      "12/12 [==============================] - 0s 3ms/step - loss: 21786411008.0000 - val_loss: 419722821632.0000\n",
      "Epoch 155/400\n",
      "12/12 [==============================] - 0s 3ms/step - loss: 21569069056.0000 - val_loss: 420402429952.0000\n",
      "Epoch 156/400\n",
      "12/12 [==============================] - 0s 3ms/step - loss: 21341587456.0000 - val_loss: 419957932032.0000\n",
      "Epoch 157/400\n",
      "12/12 [==============================] - 0s 3ms/step - loss: 21136730112.0000 - val_loss: 421014372352.0000\n",
      "Epoch 158/400\n",
      "12/12 [==============================] - 0s 3ms/step - loss: 20911982592.0000 - val_loss: 422804291584.0000\n",
      "Epoch 159/400\n",
      "12/12 [==============================] - 0s 3ms/step - loss: 20701188096.0000 - val_loss: 422906888192.0000\n",
      "Epoch 160/400\n",
      "12/12 [==============================] - 0s 3ms/step - loss: 20488730624.0000 - val_loss: 422547652608.0000\n",
      "Epoch 161/400\n",
      "12/12 [==============================] - 0s 3ms/step - loss: 20273326080.0000 - val_loss: 424665350144.0000\n",
      "Epoch 162/400\n",
      "12/12 [==============================] - 0s 3ms/step - loss: 20068782080.0000 - val_loss: 425268510720.0000\n",
      "Epoch 163/400\n",
      "12/12 [==============================] - 0s 3ms/step - loss: 19865391104.0000 - val_loss: 425378938880.0000\n",
      "Epoch 164/400\n",
      "12/12 [==============================] - 0s 3ms/step - loss: 19658254336.0000 - val_loss: 426027089920.0000\n",
      "Epoch 165/400\n",
      "12/12 [==============================] - 0s 3ms/step - loss: 19464431616.0000 - val_loss: 427897323520.0000\n",
      "Epoch 166/400\n",
      "12/12 [==============================] - 0s 3ms/step - loss: 19263705088.0000 - val_loss: 428997935104.0000\n",
      "Epoch 167/400\n",
      "12/12 [==============================] - 0s 3ms/step - loss: 19074564096.0000 - val_loss: 430310096896.0000\n",
      "Epoch 168/400\n",
      "12/12 [==============================] - 0s 3ms/step - loss: 18866237440.0000 - val_loss: 430483341312.0000\n",
      "Epoch 169/400\n",
      "12/12 [==============================] - 0s 3ms/step - loss: 18679762944.0000 - val_loss: 431709814784.0000\n",
      "Epoch 170/400\n",
      "12/12 [==============================] - 0s 3ms/step - loss: 18491584512.0000 - val_loss: 432292069376.0000\n",
      "Epoch 171/400\n",
      "12/12 [==============================] - 0s 3ms/step - loss: 18300672000.0000 - val_loss: 433356832768.0000\n",
      "Epoch 172/400\n",
      "12/12 [==============================] - 0s 3ms/step - loss: 18120058880.0000 - val_loss: 433512939520.0000\n",
      "Epoch 173/400\n",
      "12/12 [==============================] - 0s 3ms/step - loss: 17930565632.0000 - val_loss: 434461933568.0000\n",
      "Epoch 174/400\n",
      "12/12 [==============================] - 0s 3ms/step - loss: 17748856832.0000 - val_loss: 436015497216.0000\n",
      "Epoch 175/400\n",
      "12/12 [==============================] - 0s 3ms/step - loss: 17573382144.0000 - val_loss: 436696842240.0000\n",
      "Epoch 176/400\n",
      "12/12 [==============================] - 0s 3ms/step - loss: 17394352128.0000 - val_loss: 438450192384.0000\n",
      "Epoch 177/400\n",
      "12/12 [==============================] - 0s 3ms/step - loss: 17215606784.0000 - val_loss: 439050928128.0000\n",
      "Epoch 178/400\n",
      "12/12 [==============================] - 0s 3ms/step - loss: 17039102976.0000 - val_loss: 439253237760.0000\n",
      "Epoch 179/400\n",
      "12/12 [==============================] - 0s 3ms/step - loss: 16867142656.0000 - val_loss: 440960155648.0000\n",
      "Epoch 180/400\n",
      "12/12 [==============================] - 0s 3ms/step - loss: 16695503872.0000 - val_loss: 441351634944.0000\n",
      "Epoch 181/400\n",
      "12/12 [==============================] - 0s 3ms/step - loss: 16525714432.0000 - val_loss: 441155452928.0000\n",
      "Epoch 182/400\n",
      "12/12 [==============================] - 0s 3ms/step - loss: 16364538880.0000 - val_loss: 442693025792.0000\n",
      "Epoch 183/400\n",
      "12/12 [==============================] - 0s 3ms/step - loss: 16197676032.0000 - val_loss: 442305871872.0000\n",
      "Epoch 184/400\n",
      "12/12 [==============================] - 0s 3ms/step - loss: 16033309696.0000 - val_loss: 443851145216.0000\n",
      "Epoch 185/400\n",
      "12/12 [==============================] - 0s 3ms/step - loss: 15871253504.0000 - val_loss: 443946467328.0000\n",
      "Epoch 186/400\n",
      "12/12 [==============================] - 0s 3ms/step - loss: 15704587264.0000 - val_loss: 445416144896.0000\n",
      "Epoch 187/400\n",
      "12/12 [==============================] - 0s 3ms/step - loss: 15549676544.0000 - val_loss: 444483534848.0000\n",
      "Epoch 188/400\n",
      "12/12 [==============================] - 0s 3ms/step - loss: 15394460672.0000 - val_loss: 445627465728.0000\n",
      "Epoch 189/400\n",
      "12/12 [==============================] - 0s 3ms/step - loss: 15239134208.0000 - val_loss: 445754834944.0000\n",
      "Epoch 190/400\n",
      "12/12 [==============================] - 0s 3ms/step - loss: 15098000384.0000 - val_loss: 445751820288.0000\n",
      "Epoch 191/400\n",
      "12/12 [==============================] - 0s 3ms/step - loss: 14931660800.0000 - val_loss: 447185092608.0000\n",
      "Epoch 192/400\n",
      "12/12 [==============================] - 0s 3ms/step - loss: 14785532928.0000 - val_loss: 448313098240.0000\n",
      "Epoch 193/400\n",
      "12/12 [==============================] - 0s 3ms/step - loss: 14640381952.0000 - val_loss: 448500072448.0000\n",
      "Epoch 194/400\n",
      "12/12 [==============================] - 0s 3ms/step - loss: 14491536384.0000 - val_loss: 447993872384.0000\n",
      "Epoch 195/400\n",
      "12/12 [==============================] - 0s 3ms/step - loss: 14344025088.0000 - val_loss: 449207009280.0000\n",
      "Epoch 196/400\n",
      "12/12 [==============================] - 0s 3ms/step - loss: 14205092864.0000 - val_loss: 450325577728.0000\n",
      "Epoch 197/400\n",
      "12/12 [==============================] - 0s 3ms/step - loss: 14058774528.0000 - val_loss: 449345519616.0000\n",
      "Epoch 198/400\n",
      "12/12 [==============================] - 0s 3ms/step - loss: 13922340864.0000 - val_loss: 450428403712.0000\n",
      "Epoch 199/400\n",
      "12/12 [==============================] - 0s 3ms/step - loss: 13785347072.0000 - val_loss: 449884979200.0000\n",
      "Epoch 200/400\n",
      "12/12 [==============================] - 0s 3ms/step - loss: 13647174656.0000 - val_loss: 450459959296.0000\n",
      "Epoch 201/400\n",
      "12/12 [==============================] - 0s 3ms/step - loss: 13508160512.0000 - val_loss: 450730131456.0000\n",
      "Epoch 202/400\n"
     ]
    },
    {
     "name": "stdout",
     "output_type": "stream",
     "text": [
      "12/12 [==============================] - 0s 3ms/step - loss: 13372259328.0000 - val_loss: 450479947776.0000\n",
      "Epoch 203/400\n",
      "12/12 [==============================] - 0s 3ms/step - loss: 13241949184.0000 - val_loss: 450125922304.0000\n",
      "Epoch 204/400\n",
      "12/12 [==============================] - 0s 3ms/step - loss: 13107007488.0000 - val_loss: 451797581824.0000\n",
      "Epoch 205/400\n",
      "12/12 [==============================] - 0s 3ms/step - loss: 12977527808.0000 - val_loss: 452255219712.0000\n",
      "Epoch 206/400\n",
      "12/12 [==============================] - 0s 3ms/step - loss: 12850750464.0000 - val_loss: 452104290304.0000\n",
      "Epoch 207/400\n",
      "12/12 [==============================] - 0s 3ms/step - loss: 12721359872.0000 - val_loss: 453468651520.0000\n",
      "Epoch 208/400\n",
      "12/12 [==============================] - 0s 3ms/step - loss: 12598125568.0000 - val_loss: 452857823232.0000\n",
      "Epoch 209/400\n",
      "12/12 [==============================] - 0s 3ms/step - loss: 12470521856.0000 - val_loss: 453499879424.0000\n",
      "Epoch 210/400\n",
      "12/12 [==============================] - 0s 3ms/step - loss: 12350510080.0000 - val_loss: 454151045120.0000\n",
      "Epoch 211/400\n",
      "12/12 [==============================] - 0s 3ms/step - loss: 12229377024.0000 - val_loss: 454739558400.0000\n",
      "Epoch 212/400\n",
      "12/12 [==============================] - 0s 3ms/step - loss: 12110131200.0000 - val_loss: 456029110272.0000\n",
      "Epoch 213/400\n",
      "12/12 [==============================] - 0s 3ms/step - loss: 11991202816.0000 - val_loss: 456068202496.0000\n",
      "Epoch 214/400\n",
      "12/12 [==============================] - 0s 3ms/step - loss: 11871969280.0000 - val_loss: 455634092032.0000\n",
      "Epoch 215/400\n",
      "12/12 [==============================] - 0s 3ms/step - loss: 11757583360.0000 - val_loss: 455767064576.0000\n",
      "Epoch 216/400\n",
      "12/12 [==============================] - 0s 3ms/step - loss: 11639717888.0000 - val_loss: 455538868224.0000\n",
      "Epoch 217/400\n",
      "12/12 [==============================] - 0s 3ms/step - loss: 11528055808.0000 - val_loss: 456117190656.0000\n",
      "Epoch 218/400\n",
      "12/12 [==============================] - 0s 3ms/step - loss: 11420445696.0000 - val_loss: 457318268928.0000\n",
      "Epoch 219/400\n",
      "12/12 [==============================] - 0s 3ms/step - loss: 11315310592.0000 - val_loss: 456463089664.0000\n",
      "Epoch 220/400\n",
      "12/12 [==============================] - 0s 3ms/step - loss: 11205061632.0000 - val_loss: 458204479488.0000\n",
      "Epoch 221/400\n",
      "12/12 [==============================] - 0s 3ms/step - loss: 11099219968.0000 - val_loss: 459103830016.0000\n",
      "Epoch 222/400\n",
      "12/12 [==============================] - 0s 3ms/step - loss: 10993376256.0000 - val_loss: 459833409536.0000\n",
      "Epoch 223/400\n",
      "12/12 [==============================] - 0s 3ms/step - loss: 10889849856.0000 - val_loss: 458719494144.0000\n",
      "Epoch 224/400\n",
      "12/12 [==============================] - 0s 3ms/step - loss: 10793772032.0000 - val_loss: 458380476416.0000\n",
      "Epoch 225/400\n",
      "12/12 [==============================] - 0s 3ms/step - loss: 10695838720.0000 - val_loss: 459028692992.0000\n",
      "Epoch 226/400\n",
      "12/12 [==============================] - 0s 3ms/step - loss: 10604722176.0000 - val_loss: 458249240576.0000\n",
      "Epoch 227/400\n",
      "12/12 [==============================] - 0s 3ms/step - loss: 10500841472.0000 - val_loss: 458967842816.0000\n",
      "Epoch 228/400\n",
      "12/12 [==============================] - 0s 3ms/step - loss: 10410960896.0000 - val_loss: 458447421440.0000\n",
      "Epoch 229/400\n",
      "12/12 [==============================] - 0s 3ms/step - loss: 10313583616.0000 - val_loss: 460029100032.0000\n",
      "Epoch 230/400\n",
      "12/12 [==============================] - 0s 3ms/step - loss: 10220053504.0000 - val_loss: 460244516864.0000\n",
      "Epoch 231/400\n",
      "12/12 [==============================] - 0s 3ms/step - loss: 10130330624.0000 - val_loss: 461234307072.0000\n",
      "Epoch 232/400\n",
      "12/12 [==============================] - 0s 3ms/step - loss: 10044662784.0000 - val_loss: 461247610880.0000\n",
      "Epoch 233/400\n",
      "12/12 [==============================] - 0s 3ms/step - loss: 9960139776.0000 - val_loss: 461097992192.0000\n",
      "Epoch 234/400\n",
      "12/12 [==============================] - 0s 3ms/step - loss: 9873727488.0000 - val_loss: 461432160256.0000\n",
      "Epoch 235/400\n",
      "12/12 [==============================] - 0s 3ms/step - loss: 9783604224.0000 - val_loss: 461600129024.0000\n",
      "Epoch 236/400\n",
      "12/12 [==============================] - 0s 3ms/step - loss: 9700744192.0000 - val_loss: 460148506624.0000\n",
      "Epoch 237/400\n",
      "12/12 [==============================] - 0s 3ms/step - loss: 9618538496.0000 - val_loss: 462568488960.0000\n",
      "Epoch 238/400\n",
      "12/12 [==============================] - 0s 3ms/step - loss: 9533306880.0000 - val_loss: 460438929408.0000\n",
      "Epoch 239/400\n",
      "12/12 [==============================] - 0s 3ms/step - loss: 9457818624.0000 - val_loss: 461871742976.0000\n",
      "Epoch 240/400\n",
      "12/12 [==============================] - 0s 3ms/step - loss: 9380670464.0000 - val_loss: 461186170880.0000\n",
      "Epoch 241/400\n",
      "12/12 [==============================] - 0s 3ms/step - loss: 9300866048.0000 - val_loss: 460265029632.0000\n",
      "Epoch 242/400\n",
      "12/12 [==============================] - 0s 3ms/step - loss: 9227389952.0000 - val_loss: 461157007360.0000\n",
      "Epoch 243/400\n",
      "12/12 [==============================] - 0s 3ms/step - loss: 9148715008.0000 - val_loss: 461307117568.0000\n",
      "Epoch 244/400\n",
      "12/12 [==============================] - 0s 3ms/step - loss: 9073060864.0000 - val_loss: 460991365120.0000\n",
      "Epoch 245/400\n",
      "12/12 [==============================] - 0s 3ms/step - loss: 8998174720.0000 - val_loss: 459794153472.0000\n",
      "Epoch 246/400\n",
      "12/12 [==============================] - 0s 3ms/step - loss: 8927759360.0000 - val_loss: 459819515904.0000\n",
      "Epoch 247/400\n",
      "12/12 [==============================] - 0s 3ms/step - loss: 8858881024.0000 - val_loss: 461323173888.0000\n",
      "Epoch 248/400\n",
      "12/12 [==============================] - 0s 3ms/step - loss: 8786583552.0000 - val_loss: 459889672192.0000\n",
      "Epoch 249/400\n",
      "12/12 [==============================] - 0s 3ms/step - loss: 8710620160.0000 - val_loss: 459993284608.0000\n",
      "Epoch 250/400\n",
      "12/12 [==============================] - 0s 3ms/step - loss: 8644282368.0000 - val_loss: 459303092224.0000\n",
      "Epoch 251/400\n",
      "12/12 [==============================] - 0s 3ms/step - loss: 8574617088.0000 - val_loss: 459858477056.0000\n",
      "Epoch 252/400\n",
      "12/12 [==============================] - 0s 3ms/step - loss: 8507066368.0000 - val_loss: 460842893312.0000\n",
      "Epoch 253/400\n",
      "12/12 [==============================] - 0s 3ms/step - loss: 8436203520.0000 - val_loss: 459648237568.0000\n",
      "Epoch 254/400\n",
      "12/12 [==============================] - 0s 3ms/step - loss: 8363426304.0000 - val_loss: 458701012992.0000\n",
      "Epoch 255/400\n",
      "12/12 [==============================] - 0s 3ms/step - loss: 8293654528.0000 - val_loss: 458829692928.0000\n",
      "Epoch 256/400\n",
      "12/12 [==============================] - 0s 3ms/step - loss: 8230958592.0000 - val_loss: 458693869568.0000\n",
      "Epoch 257/400\n",
      "12/12 [==============================] - 0s 3ms/step - loss: 8159510528.0000 - val_loss: 460049514496.0000\n",
      "Epoch 258/400\n",
      "12/12 [==============================] - 0s 3ms/step - loss: 8095766528.0000 - val_loss: 459264950272.0000\n",
      "Epoch 259/400\n",
      "12/12 [==============================] - 0s 3ms/step - loss: 8024061952.0000 - val_loss: 460357402624.0000\n",
      "Epoch 260/400\n",
      "12/12 [==============================] - 0s 3ms/step - loss: 7962724352.0000 - val_loss: 458967711744.0000\n",
      "Epoch 261/400\n",
      "12/12 [==============================] - 0s 3ms/step - loss: 7895633920.0000 - val_loss: 457112256512.0000\n",
      "Epoch 262/400\n",
      "12/12 [==============================] - 0s 3ms/step - loss: 7835709440.0000 - val_loss: 456676311040.0000\n",
      "Epoch 263/400\n",
      "12/12 [==============================] - 0s 3ms/step - loss: 7775238656.0000 - val_loss: 457958326272.0000\n",
      "Epoch 264/400\n",
      "12/12 [==============================] - 0s 3ms/step - loss: 7708913664.0000 - val_loss: 457476374528.0000\n",
      "Epoch 265/400\n",
      "12/12 [==============================] - 0s 3ms/step - loss: 7649790464.0000 - val_loss: 456693547008.0000\n",
      "Epoch 266/400\n",
      "12/12 [==============================] - 0s 3ms/step - loss: 7589935616.0000 - val_loss: 455166492672.0000\n",
      "Epoch 267/400\n",
      "12/12 [==============================] - 0s 3ms/step - loss: 7533860352.0000 - val_loss: 455103938560.0000\n",
      "Epoch 268/400\n",
      "12/12 [==============================] - 0s 3ms/step - loss: 7473735680.0000 - val_loss: 455314669568.0000\n",
      "Epoch 269/400\n"
     ]
    },
    {
     "name": "stdout",
     "output_type": "stream",
     "text": [
      "12/12 [==============================] - 0s 3ms/step - loss: 7417503232.0000 - val_loss: 455085424640.0000\n",
      "Epoch 270/400\n",
      "12/12 [==============================] - 0s 3ms/step - loss: 7363739648.0000 - val_loss: 453816418304.0000\n",
      "Epoch 271/400\n",
      "12/12 [==============================] - 0s 3ms/step - loss: 7310217216.0000 - val_loss: 453351833600.0000\n",
      "Epoch 272/400\n",
      "12/12 [==============================] - 0s 3ms/step - loss: 7253851648.0000 - val_loss: 452995055616.0000\n",
      "Epoch 273/400\n",
      "12/12 [==============================] - 0s 3ms/step - loss: 7201064960.0000 - val_loss: 451500113920.0000\n",
      "Epoch 274/400\n",
      "12/12 [==============================] - 0s 3ms/step - loss: 7146014720.0000 - val_loss: 451884056576.0000\n",
      "Epoch 275/400\n",
      "12/12 [==============================] - 0s 3ms/step - loss: 7095779328.0000 - val_loss: 451116302336.0000\n",
      "Epoch 276/400\n",
      "12/12 [==============================] - 0s 3ms/step - loss: 7044112384.0000 - val_loss: 450800386048.0000\n",
      "Epoch 277/400\n",
      "12/12 [==============================] - 0s 3ms/step - loss: 6996365824.0000 - val_loss: 451155001344.0000\n",
      "Epoch 278/400\n",
      "12/12 [==============================] - 0s 3ms/step - loss: 6947884544.0000 - val_loss: 449998782464.0000\n",
      "Epoch 279/400\n",
      "12/12 [==============================] - 0s 3ms/step - loss: 6900222464.0000 - val_loss: 450061991936.0000\n",
      "Epoch 280/400\n",
      "12/12 [==============================] - 0s 3ms/step - loss: 6850445824.0000 - val_loss: 449365114880.0000\n",
      "Epoch 281/400\n",
      "12/12 [==============================] - 0s 3ms/step - loss: 6806300160.0000 - val_loss: 449197998080.0000\n",
      "Epoch 282/400\n",
      "12/12 [==============================] - 0s 3ms/step - loss: 6758697472.0000 - val_loss: 447416762368.0000\n",
      "Epoch 283/400\n",
      "12/12 [==============================] - 0s 3ms/step - loss: 6713432576.0000 - val_loss: 447465652224.0000\n",
      "Epoch 284/400\n",
      "12/12 [==============================] - 0s 3ms/step - loss: 6668161536.0000 - val_loss: 446680104960.0000\n",
      "Epoch 285/400\n",
      "12/12 [==============================] - 0s 3ms/step - loss: 6625132032.0000 - val_loss: 446412029952.0000\n",
      "Epoch 286/400\n",
      "12/12 [==============================] - 0s 3ms/step - loss: 6585738752.0000 - val_loss: 444892282880.0000\n",
      "Epoch 287/400\n",
      "12/12 [==============================] - 0s 3ms/step - loss: 6545140224.0000 - val_loss: 444435464192.0000\n",
      "Epoch 288/400\n",
      "12/12 [==============================] - 0s 3ms/step - loss: 6500784640.0000 - val_loss: 443026309120.0000\n",
      "Epoch 289/400\n",
      "12/12 [==============================] - 0s 3ms/step - loss: 6461902848.0000 - val_loss: 441391054848.0000\n",
      "Epoch 290/400\n",
      "12/12 [==============================] - 0s 3ms/step - loss: 6423507456.0000 - val_loss: 441564430336.0000\n",
      "Epoch 291/400\n",
      "12/12 [==============================] - 0s 3ms/step - loss: 6385008640.0000 - val_loss: 440885608448.0000\n",
      "Epoch 292/400\n",
      "12/12 [==============================] - 0s 3ms/step - loss: 6346923520.0000 - val_loss: 440847433728.0000\n",
      "Epoch 293/400\n",
      "12/12 [==============================] - 0s 3ms/step - loss: 6315491840.0000 - val_loss: 440695652352.0000\n",
      "Epoch 294/400\n",
      "12/12 [==============================] - 0s 3ms/step - loss: 6277506560.0000 - val_loss: 439161815040.0000\n",
      "Epoch 295/400\n",
      "12/12 [==============================] - 0s 3ms/step - loss: 6239174656.0000 - val_loss: 439632953344.0000\n",
      "Epoch 296/400\n",
      "12/12 [==============================] - 0s 3ms/step - loss: 6207668736.0000 - val_loss: 438391537664.0000\n",
      "Epoch 297/400\n",
      "12/12 [==============================] - 0s 4ms/step - loss: 6175160832.0000 - val_loss: 437340831744.0000\n",
      "Epoch 298/400\n",
      "12/12 [==============================] - 0s 3ms/step - loss: 6142982144.0000 - val_loss: 437834842112.0000\n",
      "Epoch 299/400\n",
      "12/12 [==============================] - 0s 3ms/step - loss: 6106914816.0000 - val_loss: 437140881408.0000\n",
      "Epoch 300/400\n",
      "12/12 [==============================] - 0s 3ms/step - loss: 6078224896.0000 - val_loss: 436739833856.0000\n",
      "Epoch 301/400\n",
      "12/12 [==============================] - 0s 3ms/step - loss: 6048136704.0000 - val_loss: 435058802688.0000\n",
      "Epoch 302/400\n",
      "12/12 [==============================] - 0s 3ms/step - loss: 6012943872.0000 - val_loss: 435265699840.0000\n",
      "Epoch 303/400\n",
      "12/12 [==============================] - 0s 3ms/step - loss: 5982477824.0000 - val_loss: 435025018880.0000\n",
      "Epoch 304/400\n",
      "12/12 [==============================] - 0s 3ms/step - loss: 5955480064.0000 - val_loss: 434680430592.0000\n",
      "Epoch 305/400\n",
      "12/12 [==============================] - 0s 3ms/step - loss: 5923276800.0000 - val_loss: 432260022272.0000\n",
      "Epoch 306/400\n",
      "12/12 [==============================] - 0s 3ms/step - loss: 5893596672.0000 - val_loss: 432623812608.0000\n",
      "Epoch 307/400\n",
      "12/12 [==============================] - 0s 3ms/step - loss: 5864894464.0000 - val_loss: 432030547968.0000\n",
      "Epoch 308/400\n",
      "12/12 [==============================] - 0s 3ms/step - loss: 5839451648.0000 - val_loss: 429783482368.0000\n",
      "Epoch 309/400\n",
      "12/12 [==============================] - 0s 3ms/step - loss: 5819721728.0000 - val_loss: 431951872000.0000\n",
      "Epoch 310/400\n",
      "12/12 [==============================] - 0s 3ms/step - loss: 5782589952.0000 - val_loss: 428920930304.0000\n",
      "Epoch 311/400\n",
      "12/12 [==============================] - 0s 3ms/step - loss: 5755347456.0000 - val_loss: 427583471616.0000\n",
      "Epoch 312/400\n",
      "12/12 [==============================] - 0s 3ms/step - loss: 5730721792.0000 - val_loss: 427125178368.0000\n",
      "Epoch 313/400\n",
      "12/12 [==============================] - 0s 3ms/step - loss: 5703549440.0000 - val_loss: 427882938368.0000\n",
      "Epoch 314/400\n",
      "12/12 [==============================] - 0s 3ms/step - loss: 5676741120.0000 - val_loss: 426816503808.0000\n",
      "Epoch 315/400\n",
      "12/12 [==============================] - 0s 3ms/step - loss: 5651990528.0000 - val_loss: 425922396160.0000\n",
      "Epoch 316/400\n",
      "12/12 [==============================] - 0s 3ms/step - loss: 5629121024.0000 - val_loss: 425703473152.0000\n",
      "Epoch 317/400\n",
      "12/12 [==============================] - 0s 3ms/step - loss: 5599762432.0000 - val_loss: 424709521408.0000\n",
      "Epoch 318/400\n",
      "12/12 [==============================] - 0s 3ms/step - loss: 5576969728.0000 - val_loss: 423719469056.0000\n",
      "Epoch 319/400\n",
      "12/12 [==============================] - 0s 3ms/step - loss: 5552517632.0000 - val_loss: 422972358656.0000\n",
      "Epoch 320/400\n",
      "12/12 [==============================] - 0s 3ms/step - loss: 5532812800.0000 - val_loss: 421005492224.0000\n",
      "Epoch 321/400\n",
      "12/12 [==============================] - 0s 3ms/step - loss: 5503934976.0000 - val_loss: 421226479616.0000\n",
      "Epoch 322/400\n",
      "12/12 [==============================] - 0s 3ms/step - loss: 5481083392.0000 - val_loss: 421439143936.0000\n",
      "Epoch 323/400\n",
      "12/12 [==============================] - 0s 3ms/step - loss: 5458887168.0000 - val_loss: 420549099520.0000\n",
      "Epoch 324/400\n",
      "12/12 [==============================] - 0s 3ms/step - loss: 5433610752.0000 - val_loss: 419551379456.0000\n",
      "Epoch 325/400\n",
      "12/12 [==============================] - 0s 3ms/step - loss: 5415335424.0000 - val_loss: 417606893568.0000\n",
      "Epoch 326/400\n",
      "12/12 [==============================] - 0s 3ms/step - loss: 5390845440.0000 - val_loss: 418005680128.0000\n",
      "Epoch 327/400\n",
      "12/12 [==============================] - 0s 3ms/step - loss: 5368053760.0000 - val_loss: 417152991232.0000\n",
      "Epoch 328/400\n",
      "12/12 [==============================] - 0s 3ms/step - loss: 5348074496.0000 - val_loss: 416107102208.0000\n",
      "Epoch 329/400\n",
      "12/12 [==============================] - 0s 3ms/step - loss: 5328028672.0000 - val_loss: 416165560320.0000\n",
      "Epoch 330/400\n",
      "12/12 [==============================] - 0s 3ms/step - loss: 5305789952.0000 - val_loss: 414286184448.0000\n",
      "Epoch 331/400\n",
      "12/12 [==============================] - 0s 3ms/step - loss: 5282323968.0000 - val_loss: 413920034816.0000\n",
      "Epoch 332/400\n",
      "12/12 [==============================] - 0s 3ms/step - loss: 5264542208.0000 - val_loss: 412393799680.0000\n",
      "Epoch 333/400\n",
      "12/12 [==============================] - 0s 3ms/step - loss: 5249071104.0000 - val_loss: 412670656512.0000\n",
      "Epoch 334/400\n",
      "12/12 [==============================] - 0s 3ms/step - loss: 5226146816.0000 - val_loss: 411625816064.0000\n",
      "Epoch 335/400\n",
      "12/12 [==============================] - 0s 3ms/step - loss: 5208721408.0000 - val_loss: 411592327168.0000\n",
      "Epoch 336/400\n",
      "12/12 [==============================] - 0s 3ms/step - loss: 5191474176.0000 - val_loss: 409992298496.0000\n"
     ]
    },
    {
     "name": "stdout",
     "output_type": "stream",
     "text": [
      "Epoch 337/400\n",
      "12/12 [==============================] - 0s 3ms/step - loss: 5169474560.0000 - val_loss: 407877222400.0000\n",
      "Epoch 338/400\n",
      "12/12 [==============================] - 0s 3ms/step - loss: 5152188928.0000 - val_loss: 406673162240.0000\n",
      "Epoch 339/400\n",
      "12/12 [==============================] - 0s 3ms/step - loss: 5135429120.0000 - val_loss: 405078376448.0000\n",
      "Epoch 340/400\n",
      "12/12 [==============================] - 0s 3ms/step - loss: 5122592256.0000 - val_loss: 405281570816.0000\n",
      "Epoch 341/400\n",
      "12/12 [==============================] - 0s 3ms/step - loss: 5102157824.0000 - val_loss: 403777224704.0000\n",
      "Epoch 342/400\n",
      "12/12 [==============================] - 0s 3ms/step - loss: 5085777408.0000 - val_loss: 402427740160.0000\n",
      "Epoch 343/400\n",
      "12/12 [==============================] - 0s 3ms/step - loss: 5073078784.0000 - val_loss: 403394035712.0000\n",
      "Epoch 344/400\n",
      "12/12 [==============================] - 0s 3ms/step - loss: 5056763904.0000 - val_loss: 400613441536.0000\n",
      "Epoch 345/400\n",
      "12/12 [==============================] - 0s 3ms/step - loss: 5039044608.0000 - val_loss: 400753983488.0000\n",
      "Epoch 346/400\n",
      "12/12 [==============================] - 0s 3ms/step - loss: 5022358016.0000 - val_loss: 399901130752.0000\n",
      "Epoch 347/400\n",
      "12/12 [==============================] - 0s 3ms/step - loss: 5008315904.0000 - val_loss: 398736982016.0000\n",
      "Epoch 348/400\n",
      "12/12 [==============================] - 0s 3ms/step - loss: 4989778944.0000 - val_loss: 397594230784.0000\n",
      "Epoch 349/400\n",
      "12/12 [==============================] - 0s 3ms/step - loss: 4977900032.0000 - val_loss: 395549343744.0000\n",
      "Epoch 350/400\n",
      "12/12 [==============================] - 0s 3ms/step - loss: 4959879680.0000 - val_loss: 395961401344.0000\n",
      "Epoch 351/400\n",
      "12/12 [==============================] - 0s 3ms/step - loss: 4945129984.0000 - val_loss: 394330701824.0000\n",
      "Epoch 352/400\n",
      "12/12 [==============================] - 0s 3ms/step - loss: 4932703744.0000 - val_loss: 395040227328.0000\n",
      "Epoch 353/400\n",
      "12/12 [==============================] - 0s 3ms/step - loss: 4918049792.0000 - val_loss: 392972500992.0000\n",
      "Epoch 354/400\n",
      "12/12 [==============================] - 0s 3ms/step - loss: 4906731008.0000 - val_loss: 390402277376.0000\n",
      "Epoch 355/400\n",
      "12/12 [==============================] - 0s 3ms/step - loss: 4889313792.0000 - val_loss: 389941329920.0000\n",
      "Epoch 356/400\n",
      "12/12 [==============================] - 0s 3ms/step - loss: 4874560000.0000 - val_loss: 389548081152.0000\n",
      "Epoch 357/400\n",
      "12/12 [==============================] - 0s 3ms/step - loss: 4863434240.0000 - val_loss: 390252101632.0000\n",
      "Epoch 358/400\n",
      "12/12 [==============================] - 0s 3ms/step - loss: 4848672256.0000 - val_loss: 387371433984.0000\n",
      "Epoch 359/400\n",
      "12/12 [==============================] - 0s 3ms/step - loss: 4833346048.0000 - val_loss: 387129835520.0000\n",
      "Epoch 360/400\n",
      "12/12 [==============================] - 0s 3ms/step - loss: 4821417984.0000 - val_loss: 386370273280.0000\n",
      "Epoch 361/400\n",
      "12/12 [==============================] - 0s 3ms/step - loss: 4808367104.0000 - val_loss: 386221277184.0000\n",
      "Epoch 362/400\n",
      "12/12 [==============================] - 0s 3ms/step - loss: 4794883584.0000 - val_loss: 384475004928.0000\n",
      "Epoch 363/400\n",
      "12/12 [==============================] - 0s 3ms/step - loss: 4783929856.0000 - val_loss: 383996035072.0000\n",
      "Epoch 364/400\n",
      "12/12 [==============================] - 0s 3ms/step - loss: 4768556032.0000 - val_loss: 381270753280.0000\n",
      "Epoch 365/400\n",
      "12/12 [==============================] - 0s 3ms/step - loss: 4756886528.0000 - val_loss: 381238050816.0000\n",
      "Epoch 366/400\n",
      "12/12 [==============================] - 0s 3ms/step - loss: 4742867456.0000 - val_loss: 380936290304.0000\n",
      "Epoch 367/400\n",
      "12/12 [==============================] - 0s 3ms/step - loss: 4730286592.0000 - val_loss: 380319236096.0000\n",
      "Epoch 368/400\n",
      "12/12 [==============================] - 0s 3ms/step - loss: 4715327488.0000 - val_loss: 380127117312.0000\n",
      "Epoch 369/400\n",
      "12/12 [==============================] - 0s 3ms/step - loss: 4705638912.0000 - val_loss: 379094663168.0000\n",
      "Epoch 370/400\n",
      "12/12 [==============================] - 0s 3ms/step - loss: 4693479936.0000 - val_loss: 377221021696.0000\n",
      "Epoch 371/400\n",
      "12/12 [==============================] - 0s 3ms/step - loss: 4684794368.0000 - val_loss: 375418454016.0000\n",
      "Epoch 372/400\n",
      "12/12 [==============================] - 0s 3ms/step - loss: 4669372416.0000 - val_loss: 374640476160.0000\n",
      "Epoch 373/400\n",
      "12/12 [==============================] - 0s 3ms/step - loss: 4661420544.0000 - val_loss: 375722442752.0000\n",
      "Epoch 374/400\n",
      "12/12 [==============================] - 0s 3ms/step - loss: 4648439808.0000 - val_loss: 374663282688.0000\n",
      "Epoch 375/400\n",
      "12/12 [==============================] - 0s 3ms/step - loss: 4639180288.0000 - val_loss: 372589166592.0000\n",
      "Epoch 376/400\n",
      "12/12 [==============================] - 0s 3ms/step - loss: 4630280704.0000 - val_loss: 371099631616.0000\n",
      "Epoch 377/400\n",
      "12/12 [==============================] - 0s 3ms/step - loss: 4615547392.0000 - val_loss: 370454659072.0000\n",
      "Epoch 378/400\n",
      "12/12 [==============================] - 0s 3ms/step - loss: 4604264960.0000 - val_loss: 370050826240.0000\n",
      "Epoch 379/400\n",
      "12/12 [==============================] - 0s 3ms/step - loss: 4598065152.0000 - val_loss: 368348758016.0000\n",
      "Epoch 380/400\n",
      "12/12 [==============================] - 0s 3ms/step - loss: 4587502080.0000 - val_loss: 368259825664.0000\n",
      "Epoch 381/400\n",
      "12/12 [==============================] - 0s 3ms/step - loss: 4576778752.0000 - val_loss: 367656960000.0000\n",
      "Epoch 382/400\n",
      "12/12 [==============================] - 0s 3ms/step - loss: 4568584192.0000 - val_loss: 366857322496.0000\n",
      "Epoch 383/400\n",
      "12/12 [==============================] - 0s 3ms/step - loss: 4566569472.0000 - val_loss: 364758335488.0000\n",
      "Epoch 384/400\n",
      "12/12 [==============================] - 0s 3ms/step - loss: 4548966912.0000 - val_loss: 364168118272.0000\n",
      "Epoch 385/400\n",
      "12/12 [==============================] - 0s 3ms/step - loss: 4536583680.0000 - val_loss: 363648253952.0000\n",
      "Epoch 386/400\n",
      "12/12 [==============================] - 0s 3ms/step - loss: 4530561536.0000 - val_loss: 362882105344.0000\n",
      "Epoch 387/400\n",
      "12/12 [==============================] - 0s 4ms/step - loss: 4519780352.0000 - val_loss: 361130131456.0000\n",
      "Epoch 388/400\n",
      "12/12 [==============================] - 0s 3ms/step - loss: 4509884928.0000 - val_loss: 359176208384.0000\n",
      "Epoch 389/400\n",
      "12/12 [==============================] - 0s 3ms/step - loss: 4501787136.0000 - val_loss: 357924339712.0000\n",
      "Epoch 390/400\n",
      "12/12 [==============================] - 0s 3ms/step - loss: 4495675392.0000 - val_loss: 357869715456.0000\n",
      "Epoch 391/400\n",
      "12/12 [==============================] - 0s 3ms/step - loss: 4484997632.0000 - val_loss: 358609453056.0000\n",
      "Epoch 392/400\n",
      "12/12 [==============================] - 0s 3ms/step - loss: 4478200320.0000 - val_loss: 357164646400.0000\n",
      "Epoch 393/400\n",
      "12/12 [==============================] - 0s 3ms/step - loss: 4469789184.0000 - val_loss: 356468097024.0000\n",
      "Epoch 394/400\n",
      "12/12 [==============================] - 0s 3ms/step - loss: 4460219392.0000 - val_loss: 354561196032.0000\n",
      "Epoch 395/400\n",
      "12/12 [==============================] - 0s 3ms/step - loss: 4453574656.0000 - val_loss: 354226864128.0000\n",
      "Epoch 396/400\n",
      "12/12 [==============================] - 0s 3ms/step - loss: 4446155264.0000 - val_loss: 353531461632.0000\n",
      "Epoch 397/400\n",
      "12/12 [==============================] - 0s 3ms/step - loss: 4438914560.0000 - val_loss: 352964575232.0000\n",
      "Epoch 398/400\n",
      "12/12 [==============================] - 0s 3ms/step - loss: 4431558144.0000 - val_loss: 353854881792.0000\n",
      "Epoch 399/400\n",
      "12/12 [==============================] - 0s 3ms/step - loss: 4422980096.0000 - val_loss: 353351237632.0000\n",
      "Epoch 400/400\n",
      "12/12 [==============================] - 0s 3ms/step - loss: 4416512512.0000 - val_loss: 351789383680.0000\n"
     ]
    },
    {
     "data": {
      "text/plain": [
       "<tensorflow.python.keras.callbacks.History at 0x1dedc8bf9c8>"
      ]
     },
     "execution_count": 35,
     "metadata": {},
     "output_type": "execute_result"
    }
   ],
   "source": [
    "model.fit(x=X_train,y=y_train,\n",
    "          validation_data=(X_test,y_test),\n",
    "          batch_size=128,epochs=400)"
   ]
  },
  {
   "cell_type": "code",
   "execution_count": 36,
   "metadata": {},
   "outputs": [
    {
     "name": "stdout",
     "output_type": "stream",
     "text": [
      "Model: \"sequential\"\n",
      "_________________________________________________________________\n",
      "Layer (type)                 Output Shape              Param #   \n",
      "=================================================================\n",
      "dense (Dense)                (None, 12)                144       \n",
      "_________________________________________________________________\n",
      "dense_1 (Dense)              (None, 12)                156       \n",
      "_________________________________________________________________\n",
      "dense_2 (Dense)              (None, 12)                156       \n",
      "_________________________________________________________________\n",
      "dense_3 (Dense)              (None, 12)                156       \n",
      "_________________________________________________________________\n",
      "dense_4 (Dense)              (None, 1)                 13        \n",
      "=================================================================\n",
      "Total params: 625\n",
      "Trainable params: 625\n",
      "Non-trainable params: 0\n",
      "_________________________________________________________________\n"
     ]
    }
   ],
   "source": [
    "model.summary()"
   ]
  },
  {
   "cell_type": "code",
   "execution_count": 37,
   "metadata": {},
   "outputs": [
    {
     "data": {
      "text/plain": [
       "<matplotlib.axes._subplots.AxesSubplot at 0x1deddd491c8>"
      ]
     },
     "execution_count": 37,
     "metadata": {},
     "output_type": "execute_result"
    },
    {
     "data": {
      "image/png": "[encoded data removed]",
      "text/plain": [
       "<Figure size 864x576 with 1 Axes>"
      ]
     },
     "metadata": {
      "needs_background": "light"
     },
     "output_type": "display_data"
    }
   ],
   "source": [
    "loss_df = pd.DataFrame(model.history.history)\n",
    "loss_df.plot(figsize=(12,8))"
   ]
  },
  {
   "cell_type": "code",
   "execution_count": 38,
   "metadata": {},
   "outputs": [],
   "source": [
    "y_pred = model.predict(X_test)"
   ]
  },
  {
   "cell_type": "code",
   "execution_count": 39,
   "metadata": {},
   "outputs": [
    {
     "name": "stdout",
     "output_type": "stream",
     "text": [
      "Mean Absolute Error: 69884.79\n",
      "Mean Squared Error: 351789399182.07\n",
      "Root Mean Squared Error: 593118.37\n",
      "Variance score is: -4.56\n"
     ]
    }
   ],
   "source": [
    "from sklearn import metrics\n",
    "\n",
    "print('Mean Absolute Error: {:.2f}'.format(metrics.mean_absolute_error(y_test, y_pred)))\n",
    "print('Mean Squared Error: {:.2f}'.format(metrics.mean_squared_error(y_test, y_pred)))\n",
    "print('Root Mean Squared Error: {:.2f}'.format(np.sqrt(metrics.mean_squared_error(y_test, y_pred))))\n",
    "print('Variance score is: {:.2f}'.format(metrics.explained_variance_score(y_test,y_pred)))"
   ]
  },
  {
   "cell_type": "code",
   "execution_count": null,
   "metadata": {},
   "outputs": [],
   "source": []
  },
  {
   "cell_type": "code",
   "execution_count": null,
   "metadata": {},
   "outputs": [],
   "source": []
  },
  {
   "cell_type": "code",
   "execution_count": null,
   "metadata": {},
   "outputs": [],
   "source": []
  },
  {
   "cell_type": "code",
   "execution_count": null,
   "metadata": {},
   "outputs": [],
   "source": []
  },
  {
   "cell_type": "markdown",
   "metadata": {},
   "source": [
    "## Testing the Models"
   ]
  },
  {
   "cell_type": "code",
   "execution_count": 40,
   "metadata": {},
   "outputs": [],
   "source": [
    "house = Data.drop('PRICE',axis = 1).iloc[1]"
   ]
  },
  {
   "cell_type": "code",
   "execution_count": 42,
   "metadata": {},
   "outputs": [],
   "source": [
    "house = s_scaler.transform(house.values.reshape(-1,11))"
   ]
  },
  {
   "cell_type": "code",
   "execution_count": 43,
   "metadata": {},
   "outputs": [
    {
     "data": {
      "text/plain": [
       "array([[424583.78]], dtype=float32)"
      ]
     },
     "execution_count": 43,
     "metadata": {},
     "output_type": "execute_result"
    }
   ],
   "source": [
    "model.predict(house)"
   ]
  },
  {
   "cell_type": "code",
   "execution_count": 45,
   "metadata": {},
   "outputs": [
    {
     "data": {
      "text/plain": [
       "229500"
      ]
     },
     "execution_count": 45,
     "metadata": {},
     "output_type": "execute_result"
    }
   ],
   "source": [
    "Data['PRICE'][1]"
   ]
  },
  {
   "cell_type": "code",
   "execution_count": 46,
   "metadata": {},
   "outputs": [
    {
     "name": "stdout",
     "output_type": "stream",
     "text": [
      "Model: Keras Regression\n",
      "\n",
      "Mean Absolute Error(MAE): 69884.79\n",
      "Mean Squared Error(MSE): 351789399182.07\n",
      "Root Mean Squared Error(RMSE): 593118.37\n",
      "Variance score: -455.94\n",
      "\n",
      "*********************************\n",
      "\n",
      "Model: Multiple Linear Regression\n",
      "\n",
      "Mean Absolute Error(MAE): 58451.49\n",
      "Mean Squared Error(MSE):153902548541.47\n",
      "Root Mean Squared Error(RMSE):392304.15\n",
      "Variance score: -143.24\n"
     ]
    }
   ],
   "source": [
    "print('Model: Keras Regression\\n')\n",
    "\n",
    "print('Mean Absolute Error(MAE): {:.2f}'.format(metrics.mean_absolute_error(y_test, y_pred)))\n",
    "print('Mean Squared Error(MSE): {:.2f}'.format(metrics.mean_squared_error(y_test, y_pred)))\n",
    "print('Root Mean Squared Error(RMSE): {:.2f}'.format(np.sqrt(metrics.mean_squared_error(y_test, y_pred))))\n",
    "print('Variance score: {:.2f}\\n'.format(metrics.explained_variance_score(y_test,y_pred)*100))\n",
    "print('*********************************\\n')\n",
    "print('Model: Multiple Linear Regression\\n')\n",
    "print('Mean Absolute Error(MAE): {:.2f}'.format(metrics.mean_absolute_error(y_test, y_predd))) \n",
    "print('Mean Squared Error(MSE):{:.2f}'.format(metrics.mean_squared_error(y_test, y_predd)))  \n",
    "print('Root Mean Squared Error(RMSE):{:.2f}'.format(np.sqrt(metrics.mean_squared_error(y_test, y_predd))))\n",
    "print('Variance score: {:.2f}'.format(metrics.explained_variance_score(y_test,y_predd)*100))"
   ]
  },
  {
   "cell_type": "code",
   "execution_count": null,
   "metadata": {},
   "outputs": [],
   "source": []
  }
 ],
 "metadata": {
  "kernelspec": {
   "display_name": "Python 3",
   "language": "python",
   "name": "python3"
  },
  "language_info": {
   "codemirror_mode": {
    "name": "ipython",
    "version": 3
   },
   "file_extension": ".py",
   "mimetype": "text/x-python",
   "name": "python",
   "nbconvert_exporter": "python",
   "pygments_lexer": "ipython3",
   "version": "3.7.6"
  }
 },
 "nbformat": 4,
 "nbformat_minor": 4
}
