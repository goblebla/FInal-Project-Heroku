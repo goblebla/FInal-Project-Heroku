{
 "cells": [
  {
   "cell_type": "code",
   "execution_count": 1,
   "metadata": {},
   "outputs": [],
   "source": [
    "import numpy as np\n",
    "import pandas as pd\n",
    "import matplotlib.pyplot as plt\n",
    "import seaborn as sns\n",
    "import mpl_toolkits\n",
    "import scipy.stats as st\n",
    "from scipy.stats import linregress\n",
    "%matplotlib inline"
   ]
  },
  {
   "cell_type": "code",
   "execution_count": 3,
   "metadata": {},
   "outputs": [],
   "source": [
    "data = pd.read_csv(\"redfin_portland.csv\")"
   ]
  },
  {
   "cell_type": "code",
   "execution_count": 4,
   "metadata": {},
   "outputs": [
    {
     "data": {
      "text/html": [
       "<div>\n",
       "<style scoped>\n",
       "    .dataframe tbody tr th:only-of-type {\n",
       "        vertical-align: middle;\n",
       "    }\n",
       "\n",
       "    .dataframe tbody tr th {\n",
       "        vertical-align: top;\n",
       "    }\n",
       "\n",
       "    .dataframe thead th {\n",
       "        text-align: right;\n",
       "    }\n",
       "</style>\n",
       "<table border=\"1\" class=\"dataframe\">\n",
       "  <thead>\n",
       "    <tr style=\"text-align: right;\">\n",
       "      <th></th>\n",
       "      <th>PROPERTY TYPE</th>\n",
       "      <th>CITY</th>\n",
       "      <th>ZIP OR POSTAL CODE</th>\n",
       "      <th>PRICE</th>\n",
       "      <th>BEDS</th>\n",
       "      <th>BATHS</th>\n",
       "      <th>SQUARE FEET</th>\n",
       "      <th>LOT SIZE</th>\n",
       "      <th>YEAR BUILT</th>\n",
       "      <th>DAYS ON MARKET</th>\n",
       "      <th>$/SQUARE FEET</th>\n",
       "      <th>HOA/MONTH</th>\n",
       "      <th>LATITUDE</th>\n",
       "      <th>LONGITUDE</th>\n",
       "    </tr>\n",
       "  </thead>\n",
       "  <tbody>\n",
       "    <tr>\n",
       "      <td>0</td>\n",
       "      <td>Single Family Residential</td>\n",
       "      <td>Oregon City</td>\n",
       "      <td>97045</td>\n",
       "      <td>595000</td>\n",
       "      <td>4</td>\n",
       "      <td>3.0</td>\n",
       "      <td>2621</td>\n",
       "      <td>10454.0</td>\n",
       "      <td>1999</td>\n",
       "      <td>1</td>\n",
       "      <td>227</td>\n",
       "      <td>NaN</td>\n",
       "      <td>45.328852</td>\n",
       "      <td>-122.631600</td>\n",
       "    </tr>\n",
       "    <tr>\n",
       "      <td>1</td>\n",
       "      <td>Townhouse</td>\n",
       "      <td>Portland</td>\n",
       "      <td>97225</td>\n",
       "      <td>475000</td>\n",
       "      <td>2</td>\n",
       "      <td>2.5</td>\n",
       "      <td>1714</td>\n",
       "      <td>2613.0</td>\n",
       "      <td>2000</td>\n",
       "      <td>1</td>\n",
       "      <td>277</td>\n",
       "      <td>NaN</td>\n",
       "      <td>45.504376</td>\n",
       "      <td>-122.746032</td>\n",
       "    </tr>\n",
       "    <tr>\n",
       "      <td>2</td>\n",
       "      <td>Single Family Residential</td>\n",
       "      <td>Oregon City</td>\n",
       "      <td>97045</td>\n",
       "      <td>450000</td>\n",
       "      <td>3</td>\n",
       "      <td>2.0</td>\n",
       "      <td>2842</td>\n",
       "      <td>43995.0</td>\n",
       "      <td>1946</td>\n",
       "      <td>1</td>\n",
       "      <td>158</td>\n",
       "      <td>NaN</td>\n",
       "      <td>45.311266</td>\n",
       "      <td>-122.569703</td>\n",
       "    </tr>\n",
       "    <tr>\n",
       "      <td>3</td>\n",
       "      <td>Townhouse</td>\n",
       "      <td>Tigard</td>\n",
       "      <td>97224</td>\n",
       "      <td>419900</td>\n",
       "      <td>3</td>\n",
       "      <td>2.5</td>\n",
       "      <td>2021</td>\n",
       "      <td>3049.0</td>\n",
       "      <td>2005</td>\n",
       "      <td>1</td>\n",
       "      <td>208</td>\n",
       "      <td>259.0</td>\n",
       "      <td>45.404892</td>\n",
       "      <td>-122.757569</td>\n",
       "    </tr>\n",
       "    <tr>\n",
       "      <td>4</td>\n",
       "      <td>Single Family Residential</td>\n",
       "      <td>Portland</td>\n",
       "      <td>97215</td>\n",
       "      <td>1295000</td>\n",
       "      <td>4</td>\n",
       "      <td>3.0</td>\n",
       "      <td>4426</td>\n",
       "      <td>14810.0</td>\n",
       "      <td>1971</td>\n",
       "      <td>3</td>\n",
       "      <td>293</td>\n",
       "      <td>NaN</td>\n",
       "      <td>45.516562</td>\n",
       "      <td>-122.598256</td>\n",
       "    </tr>\n",
       "  </tbody>\n",
       "</table>\n",
       "</div>"
      ],
      "text/plain": [
       "               PROPERTY TYPE         CITY  ZIP OR POSTAL CODE    PRICE  BEDS  \\\n",
       "0  Single Family Residential  Oregon City               97045   595000     4   \n",
       "1                  Townhouse     Portland               97225   475000     2   \n",
       "2  Single Family Residential  Oregon City               97045   450000     3   \n",
       "3                  Townhouse       Tigard               97224   419900     3   \n",
       "4  Single Family Residential     Portland               97215  1295000     4   \n",
       "\n",
       "   BATHS  SQUARE FEET  LOT SIZE  YEAR BUILT  DAYS ON MARKET  $/SQUARE FEET  \\\n",
       "0    3.0         2621   10454.0        1999               1            227   \n",
       "1    2.5         1714    2613.0        2000               1            277   \n",
       "2    2.0         2842   43995.0        1946               1            158   \n",
       "3    2.5         2021    3049.0        2005               1            208   \n",
       "4    3.0         4426   14810.0        1971               3            293   \n",
       "\n",
       "   HOA/MONTH   LATITUDE   LONGITUDE  \n",
       "0        NaN  45.328852 -122.631600  \n",
       "1        NaN  45.504376 -122.746032  \n",
       "2        NaN  45.311266 -122.569703  \n",
       "3      259.0  45.404892 -122.757569  \n",
       "4        NaN  45.516562 -122.598256  "
      ]
     },
     "execution_count": 4,
     "metadata": {},
     "output_type": "execute_result"
    }
   ],
   "source": [
    "data.head()"
   ]
  },
  {
   "cell_type": "code",
   "execution_count": 5,
   "metadata": {},
   "outputs": [
    {
     "data": {
      "text/plain": [
       "Index(['PROPERTY TYPE', 'CITY', 'ZIP OR POSTAL CODE', 'PRICE', 'BEDS', 'BATHS',\n",
       "       'SQUARE FEET', 'LOT SIZE', 'YEAR BUILT', 'DAYS ON MARKET',\n",
       "       '$/SQUARE FEET', 'HOA/MONTH', 'LATITUDE', 'LONGITUDE'],\n",
       "      dtype='object')"
      ]
     },
     "execution_count": 5,
     "metadata": {},
     "output_type": "execute_result"
    }
   ],
   "source": [
    "data.columns"
   ]
  },
  {
   "cell_type": "code",
   "execution_count": 6,
   "metadata": {},
   "outputs": [],
   "source": [
    "# data = data.dropna()"
   ]
  },
  {
   "cell_type": "code",
   "execution_count": 7,
   "metadata": {},
   "outputs": [
    {
     "data": {
      "text/html": [
       "<div>\n",
       "<style scoped>\n",
       "    .dataframe tbody tr th:only-of-type {\n",
       "        vertical-align: middle;\n",
       "    }\n",
       "\n",
       "    .dataframe tbody tr th {\n",
       "        vertical-align: top;\n",
       "    }\n",
       "\n",
       "    .dataframe thead th {\n",
       "        text-align: right;\n",
       "    }\n",
       "</style>\n",
       "<table border=\"1\" class=\"dataframe\">\n",
       "  <thead>\n",
       "    <tr style=\"text-align: right;\">\n",
       "      <th></th>\n",
       "      <th>ZIP OR POSTAL CODE</th>\n",
       "      <th>PRICE</th>\n",
       "      <th>BEDS</th>\n",
       "      <th>BATHS</th>\n",
       "      <th>SQUARE FEET</th>\n",
       "      <th>LOT SIZE</th>\n",
       "      <th>YEAR BUILT</th>\n",
       "      <th>DAYS ON MARKET</th>\n",
       "      <th>$/SQUARE FEET</th>\n",
       "      <th>HOA/MONTH</th>\n",
       "      <th>LATITUDE</th>\n",
       "      <th>LONGITUDE</th>\n",
       "    </tr>\n",
       "  </thead>\n",
       "  <tbody>\n",
       "    <tr>\n",
       "      <td>count</td>\n",
       "      <td>336.000000</td>\n",
       "      <td>3.360000e+02</td>\n",
       "      <td>336.000000</td>\n",
       "      <td>336.000000</td>\n",
       "      <td>336.000000</td>\n",
       "      <td>2.520000e+02</td>\n",
       "      <td>336.000000</td>\n",
       "      <td>336.000000</td>\n",
       "      <td>336.000000</td>\n",
       "      <td>121.000000</td>\n",
       "      <td>336.000000</td>\n",
       "      <td>336.000000</td>\n",
       "    </tr>\n",
       "    <tr>\n",
       "      <td>mean</td>\n",
       "      <td>97151.157738</td>\n",
       "      <td>5.700269e+05</td>\n",
       "      <td>3.297619</td>\n",
       "      <td>2.443452</td>\n",
       "      <td>2096.538690</td>\n",
       "      <td>1.727834e+04</td>\n",
       "      <td>1979.779762</td>\n",
       "      <td>5.255952</td>\n",
       "      <td>274.467262</td>\n",
       "      <td>241.909091</td>\n",
       "      <td>45.480183</td>\n",
       "      <td>-122.689645</td>\n",
       "    </tr>\n",
       "    <tr>\n",
       "      <td>std</td>\n",
       "      <td>88.782152</td>\n",
       "      <td>4.506632e+05</td>\n",
       "      <td>1.865826</td>\n",
       "      <td>2.469773</td>\n",
       "      <td>1265.957486</td>\n",
       "      <td>8.402173e+04</td>\n",
       "      <td>31.827694</td>\n",
       "      <td>13.241273</td>\n",
       "      <td>95.572675</td>\n",
       "      <td>207.238751</td>\n",
       "      <td>0.063580</td>\n",
       "      <td>0.138517</td>\n",
       "    </tr>\n",
       "    <tr>\n",
       "      <td>min</td>\n",
       "      <td>97003.000000</td>\n",
       "      <td>4.500000e+04</td>\n",
       "      <td>1.000000</td>\n",
       "      <td>1.000000</td>\n",
       "      <td>521.000000</td>\n",
       "      <td>8.710000e+02</td>\n",
       "      <td>1903.000000</td>\n",
       "      <td>1.000000</td>\n",
       "      <td>41.000000</td>\n",
       "      <td>8.000000</td>\n",
       "      <td>45.253127</td>\n",
       "      <td>-123.024495</td>\n",
       "    </tr>\n",
       "    <tr>\n",
       "      <td>25%</td>\n",
       "      <td>97062.000000</td>\n",
       "      <td>3.499875e+05</td>\n",
       "      <td>3.000000</td>\n",
       "      <td>2.000000</td>\n",
       "      <td>1364.000000</td>\n",
       "      <td>4.791000e+03</td>\n",
       "      <td>1959.000000</td>\n",
       "      <td>1.000000</td>\n",
       "      <td>221.000000</td>\n",
       "      <td>81.000000</td>\n",
       "      <td>45.441511</td>\n",
       "      <td>-122.791170</td>\n",
       "    </tr>\n",
       "    <tr>\n",
       "      <td>50%</td>\n",
       "      <td>97206.000000</td>\n",
       "      <td>4.494500e+05</td>\n",
       "      <td>3.000000</td>\n",
       "      <td>2.250000</td>\n",
       "      <td>1790.500000</td>\n",
       "      <td>6.098000e+03</td>\n",
       "      <td>1984.500000</td>\n",
       "      <td>1.000000</td>\n",
       "      <td>251.500000</td>\n",
       "      <td>205.000000</td>\n",
       "      <td>45.494699</td>\n",
       "      <td>-122.681004</td>\n",
       "    </tr>\n",
       "    <tr>\n",
       "      <td>75%</td>\n",
       "      <td>97221.000000</td>\n",
       "      <td>6.142500e+05</td>\n",
       "      <td>4.000000</td>\n",
       "      <td>2.500000</td>\n",
       "      <td>2507.250000</td>\n",
       "      <td>1.001800e+04</td>\n",
       "      <td>2007.000000</td>\n",
       "      <td>2.000000</td>\n",
       "      <td>307.000000</td>\n",
       "      <td>354.000000</td>\n",
       "      <td>45.523318</td>\n",
       "      <td>-122.591292</td>\n",
       "    </tr>\n",
       "    <tr>\n",
       "      <td>max</td>\n",
       "      <td>97267.000000</td>\n",
       "      <td>3.900000e+06</td>\n",
       "      <td>30.000000</td>\n",
       "      <td>40.000000</td>\n",
       "      <td>13000.000000</td>\n",
       "      <td>1.236232e+06</td>\n",
       "      <td>2021.000000</td>\n",
       "      <td>96.000000</td>\n",
       "      <td>965.000000</td>\n",
       "      <td>1083.000000</td>\n",
       "      <td>45.597069</td>\n",
       "      <td>-122.325278</td>\n",
       "    </tr>\n",
       "  </tbody>\n",
       "</table>\n",
       "</div>"
      ],
      "text/plain": [
       "       ZIP OR POSTAL CODE         PRICE        BEDS       BATHS   SQUARE FEET  \\\n",
       "count          336.000000  3.360000e+02  336.000000  336.000000    336.000000   \n",
       "mean         97151.157738  5.700269e+05    3.297619    2.443452   2096.538690   \n",
       "std             88.782152  4.506632e+05    1.865826    2.469773   1265.957486   \n",
       "min          97003.000000  4.500000e+04    1.000000    1.000000    521.000000   \n",
       "25%          97062.000000  3.499875e+05    3.000000    2.000000   1364.000000   \n",
       "50%          97206.000000  4.494500e+05    3.000000    2.250000   1790.500000   \n",
       "75%          97221.000000  6.142500e+05    4.000000    2.500000   2507.250000   \n",
       "max          97267.000000  3.900000e+06   30.000000   40.000000  13000.000000   \n",
       "\n",
       "           LOT SIZE   YEAR BUILT  DAYS ON MARKET  $/SQUARE FEET    HOA/MONTH  \\\n",
       "count  2.520000e+02   336.000000      336.000000     336.000000   121.000000   \n",
       "mean   1.727834e+04  1979.779762        5.255952     274.467262   241.909091   \n",
       "std    8.402173e+04    31.827694       13.241273      95.572675   207.238751   \n",
       "min    8.710000e+02  1903.000000        1.000000      41.000000     8.000000   \n",
       "25%    4.791000e+03  1959.000000        1.000000     221.000000    81.000000   \n",
       "50%    6.098000e+03  1984.500000        1.000000     251.500000   205.000000   \n",
       "75%    1.001800e+04  2007.000000        2.000000     307.000000   354.000000   \n",
       "max    1.236232e+06  2021.000000       96.000000     965.000000  1083.000000   \n",
       "\n",
       "         LATITUDE   LONGITUDE  \n",
       "count  336.000000  336.000000  \n",
       "mean    45.480183 -122.689645  \n",
       "std      0.063580    0.138517  \n",
       "min     45.253127 -123.024495  \n",
       "25%     45.441511 -122.791170  \n",
       "50%     45.494699 -122.681004  \n",
       "75%     45.523318 -122.591292  \n",
       "max     45.597069 -122.325278  "
      ]
     },
     "execution_count": 7,
     "metadata": {},
     "output_type": "execute_result"
    }
   ],
   "source": [
    "data.describe()"
   ]
  },
  {
   "cell_type": "code",
   "execution_count": 8,
   "metadata": {},
   "outputs": [
    {
     "data": {
      "text/plain": [
       "PROPERTY TYPE          object\n",
       "CITY                   object\n",
       "ZIP OR POSTAL CODE      int64\n",
       "PRICE                   int64\n",
       "BEDS                    int64\n",
       "BATHS                 float64\n",
       "SQUARE FEET             int64\n",
       "LOT SIZE              float64\n",
       "YEAR BUILT              int64\n",
       "DAYS ON MARKET          int64\n",
       "$/SQUARE FEET           int64\n",
       "HOA/MONTH             float64\n",
       "LATITUDE              float64\n",
       "LONGITUDE             float64\n",
       "dtype: object"
      ]
     },
     "execution_count": 8,
     "metadata": {},
     "output_type": "execute_result"
    }
   ],
   "source": [
    "data.dtypes"
   ]
  },
  {
   "cell_type": "code",
   "execution_count": 9,
   "metadata": {},
   "outputs": [
    {
     "data": {
      "text/plain": [
       "<function seaborn.utils.despine(fig=None, ax=None, top=True, right=True, left=False, bottom=False, offset=None, trim=False)>"
      ]
     },
     "execution_count": 9,
     "metadata": {},
     "output_type": "execute_result"
    },
    {
     "data": {
      "image/png": "[encoded data removed]",
      "text/plain": [
       "<Figure size 432x288 with 1 Axes>"
      ]
     },
     "metadata": {
      "needs_background": "light"
     },
     "output_type": "display_data"
    }
   ],
   "source": [
    "data['BEDS'].value_counts().plot(kind='bar')\n",
    "plt.title('number of Bedroom')\n",
    "plt.xlabel('Bedrooms')\n",
    "plt.ylabel('Count')\n",
    "sns.despine"
   ]
  },
  {
   "cell_type": "code",
   "execution_count": 10,
   "metadata": {},
   "outputs": [
    {
     "data": {
      "text/plain": [
       "Text(0.5, 1.0, 'Price vs Square Feet')"
      ]
     },
     "execution_count": 10,
     "metadata": {},
     "output_type": "execute_result"
    },
    {
     "data": {
      "image/png": "[encoded data removed]",
      "text/plain": [
       "<Figure size 432x288 with 1 Axes>"
      ]
     },
     "metadata": {
      "needs_background": "light"
     },
     "output_type": "display_data"
    }
   ],
   "source": [
    "plt.scatter(data['SQUARE FEET'],data['PRICE'])\n",
    "plt.title(\"Price vs Square Feet\")"
   ]
  },
  {
   "cell_type": "code",
   "execution_count": 11,
   "metadata": {},
   "outputs": [
    {
     "data": {
      "image/png": "[encoded data removed]",
      "text/plain": [
       "<Figure size 720x504 with 2 Axes>"
      ]
     },
     "metadata": {
      "needs_background": "light"
     },
     "output_type": "display_data"
    }
   ],
   "source": [
    "fig = plt.figure(figsize=(10,7))\n",
    "fig.add_subplot(2,1,1)\n",
    "sns.distplot(data['PRICE'])\n",
    "fig.add_subplot(2,1,2)\n",
    "sns.boxplot(data['PRICE'])\n",
    "plt.tight_layout()"
   ]
  },
  {
   "cell_type": "code",
   "execution_count": 12,
   "metadata": {},
   "outputs": [
    {
     "name": "stderr",
     "output_type": "stream",
     "text": [
      "/Users/fasterpermits/opt/anaconda3/lib/python3.7/site-packages/ipykernel_launcher.py:11: UserWarning: This figure was using constrained_layout==True, but that is incompatible with subplots_adjust and or tight_layout: setting constrained_layout==False. \n",
      "  # This is added back by InteractiveShellApp.init_path()\n"
     ]
    },
    {
     "data": {
      "image/png": "[encoded data removed]",
      "text/plain": [
       "<Figure size 1080x504 with 3 Axes>"
      ]
     },
     "metadata": {
      "needs_background": "light"
     },
     "output_type": "display_data"
    }
   ],
   "source": [
    "#visualizing bedrooms, bathrooms, floors,grades\n",
    "fig = plt.figure(figsize=(15,7),constrained_layout=True)\n",
    "fig.add_subplot(2,2,1)\n",
    "sns.countplot(data['BEDS'], palette = 'Greens_d')\n",
    "fig.add_subplot(2,2,2)\n",
    "# sns.countplot(data['SQUARE FEET'])\n",
    "# fig.add_subplot(2,2,3)\n",
    "sns.countplot(data['BATHS'])\n",
    "fig.add_subplot(2,2,4)\n",
    "sns.countplot(data['DAYS ON MARKET'])\n",
    "plt.tight_layout()"
   ]
  },
  {
   "cell_type": "code",
   "execution_count": 13,
   "metadata": {},
   "outputs": [
    {
     "data": {
      "text/plain": [
       "Text(0.5, 1.0, 'Price vs Location of the area')"
      ]
     },
     "execution_count": 13,
     "metadata": {},
     "output_type": "execute_result"
    },
    {
     "data": {
      "image/png": "[encoded data removed]",
      "text/plain": [
       "<Figure size 432x288 with 1 Axes>"
      ]
     },
     "metadata": {
      "needs_background": "light"
     },
     "output_type": "display_data"
    }
   ],
   "source": [
    "plt.scatter(data['LONGITUDE'],data['PRICE'])\n",
    "plt.title(\"Price vs Location of the area\")"
   ]
  },
  {
   "cell_type": "code",
   "execution_count": 14,
   "metadata": {},
   "outputs": [
    {
     "data": {
      "text/plain": [
       "<matplotlib.axes._subplots.AxesSubplot at 0x1201bbed0>"
      ]
     },
     "execution_count": 14,
     "metadata": {},
     "output_type": "execute_result"
    },
    {
     "data": {
      "image/png": "[encoded data removed]",
      "text/plain": [
       "<Figure size 1080x720 with 1 Axes>"
      ]
     },
     "metadata": {
      "needs_background": "light"
     },
     "output_type": "display_data"
    }
   ],
   "source": [
    "plt.figure(figsize=(15,10))\n",
    "sns.scatterplot(x='LONGITUDE',y='LATITUDE',data=data,hue='PRICE')"
   ]
  },
  {
   "cell_type": "code",
   "execution_count": 15,
   "metadata": {},
   "outputs": [
    {
     "data": {
      "text/plain": [
       "<matplotlib.axes._subplots.AxesSubplot at 0x11ff354d0>"
      ]
     },
     "execution_count": 15,
     "metadata": {},
     "output_type": "execute_result"
    },
    {
     "data": {
      "image/png": "[encoded data removed]",
      "text/plain": [
       "<Figure size 1080x720 with 1 Axes>"
      ]
     },
     "metadata": {
      "needs_background": "light"
     },
     "output_type": "display_data"
    }
   ],
   "source": [
    "plt.figure(figsize=(15,10))\n",
    "sns.scatterplot(x='LONGITUDE',y='LATITUDE',data=data,alpha = 0.8,palette = 'RdYlGn', hue='PRICE')"
   ]
  },
  {
   "cell_type": "code",
   "execution_count": 16,
   "metadata": {},
   "outputs": [
    {
     "data": {
      "text/plain": [
       "PRICE                 1.000000\n",
       "SQUARE FEET           0.845828\n",
       "BEDS                  0.410648\n",
       "$/SQUARE FEET         0.402105\n",
       "BATHS                 0.355669\n",
       "LOT SIZE              0.252821\n",
       "ZIP OR POSTAL CODE    0.034001\n",
       "YEAR BUILT            0.029139\n",
       "LATITUDE             -0.032568\n",
       "LONGITUDE            -0.041718\n",
       "DAYS ON MARKET       -0.066804\n",
       "HOA/MONTH            -0.114991\n",
       "Name: PRICE, dtype: float64"
      ]
     },
     "execution_count": 16,
     "metadata": {},
     "output_type": "execute_result"
    }
   ],
   "source": [
    "data.corr()['PRICE'].sort_values(ascending=False)"
   ]
  },
  {
   "cell_type": "code",
   "execution_count": null,
   "metadata": {},
   "outputs": [],
   "source": []
  },
  {
   "cell_type": "code",
   "execution_count": 17,
   "metadata": {},
   "outputs": [
    {
     "data": {
      "text/plain": [
       "Index(['PROPERTY TYPE', 'CITY', 'ZIP OR POSTAL CODE', 'PRICE', 'BEDS', 'BATHS',\n",
       "       'SQUARE FEET', 'LOT SIZE', 'YEAR BUILT', 'DAYS ON MARKET',\n",
       "       '$/SQUARE FEET', 'HOA/MONTH', 'LATITUDE', 'LONGITUDE'],\n",
       "      dtype='object')"
      ]
     },
     "execution_count": 17,
     "metadata": {},
     "output_type": "execute_result"
    }
   ],
   "source": [
    "data.columns"
   ]
  },
  {
   "cell_type": "code",
   "execution_count": 18,
   "metadata": {},
   "outputs": [],
   "source": [
    "from sklearn.linear_model import LinearRegression"
   ]
  },
  {
   "cell_type": "code",
   "execution_count": 19,
   "metadata": {},
   "outputs": [],
   "source": [
    "model = LinearRegression()"
   ]
  },
  {
   "cell_type": "code",
   "execution_count": 20,
   "metadata": {},
   "outputs": [],
   "source": [
    "data['BEDS'] = pd.to_numeric(data['BEDS'], downcast='float')\n",
    "data['BATHS'] = pd.to_numeric(data['BATHS'], downcast='float')\n",
    "data['SQUARE FEET'] = pd.to_numeric(data['SQUARE FEET'], downcast='float')\n"
   ]
  },
  {
   "cell_type": "code",
   "execution_count": 21,
   "metadata": {},
   "outputs": [
    {
     "data": {
      "text/plain": [
       "PROPERTY TYPE          object\n",
       "CITY                   object\n",
       "ZIP OR POSTAL CODE      int64\n",
       "PRICE                   int64\n",
       "BEDS                  float32\n",
       "BATHS                 float32\n",
       "SQUARE FEET           float32\n",
       "LOT SIZE              float64\n",
       "YEAR BUILT              int64\n",
       "DAYS ON MARKET          int64\n",
       "$/SQUARE FEET           int64\n",
       "HOA/MONTH             float64\n",
       "LATITUDE              float64\n",
       "LONGITUDE             float64\n",
       "dtype: object"
      ]
     },
     "execution_count": 21,
     "metadata": {},
     "output_type": "execute_result"
    }
   ],
   "source": [
    "data.dtypes"
   ]
  },
  {
   "cell_type": "code",
   "execution_count": 22,
   "metadata": {
    "tags": []
   },
   "outputs": [
    {
     "name": "stdout",
     "output_type": "stream",
     "text": [
      "(336, 7) (336, 1)\n"
     ]
    }
   ],
   "source": [
    "y = data['PRICE'].values.reshape(-1, 1)\n",
    "# X = data.drop(['PROPERTY TYPE', 'CITY', 'ZIP OR POSTAL CODE', 'PRICE', 'YEAR BUILT', 'DAYS ON MARKET', 'HOA/MONTH', 'LATITUDE', 'LONGITUDE'],axis=1)\n",
    "X = data.drop(['PROPERTY TYPE', 'CITY', 'ZIP OR POSTAL CODE','PRICE', 'LOT SIZE', 'YEAR BUILT', 'DAYS ON MARKET','$/SQUARE FEET', 'HOA/MONTH'],axis=1)\n",
    "print(X.shape, y.shape)"
   ]
  },
  {
   "cell_type": "code",
   "execution_count": 23,
   "metadata": {
    "tags": []
   },
   "outputs": [
    {
     "name": "stdout",
     "output_type": "stream",
     "text": [
      "     ZIP OR POSTAL CODE  BEDS  BATHS  SQUARE FEET  DAYS ON MARKET   LATITUDE  \\\n",
      "0                 97045   4.0    3.0       2621.0               1  45.328852   \n",
      "1                 97225   2.0    2.5       1714.0               1  45.504376   \n",
      "2                 97045   3.0    2.0       2842.0               1  45.311266   \n",
      "3                 97224   3.0    2.5       2021.0               1  45.404892   \n",
      "4                 97215   4.0    3.0       4426.0               3  45.516562   \n",
      "..                  ...   ...    ...          ...             ...        ...   \n",
      "331               97005   2.0    1.0        792.0               4  45.487640   \n",
      "332               97007   4.0    2.5       2229.0               4  45.425626   \n",
      "333               97224   3.0    2.5       2075.0               4  45.399827   \n",
      "334               97217   3.0    2.0       2046.0               4  45.562076   \n",
      "335               97030   3.0    2.0       1694.0               4  45.499679   \n",
      "\n",
      "      LONGITUDE  \n",
      "0   -122.631600  \n",
      "1   -122.746032  \n",
      "2   -122.569703  \n",
      "3   -122.757569  \n",
      "4   -122.598256  \n",
      "..          ...  \n",
      "331 -122.775669  \n",
      "332 -122.856600  \n",
      "333 -122.786052  \n",
      "334 -122.669763  \n",
      "335 -122.404253  \n",
      "\n",
      "[336 rows x 7 columns]\n"
     ]
    }
   ],
   "source": [
    "print(X)"
   ]
  },
  {
   "cell_type": "code",
   "execution_count": 24,
   "metadata": {},
   "outputs": [],
   "source": [
    "from sklearn.model_selection import train_test_split\n",
    "x_train , x_test , y_train , y_test = train_test_split(X, y, test_size = 0.50,random_state =2)"
   ]
  },
  {
   "cell_type": "code",
   "execution_count": 25,
   "metadata": {},
   "outputs": [
    {
     "data": {
      "text/plain": [
       "LinearRegression(copy_X=True, fit_intercept=True, n_jobs=None, normalize=False)"
      ]
     },
     "execution_count": 25,
     "metadata": {},
     "output_type": "execute_result"
    }
   ],
   "source": [
    "model.fit(x_train, y_train)"
   ]
  },
  {
   "cell_type": "code",
   "execution_count": 26,
   "metadata": {
    "tags": []
   },
   "outputs": [
    {
     "name": "stdout",
     "output_type": "stream",
     "text": [
      "Training Score: 0.7945496798237442\n"
     ]
    }
   ],
   "source": [
    "model.fit(x_train, y_train)\n",
    "training_score = model.score(x_train, y_train)\n",
    "print(f\"Training Score: {training_score}\")"
   ]
  },
  {
   "cell_type": "code",
   "execution_count": 27,
   "metadata": {},
   "outputs": [
    {
     "data": {
      "text/plain": [
       "0.45352109619395364"
      ]
     },
     "execution_count": 27,
     "metadata": {},
     "output_type": "execute_result"
    }
   ],
   "source": [
    "model.score(x_test, y_test)"
   ]
  },
  {
   "cell_type": "code",
   "execution_count": 28,
   "metadata": {
    "tags": []
   },
   "outputs": [
    {
     "name": "stdout",
     "output_type": "stream",
     "text": [
      "Testing Score: 0.45352109619395364\n"
     ]
    }
   ],
   "source": [
    "testing_score = model.score(x_test, y_test)\n",
    "print(f\"Testing Score: {testing_score}\")"
   ]
  },
  {
   "cell_type": "code",
   "execution_count": 29,
   "metadata": {},
   "outputs": [
    {
     "data": {
      "text/plain": [
       "array([[ 1.14290570e+02, -2.09091432e+04, -2.36527201e+03,\n",
       "         2.51322619e+02,  5.88674421e+02, -1.78236046e+05,\n",
       "        -2.06660108e+05]])"
      ]
     },
     "execution_count": 29,
     "metadata": {},
     "output_type": "execute_result"
    }
   ],
   "source": [
    "reg = LinearRegression().fit(x_test, y_test)\n",
    "reg.coef_"
   ]
  },
  {
   "cell_type": "code",
   "execution_count": 30,
   "metadata": {},
   "outputs": [
    {
     "data": {
      "text/plain": [
       "array([-28256399.80712416])"
      ]
     },
     "execution_count": 30,
     "metadata": {},
     "output_type": "execute_result"
    }
   ],
   "source": [
    "intercept = reg.intercept_\n",
    "intercept"
   ]
  },
  {
   "cell_type": "code",
   "execution_count": 31,
   "metadata": {},
   "outputs": [],
   "source": [
    "bath_entry = 4\n",
    "bed_entry = 4\n",
    "square_feet_entry = 2580\n",
    "lot_size_entry = 2613\n",
    "year_built_entry = 1920\n",
    "latitude_entry = 45.499533\n",
    "longitude_entry = -122.675113"
   ]
  },
  {
   "cell_type": "code",
   "execution_count": 32,
   "metadata": {
    "tags": []
   },
   "outputs": [
    {
     "name": "stdout",
     "output_type": "stream",
     "text": [
      "Based on the entered parameters, the home is worth the following: $[-27471491.97132939]\n"
     ]
    }
   ],
   "source": [
    "new_value =  intercept + (bath_entry *(2753.67269318)) + (bed_entry *(7783.46472586)) + (square_feet_entry *(287.89119617)) \n",
    "print(f\"Based on the entered parameters, the home is worth the following: ${new_value}\")"
   ]
  },
  {
   "cell_type": "code",
   "execution_count": 33,
   "metadata": {},
   "outputs": [],
   "source": [
    "import pickle\n",
    "pickle.dump(model, open('model.pkl','wb'))\n",
    "\n",
    "model = pickle.load(open('model.pkl','rb'))"
   ]
  },
  {
   "cell_type": "code",
   "execution_count": 38,
   "metadata": {},
   "outputs": [],
   "source": [
    "from sklearn.model_selection import train_test_split\n",
    "X_train, X_test, y_train, y_test = train_test_split(X, y, test_size=0.33, random_state=101)"
   ]
  },
  {
   "cell_type": "code",
   "execution_count": null,
   "metadata": {},
   "outputs": [],
   "source": []
  },
  {
   "cell_type": "code",
   "execution_count": 96,
   "metadata": {},
   "outputs": [],
   "source": [
    "from sklearn.preprocessing import StandardScaler\n",
    "s_scaler = StandardScaler()\n",
    "X_train = s_scaler.fit_transform(X_train.astype(np.float))\n",
    "X_test = s_scaler.transform(X_test.astype(np.float))"
   ]
  },
  {
   "cell_type": "code",
   "execution_count": 97,
   "metadata": {},
   "outputs": [
    {
     "data": {
      "text/plain": [
       "array([[ 1.58141137e+04, -6.40933491e+04, -7.36151026e+01,\n",
       "         4.59002920e+05, -5.06228198e+03, -6.59394191e+03,\n",
       "        -2.94741631e+04]])"
      ]
     },
     "execution_count": 97,
     "metadata": {},
     "output_type": "execute_result"
    }
   ],
   "source": [
    "from sklearn.linear_model import LinearRegression\n",
    "regressor = LinearRegression()  \n",
    "regressor.fit(X_train, y_train)\n",
    "\n",
    "#evaluate the model (intercept and slope)\n",
    "regressor.intercept_\n",
    "regressor.coef_"
   ]
  },
  {
   "cell_type": "code",
   "execution_count": 122,
   "metadata": {},
   "outputs": [
    {
     "data": {
      "text/html": [
       "<div>\n",
       "<style scoped>\n",
       "    .dataframe tbody tr th:only-of-type {\n",
       "        vertical-align: middle;\n",
       "    }\n",
       "\n",
       "    .dataframe tbody tr th {\n",
       "        vertical-align: top;\n",
       "    }\n",
       "\n",
       "    .dataframe thead th {\n",
       "        text-align: right;\n",
       "    }\n",
       "</style>\n",
       "<table border=\"1\" class=\"dataframe\">\n",
       "  <thead>\n",
       "    <tr style=\"text-align: right;\">\n",
       "      <th></th>\n",
       "      <th>Actual</th>\n",
       "      <th>Predicted</th>\n",
       "    </tr>\n",
       "  </thead>\n",
       "  <tbody>\n",
       "    <tr>\n",
       "      <th>0</th>\n",
       "      <td>385000</td>\n",
       "      <td>226581.377473</td>\n",
       "    </tr>\n",
       "  </tbody>\n",
       "</table>\n",
       "</div>"
      ],
      "text/plain": [
       "   Actual      Predicted\n",
       "0  385000  226581.377473"
      ]
     },
     "execution_count": 122,
     "metadata": {},
     "output_type": "execute_result"
    }
   ],
   "source": [
    "y_predd = regressor.predict(X_test)\n",
    "df = pd.DataFrame({'Actual': y_test[0], 'Predicted': y_predd[0]})\n",
    "df1 = df.head(10)\n",
    "df1"
   ]
  },
  {
   "cell_type": "code",
   "execution_count": 181,
   "metadata": {},
   "outputs": [
    {
     "data": {
      "text/plain": [
       "<matplotlib.axes._subplots.AxesSubplot at 0x156de3292c8>"
      ]
     },
     "execution_count": 181,
     "metadata": {},
     "output_type": "execute_result"
    },
    {
     "data": {
      "image/png": "[encoded data removed]",
      "text/plain": [
       "<Figure size 720x360 with 1 Axes>"
      ]
     },
     "metadata": {
      "needs_background": "light"
     },
     "output_type": "display_data"
    }
   ],
   "source": [
    "fig = plt.figure(figsize=(10,5))\n",
    "residuals = (y_test- y_pred)\n",
    "sns.distplot(residuals)"
   ]
  },
  {
   "cell_type": "code",
   "execution_count": 182,
   "metadata": {},
   "outputs": [
    {
     "name": "stdout",
     "output_type": "stream",
     "text": [
      "Mean Absolute Error: 145429.02\n",
      "Mean Squared Error:57760412866.38\n",
      "Root Mean Squared Error:240333.96\n",
      "Variance score is: 0.57\n"
     ]
    }
   ],
   "source": [
    "from sklearn import metrics\n",
    "\n",
    "print('Mean Absolute Error: {:.2f}'.format(metrics.mean_absolute_error(y_test, y_predd))) \n",
    "print('Mean Squared Error:{:.2f}'.format(metrics.mean_squared_error(y_test, y_predd)))  \n",
    "print('Root Mean Squared Error:{:.2f}'.format(np.sqrt(metrics.mean_squared_error(y_test, y_predd))))\n",
    "print('Variance score is: {:.2f}'.format(metrics.explained_variance_score(y_test,y_predd)))"
   ]
  },
  {
   "cell_type": "code",
   "execution_count": 183,
   "metadata": {},
   "outputs": [
    {
     "data": {
      "text/plain": [
       "570026.8630952381"
      ]
     },
     "execution_count": 183,
     "metadata": {},
     "output_type": "execute_result"
    }
   ],
   "source": [
    "data['PRICE'].mean()"
   ]
  },
  {
   "cell_type": "raw",
   "metadata": {},
   "source": [
    "print('Linear Regression Model:')\n",
    "print(\"Train Score {:.2f}\".format(regressor.score(X_train,y_train)))\n",
    "print(\"Test Score {:.2f}\".format(regressor.score(X_test, y_test)))"
   ]
  },
  {
   "cell_type": "markdown",
   "metadata": {},
   "source": [
    "## Keras Regression"
   ]
  },
  {
   "cell_type": "code",
   "execution_count": 184,
   "metadata": {},
   "outputs": [],
   "source": [
    "from tensorflow.keras.models import Sequential\n",
    "from tensorflow.keras.layers import Dense, Activation\n",
    "from tensorflow.keras.optimizers import Adam"
   ]
  },
  {
   "cell_type": "code",
   "execution_count": 185,
   "metadata": {},
   "outputs": [],
   "source": [
    "model = Sequential()\n",
    "\n",
    "model.add(Dense(7,activation='relu'))\n",
    "model.add(Dense(7,activation='relu'))\n",
    "model.add(Dense(7,activation='relu'))\n",
    "model.add(Dense(7,activation='relu'))\n",
    "model.add(Dense(1))\n",
    "\n",
    "model.compile(optimizer='adam',loss='mse')"
   ]
  },
  {
   "cell_type": "code",
   "execution_count": 186,
   "metadata": {},
   "outputs": [
    {
     "name": "stdout",
     "output_type": "stream",
     "text": [
      "Epoch 1/400\n",
      "2/2 [==============================] - 0s 47ms/step - loss: 576086081536.0000 - val_loss: 428783239168.0000\n",
      "Epoch 2/400\n",
      "2/2 [==============================] - 0s 8ms/step - loss: 576086081536.0000 - val_loss: 428783206400.0000\n",
      "Epoch 3/400\n",
      "2/2 [==============================] - 0s 9ms/step - loss: 576086016000.0000 - val_loss: 428783173632.0000\n",
      "Epoch 4/400\n",
      "2/2 [==============================] - 0s 8ms/step - loss: 576085950464.0000 - val_loss: 428783173632.0000\n",
      "Epoch 5/400\n",
      "2/2 [==============================] - 0s 9ms/step - loss: 576085950464.0000 - val_loss: 428783140864.0000\n",
      "Epoch 6/400\n",
      "2/2 [==============================] - 0s 8ms/step - loss: 576085884928.0000 - val_loss: 428783140864.0000\n",
      "Epoch 7/400\n",
      "2/2 [==============================] - 0s 9ms/step - loss: 576085950464.0000 - val_loss: 428783108096.0000\n",
      "Epoch 8/400\n",
      "2/2 [==============================] - 0s 8ms/step - loss: 576085884928.0000 - val_loss: 428783108096.0000\n",
      "Epoch 9/400\n",
      "2/2 [==============================] - 0s 9ms/step - loss: 576085884928.0000 - val_loss: 428783108096.0000\n",
      "Epoch 10/400\n",
      "2/2 [==============================] - 0s 8ms/step - loss: 576085819392.0000 - val_loss: 428783042560.0000\n",
      "Epoch 11/400\n",
      "2/2 [==============================] - 0s 8ms/step - loss: 576085819392.0000 - val_loss: 428783009792.0000\n",
      "Epoch 12/400\n",
      "2/2 [==============================] - 0s 9ms/step - loss: 576085753856.0000 - val_loss: 428783009792.0000\n",
      "Epoch 13/400\n",
      "2/2 [==============================] - 0s 8ms/step - loss: 576085753856.0000 - val_loss: 428782977024.0000\n",
      "Epoch 14/400\n",
      "2/2 [==============================] - 0s 8ms/step - loss: 576085688320.0000 - val_loss: 428782944256.0000\n",
      "Epoch 15/400\n",
      "2/2 [==============================] - 0s 9ms/step - loss: 576085688320.0000 - val_loss: 428782944256.0000\n",
      "Epoch 16/400\n",
      "2/2 [==============================] - 0s 10ms/step - loss: 576085622784.0000 - val_loss: 428782911488.0000\n",
      "Epoch 17/400\n",
      "2/2 [==============================] - 0s 9ms/step - loss: 576085622784.0000 - val_loss: 428782911488.0000\n",
      "Epoch 18/400\n",
      "2/2 [==============================] - 0s 9ms/step - loss: 576085622784.0000 - val_loss: 428782878720.0000\n",
      "Epoch 19/400\n",
      "2/2 [==============================] - 0s 8ms/step - loss: 576085622784.0000 - val_loss: 428782813184.0000\n",
      "Epoch 20/400\n",
      "2/2 [==============================] - 0s 8ms/step - loss: 576085557248.0000 - val_loss: 428782780416.0000\n",
      "Epoch 21/400\n",
      "2/2 [==============================] - 0s 8ms/step - loss: 576085557248.0000 - val_loss: 428782747648.0000\n",
      "Epoch 22/400\n",
      "2/2 [==============================] - 0s 10ms/step - loss: 576085557248.0000 - val_loss: 428782747648.0000\n",
      "Epoch 23/400\n",
      "2/2 [==============================] - 0s 9ms/step - loss: 576085491712.0000 - val_loss: 428782714880.0000\n",
      "Epoch 24/400\n",
      "2/2 [==============================] - 0s 10ms/step - loss: 576085426176.0000 - val_loss: 428782714880.0000\n",
      "Epoch 25/400\n",
      "2/2 [==============================] - 0s 8ms/step - loss: 576085426176.0000 - val_loss: 428782682112.0000\n",
      "Epoch 26/400\n",
      "2/2 [==============================] - 0s 9ms/step - loss: 576085360640.0000 - val_loss: 428782649344.0000\n",
      "Epoch 27/400\n",
      "2/2 [==============================] - 0s 8ms/step - loss: 576085360640.0000 - val_loss: 428782649344.0000\n",
      "Epoch 28/400\n",
      "2/2 [==============================] - 0s 8ms/step - loss: 576085295104.0000 - val_loss: 428782616576.0000\n",
      "Epoch 29/400\n",
      "2/2 [==============================] - 0s 8ms/step - loss: 576085295104.0000 - val_loss: 428782551040.0000\n",
      "Epoch 30/400\n",
      "2/2 [==============================] - 0s 9ms/step - loss: 576085229568.0000 - val_loss: 428782485504.0000\n",
      "Epoch 31/400\n",
      "2/2 [==============================] - 0s 9ms/step - loss: 576085164032.0000 - val_loss: 428782485504.0000\n",
      "Epoch 32/400\n",
      "2/2 [==============================] - 0s 8ms/step - loss: 576085098496.0000 - val_loss: 428782485504.0000\n",
      "Epoch 33/400\n",
      "2/2 [==============================] - 0s 10ms/step - loss: 576085164032.0000 - val_loss: 428782419968.0000\n",
      "Epoch 34/400\n",
      "2/2 [==============================] - 0s 8ms/step - loss: 576085032960.0000 - val_loss: 428782387200.0000\n",
      "Epoch 35/400\n",
      "2/2 [==============================] - 0s 8ms/step - loss: 576085032960.0000 - val_loss: 428782288896.0000\n",
      "Epoch 36/400\n",
      "2/2 [==============================] - 0s 9ms/step - loss: 576085032960.0000 - val_loss: 428782288896.0000\n",
      "Epoch 37/400\n",
      "2/2 [==============================] - 0s 8ms/step - loss: 576084901888.0000 - val_loss: 428782223360.0000\n",
      "Epoch 38/400\n",
      "2/2 [==============================] - 0s 8ms/step - loss: 576084836352.0000 - val_loss: 428782190592.0000\n",
      "Epoch 39/400\n",
      "2/2 [==============================] - 0s 8ms/step - loss: 576084770816.0000 - val_loss: 428782157824.0000\n",
      "Epoch 40/400\n",
      "2/2 [==============================] - 0s 8ms/step - loss: 576084705280.0000 - val_loss: 428782125056.0000\n",
      "Epoch 41/400\n",
      "2/2 [==============================] - 0s 8ms/step - loss: 576084705280.0000 - val_loss: 428782026752.0000\n",
      "Epoch 42/400\n",
      "2/2 [==============================] - 0s 7ms/step - loss: 576084574208.0000 - val_loss: 428782026752.0000\n",
      "Epoch 43/400\n",
      "2/2 [==============================] - 0s 8ms/step - loss: 576084574208.0000 - val_loss: 428781961216.0000\n",
      "Epoch 44/400\n",
      "2/2 [==============================] - ETA: 0s - loss: 511325241344.00 - 0s 7ms/step - loss: 576084443136.0000 - val_loss: 428781895680.0000\n",
      "Epoch 45/400\n",
      "2/2 [==============================] - 0s 8ms/step - loss: 576084443136.0000 - val_loss: 428781797376.0000\n",
      "Epoch 46/400\n",
      "2/2 [==============================] - 0s 7ms/step - loss: 576084312064.0000 - val_loss: 428781731840.0000\n",
      "Epoch 47/400\n",
      "2/2 [==============================] - 0s 8ms/step - loss: 576084246528.0000 - val_loss: 428781731840.0000\n",
      "Epoch 48/400\n",
      "2/2 [==============================] - 0s 8ms/step - loss: 576084115456.0000 - val_loss: 428781633536.0000\n",
      "Epoch 49/400\n",
      "2/2 [==============================] - 0s 7ms/step - loss: 576084115456.0000 - val_loss: 428781535232.0000\n",
      "Epoch 50/400\n",
      "2/2 [==============================] - 0s 9ms/step - loss: 576083984384.0000 - val_loss: 428781502464.0000\n",
      "Epoch 51/400\n",
      "2/2 [==============================] - 0s 8ms/step - loss: 576083918848.0000 - val_loss: 428781404160.0000\n",
      "Epoch 52/400\n",
      "2/2 [==============================] - 0s 9ms/step - loss: 576083853312.0000 - val_loss: 428781305856.0000\n",
      "Epoch 53/400\n",
      "2/2 [==============================] - 0s 8ms/step - loss: 576083656704.0000 - val_loss: 428781240320.0000\n",
      "Epoch 54/400\n",
      "2/2 [==============================] - 0s 8ms/step - loss: 576083591168.0000 - val_loss: 428781174784.0000\n",
      "Epoch 55/400\n",
      "2/2 [==============================] - 0s 7ms/step - loss: 576083525632.0000 - val_loss: 428781076480.0000\n",
      "Epoch 56/400\n",
      "2/2 [==============================] - 0s 8ms/step - loss: 576083394560.0000 - val_loss: 428780978176.0000\n",
      "Epoch 57/400\n",
      "2/2 [==============================] - 0s 9ms/step - loss: 576083263488.0000 - val_loss: 428780912640.0000\n",
      "Epoch 58/400\n",
      "2/2 [==============================] - 0s 7ms/step - loss: 576083132416.0000 - val_loss: 428780748800.0000\n",
      "Epoch 59/400\n",
      "2/2 [==============================] - 0s 9ms/step - loss: 576083001344.0000 - val_loss: 428780683264.0000\n",
      "Epoch 60/400\n",
      "2/2 [==============================] - 0s 7ms/step - loss: 576082870272.0000 - val_loss: 428780584960.0000\n",
      "Epoch 61/400\n",
      "2/2 [==============================] - 0s 8ms/step - loss: 576082739200.0000 - val_loss: 428780421120.0000\n",
      "Epoch 62/400\n",
      "2/2 [==============================] - 0s 7ms/step - loss: 576082608128.0000 - val_loss: 428780322816.0000\n",
      "Epoch 63/400\n",
      "2/2 [==============================] - 0s 8ms/step - loss: 576082411520.0000 - val_loss: 428780191744.0000\n",
      "Epoch 64/400\n",
      "2/2 [==============================] - 0s 7ms/step - loss: 576082280448.0000 - val_loss: 428780093440.0000\n",
      "Epoch 65/400\n",
      "2/2 [==============================] - 0s 8ms/step - loss: 576082149376.0000 - val_loss: 428779962368.0000\n",
      "Epoch 66/400\n",
      "2/2 [==============================] - 0s 7ms/step - loss: 576081952768.0000 - val_loss: 428779798528.0000\n",
      "Epoch 67/400\n",
      "2/2 [==============================] - 0s 8ms/step - loss: 576081756160.0000 - val_loss: 428779700224.0000\n",
      "Epoch 68/400\n",
      "2/2 [==============================] - 0s 7ms/step - loss: 576081494016.0000 - val_loss: 428779503616.0000\n",
      "Epoch 69/400\n"
     ]
    },
    {
     "name": "stdout",
     "output_type": "stream",
     "text": [
      "2/2 [==============================] - 0s 8ms/step - loss: 576081362944.0000 - val_loss: 428779339776.0000\n",
      "Epoch 70/400\n",
      "2/2 [==============================] - 0s 8ms/step - loss: 576081100800.0000 - val_loss: 428779175936.0000\n",
      "Epoch 71/400\n",
      "2/2 [==============================] - 0s 7ms/step - loss: 576080904192.0000 - val_loss: 428778946560.0000\n",
      "Epoch 72/400\n",
      "2/2 [==============================] - 0s 8ms/step - loss: 576080642048.0000 - val_loss: 428778782720.0000\n",
      "Epoch 73/400\n",
      "2/2 [==============================] - 0s 6ms/step - loss: 576080445440.0000 - val_loss: 428778553344.0000\n",
      "Epoch 74/400\n",
      "2/2 [==============================] - 0s 9ms/step - loss: 576080183296.0000 - val_loss: 428778356736.0000\n",
      "Epoch 75/400\n",
      "2/2 [==============================] - 0s 8ms/step - loss: 576079855616.0000 - val_loss: 428778127360.0000\n",
      "Epoch 76/400\n",
      "2/2 [==============================] - 0s 7ms/step - loss: 576079593472.0000 - val_loss: 428777930752.0000\n",
      "Epoch 77/400\n",
      "2/2 [==============================] - 0s 8ms/step - loss: 576079265792.0000 - val_loss: 428777734144.0000\n",
      "Epoch 78/400\n",
      "2/2 [==============================] - 0s 7ms/step - loss: 576078938112.0000 - val_loss: 428777472000.0000\n",
      "Epoch 79/400\n",
      "2/2 [==============================] - 0s 8ms/step - loss: 576078610432.0000 - val_loss: 428777177088.0000\n",
      "Epoch 80/400\n",
      "2/2 [==============================] - 0s 7ms/step - loss: 576078282752.0000 - val_loss: 428776882176.0000\n",
      "Epoch 81/400\n",
      "2/2 [==============================] - 0s 7ms/step - loss: 576077955072.0000 - val_loss: 428776620032.0000\n",
      "Epoch 82/400\n",
      "2/2 [==============================] - 0s 8ms/step - loss: 576077561856.0000 - val_loss: 428776325120.0000\n",
      "Epoch 83/400\n",
      "2/2 [==============================] - 0s 7ms/step - loss: 576077168640.0000 - val_loss: 428775997440.0000\n",
      "Epoch 84/400\n",
      "2/2 [==============================] - 0s 7ms/step - loss: 576076709888.0000 - val_loss: 428775636992.0000\n",
      "Epoch 85/400\n",
      "2/2 [==============================] - 0s 7ms/step - loss: 576076185600.0000 - val_loss: 428775309312.0000\n",
      "Epoch 86/400\n",
      "2/2 [==============================] - 0s 8ms/step - loss: 576075792384.0000 - val_loss: 428774916096.0000\n",
      "Epoch 87/400\n",
      "2/2 [==============================] - 0s 7ms/step - loss: 576075333632.0000 - val_loss: 428774522880.0000\n",
      "Epoch 88/400\n",
      "2/2 [==============================] - 0s 8ms/step - loss: 576074809344.0000 - val_loss: 428774096896.0000\n",
      "Epoch 89/400\n",
      "2/2 [==============================] - 0s 7ms/step - loss: 576074219520.0000 - val_loss: 428773736448.0000\n",
      "Epoch 90/400\n",
      "2/2 [==============================] - 0s 7ms/step - loss: 576073695232.0000 - val_loss: 428773277696.0000\n",
      "Epoch 91/400\n",
      "2/2 [==============================] - 0s 7ms/step - loss: 576073039872.0000 - val_loss: 428772786176.0000\n",
      "Epoch 92/400\n",
      "2/2 [==============================] - 0s 8ms/step - loss: 576072450048.0000 - val_loss: 428772294656.0000\n",
      "Epoch 93/400\n",
      "2/2 [==============================] - 0s 7ms/step - loss: 576071794688.0000 - val_loss: 428771803136.0000\n",
      "Epoch 94/400\n",
      "2/2 [==============================] - 0s 8ms/step - loss: 576071073792.0000 - val_loss: 428771213312.0000\n",
      "Epoch 95/400\n",
      "2/2 [==============================] - 0s 7ms/step - loss: 576070483968.0000 - val_loss: 428770689024.0000\n",
      "Epoch 96/400\n",
      "2/2 [==============================] - 0s 8ms/step - loss: 576069632000.0000 - val_loss: 428770131968.0000\n",
      "Epoch 97/400\n",
      "2/2 [==============================] - 0s 7ms/step - loss: 576068911104.0000 - val_loss: 428769542144.0000\n",
      "Epoch 98/400\n",
      "2/2 [==============================] - 0s 8ms/step - loss: 576068059136.0000 - val_loss: 428768886784.0000\n",
      "Epoch 99/400\n",
      "2/2 [==============================] - 0s 7ms/step - loss: 576067141632.0000 - val_loss: 428768165888.0000\n",
      "Epoch 100/400\n",
      "2/2 [==============================] - 0s 7ms/step - loss: 576066289664.0000 - val_loss: 428767510528.0000\n",
      "Epoch 101/400\n",
      "2/2 [==============================] - 0s 7ms/step - loss: 576065372160.0000 - val_loss: 428766756864.0000\n",
      "Epoch 102/400\n",
      "2/2 [==============================] - 0s 7ms/step - loss: 576064389120.0000 - val_loss: 428766003200.0000\n",
      "Epoch 103/400\n",
      "2/2 [==============================] - 0s 7ms/step - loss: 576063340544.0000 - val_loss: 428765249536.0000\n",
      "Epoch 104/400\n",
      "2/2 [==============================] - 0s 7ms/step - loss: 576062291968.0000 - val_loss: 428764430336.0000\n",
      "Epoch 105/400\n",
      "2/2 [==============================] - 0s 7ms/step - loss: 576061177856.0000 - val_loss: 428763643904.0000\n",
      "Epoch 106/400\n",
      "2/2 [==============================] - 0s 7ms/step - loss: 576059932672.0000 - val_loss: 428762693632.0000\n",
      "Epoch 107/400\n",
      "2/2 [==============================] - 0s 7ms/step - loss: 576058687488.0000 - val_loss: 428761776128.0000\n",
      "Epoch 108/400\n",
      "2/2 [==============================] - 0s 7ms/step - loss: 576057311232.0000 - val_loss: 428760825856.0000\n",
      "Epoch 109/400\n",
      "2/2 [==============================] - 0s 7ms/step - loss: 576056066048.0000 - val_loss: 428759810048.0000\n",
      "Epoch 110/400\n",
      "2/2 [==============================] - 0s 7ms/step - loss: 576054755328.0000 - val_loss: 428758794240.0000\n",
      "Epoch 111/400\n",
      "2/2 [==============================] - 0s 9ms/step - loss: 576053116928.0000 - val_loss: 428757712896.0000\n",
      "Epoch 112/400\n",
      "2/2 [==============================] - 0s 7ms/step - loss: 576051740672.0000 - val_loss: 428756566016.0000\n",
      "Epoch 113/400\n",
      "2/2 [==============================] - 0s 8ms/step - loss: 576050036736.0000 - val_loss: 428755353600.0000\n",
      "Epoch 114/400\n",
      "2/2 [==============================] - 0s 7ms/step - loss: 576048398336.0000 - val_loss: 428754108416.0000\n",
      "Epoch 115/400\n",
      "2/2 [==============================] - 0s 8ms/step - loss: 576046759936.0000 - val_loss: 428752896000.0000\n",
      "Epoch 116/400\n",
      "2/2 [==============================] - 0s 7ms/step - loss: 576044859392.0000 - val_loss: 428751585280.0000\n",
      "Epoch 117/400\n",
      "2/2 [==============================] - 0s 7ms/step - loss: 576042958848.0000 - val_loss: 428750176256.0000\n",
      "Epoch 118/400\n",
      "2/2 [==============================] - 0s 7ms/step - loss: 576040927232.0000 - val_loss: 428748734464.0000\n",
      "Epoch 119/400\n",
      "2/2 [==============================] - 0s 7ms/step - loss: 576038830080.0000 - val_loss: 428747259904.0000\n",
      "Epoch 120/400\n",
      "2/2 [==============================] - 0s 7ms/step - loss: 576036732928.0000 - val_loss: 428745687040.0000\n",
      "Epoch 121/400\n",
      "2/2 [==============================] - 0s 8ms/step - loss: 576034439168.0000 - val_loss: 428744081408.0000\n",
      "Epoch 122/400\n",
      "2/2 [==============================] - 0s 8ms/step - loss: 576032014336.0000 - val_loss: 428742475776.0000\n",
      "Epoch 123/400\n",
      "2/2 [==============================] - 0s 7ms/step - loss: 576029655040.0000 - val_loss: 428740771840.0000\n",
      "Epoch 124/400\n",
      "2/2 [==============================] - 0s 7ms/step - loss: 576026968064.0000 - val_loss: 428738936832.0000\n",
      "Epoch 125/400\n",
      "2/2 [==============================] - 0s 7ms/step - loss: 576024477696.0000 - val_loss: 428737069056.0000\n",
      "Epoch 126/400\n",
      "2/2 [==============================] - 0s 7ms/step - loss: 576021725184.0000 - val_loss: 428735168512.0000\n",
      "Epoch 127/400\n",
      "2/2 [==============================] - 0s 7ms/step - loss: 576019038208.0000 - val_loss: 428733104128.0000\n",
      "Epoch 128/400\n",
      "2/2 [==============================] - 0s 7ms/step - loss: 576015958016.0000 - val_loss: 428731105280.0000\n",
      "Epoch 129/400\n",
      "2/2 [==============================] - 0s 7ms/step - loss: 576012746752.0000 - val_loss: 428728909824.0000\n",
      "Epoch 130/400\n",
      "2/2 [==============================] - 0s 7ms/step - loss: 576009404416.0000 - val_loss: 428726747136.0000\n",
      "Epoch 131/400\n",
      "2/2 [==============================] - 0s 7ms/step - loss: 576006389760.0000 - val_loss: 428724420608.0000\n",
      "Epoch 132/400\n",
      "2/2 [==============================] - 0s 10ms/step - loss: 576002981888.0000 - val_loss: 428722061312.0000\n",
      "Epoch 133/400\n",
      "2/2 [==============================] - ETA: 0s - loss: 364880527360.00 - 0s 8ms/step - loss: 575999115264.0000 - val_loss: 428719603712.0000\n",
      "Epoch 134/400\n",
      "2/2 [==============================] - 0s 8ms/step - loss: 575995969536.0000 - val_loss: 428717113344.0000\n",
      "Epoch 135/400\n",
      "2/2 [==============================] - 0s 8ms/step - loss: 575991971840.0000 - val_loss: 428714524672.0000\n",
      "Epoch 136/400\n",
      "2/2 [==============================] - 0s 7ms/step - loss: 575988039680.0000 - val_loss: 428711837696.0000\n"
     ]
    },
    {
     "name": "stdout",
     "output_type": "stream",
     "text": [
      "Epoch 137/400\n",
      "2/2 [==============================] - 0s 9ms/step - loss: 575984369664.0000 - val_loss: 428709019648.0000\n",
      "Epoch 138/400\n",
      "2/2 [==============================] - 0s 7ms/step - loss: 575980044288.0000 - val_loss: 428706168832.0000\n",
      "Epoch 139/400\n",
      "2/2 [==============================] - 0s 8ms/step - loss: 575975456768.0000 - val_loss: 428703219712.0000\n",
      "Epoch 140/400\n",
      "2/2 [==============================] - 0s 7ms/step - loss: 575971196928.0000 - val_loss: 428700237824.0000\n",
      "Epoch 141/400\n",
      "2/2 [==============================] - 0s 8ms/step - loss: 575966412800.0000 - val_loss: 428697092096.0000\n",
      "Epoch 142/400\n",
      "2/2 [==============================] - 0s 7ms/step - loss: 575961825280.0000 - val_loss: 428693848064.0000\n",
      "Epoch 143/400\n",
      "2/2 [==============================] - 0s 7ms/step - loss: 575957434368.0000 - val_loss: 428690440192.0000\n",
      "Epoch 144/400\n",
      "2/2 [==============================] - 0s 7ms/step - loss: 575951929344.0000 - val_loss: 428686999552.0000\n",
      "Epoch 145/400\n",
      "2/2 [==============================] - 0s 7ms/step - loss: 575946555392.0000 - val_loss: 428683526144.0000\n",
      "Epoch 146/400\n",
      "2/2 [==============================] - 0s 7ms/step - loss: 575941246976.0000 - val_loss: 428679790592.0000\n",
      "Epoch 147/400\n",
      "2/2 [==============================] - 0s 7ms/step - loss: 575935938560.0000 - val_loss: 428676055040.0000\n",
      "Epoch 148/400\n",
      "2/2 [==============================] - 0s 7ms/step - loss: 575930564608.0000 - val_loss: 428672155648.0000\n",
      "Epoch 149/400\n",
      "2/2 [==============================] - 0s 7ms/step - loss: 575924076544.0000 - val_loss: 428668157952.0000\n",
      "Epoch 150/400\n",
      "2/2 [==============================] - 0s 7ms/step - loss: 575918047232.0000 - val_loss: 428664061952.0000\n",
      "Epoch 151/400\n",
      "2/2 [==============================] - 0s 7ms/step - loss: 575912083456.0000 - val_loss: 428659867648.0000\n",
      "Epoch 152/400\n",
      "2/2 [==============================] - 0s 8ms/step - loss: 575905333248.0000 - val_loss: 428655443968.0000\n",
      "Epoch 153/400\n",
      "2/2 [==============================] - 0s 7ms/step - loss: 575898976256.0000 - val_loss: 428651020288.0000\n",
      "Epoch 154/400\n",
      "2/2 [==============================] - 0s 7ms/step - loss: 575892422656.0000 - val_loss: 428646334464.0000\n",
      "Epoch 155/400\n",
      "2/2 [==============================] - 0s 7ms/step - loss: 575884951552.0000 - val_loss: 428641615872.0000\n",
      "Epoch 156/400\n",
      "2/2 [==============================] - 0s 7ms/step - loss: 575878070272.0000 - val_loss: 428636798976.0000\n",
      "Epoch 157/400\n",
      "2/2 [==============================] - 0s 7ms/step - loss: 575869943808.0000 - val_loss: 428631818240.0000\n",
      "Epoch 158/400\n",
      "2/2 [==============================] - 0s 7ms/step - loss: 575862538240.0000 - val_loss: 428626739200.0000\n",
      "Epoch 159/400\n",
      "2/2 [==============================] - 0s 8ms/step - loss: 575854215168.0000 - val_loss: 428621496320.0000\n",
      "Epoch 160/400\n",
      "2/2 [==============================] - 0s 8ms/step - loss: 575847268352.0000 - val_loss: 428615958528.0000\n",
      "Epoch 161/400\n",
      "2/2 [==============================] - 0s 7ms/step - loss: 575839076352.0000 - val_loss: 428610420736.0000\n",
      "Epoch 162/400\n",
      "2/2 [==============================] - 0s 7ms/step - loss: 575829639168.0000 - val_loss: 428604719104.0000\n",
      "Epoch 163/400\n",
      "2/2 [==============================] - 0s 6ms/step - loss: 575821250560.0000 - val_loss: 428598919168.0000\n",
      "Epoch 164/400\n",
      "2/2 [==============================] - 0s 8ms/step - loss: 575812009984.0000 - val_loss: 428592922624.0000\n",
      "Epoch 165/400\n",
      "2/2 [==============================] - 0s 7ms/step - loss: 575803097088.0000 - val_loss: 428586762240.0000\n",
      "Epoch 166/400\n",
      "2/2 [==============================] - 0s 8ms/step - loss: 575793201152.0000 - val_loss: 428580405248.0000\n",
      "Epoch 167/400\n",
      "2/2 [==============================] - 0s 7ms/step - loss: 575783829504.0000 - val_loss: 428573917184.0000\n",
      "Epoch 168/400\n",
      "2/2 [==============================] - 0s 8ms/step - loss: 575773147136.0000 - val_loss: 428567265280.0000\n",
      "Epoch 169/400\n",
      "2/2 [==============================] - 0s 7ms/step - loss: 575762857984.0000 - val_loss: 428560416768.0000\n",
      "Epoch 170/400\n",
      "2/2 [==============================] - 0s 7ms/step - loss: 575753289728.0000 - val_loss: 428553273344.0000\n",
      "Epoch 171/400\n",
      "2/2 [==============================] - 0s 7ms/step - loss: 575741689856.0000 - val_loss: 428546097152.0000\n",
      "Epoch 172/400\n",
      "2/2 [==============================] - 0s 7ms/step - loss: 575730483200.0000 - val_loss: 428538724352.0000\n",
      "Epoch 173/400\n",
      "2/2 [==============================] - 0s 8ms/step - loss: 575719866368.0000 - val_loss: 428531089408.0000\n",
      "Epoch 174/400\n",
      "2/2 [==============================] - 0s 7ms/step - loss: 575708135424.0000 - val_loss: 428523356160.0000\n",
      "Epoch 175/400\n",
      "2/2 [==============================] - 0s 7ms/step - loss: 575695224832.0000 - val_loss: 428515491840.0000\n",
      "Epoch 176/400\n",
      "2/2 [==============================] - 0s 7ms/step - loss: 575682969600.0000 - val_loss: 428507365376.0000\n",
      "Epoch 177/400\n",
      "2/2 [==============================] - 0s 7ms/step - loss: 575671173120.0000 - val_loss: 428499042304.0000\n",
      "Epoch 178/400\n",
      "2/2 [==============================] - 0s 7ms/step - loss: 575657476096.0000 - val_loss: 428490522624.0000\n",
      "Epoch 179/400\n",
      "2/2 [==============================] - 0s 7ms/step - loss: 575643910144.0000 - val_loss: 428481871872.0000\n",
      "Epoch 180/400\n",
      "2/2 [==============================] - 0s 7ms/step - loss: 575630475264.0000 - val_loss: 428472860672.0000\n",
      "Epoch 181/400\n",
      "2/2 [==============================] - 0s 7ms/step - loss: 575617236992.0000 - val_loss: 428463652864.0000\n",
      "Epoch 182/400\n",
      "2/2 [==============================] - 0s 7ms/step - loss: 575601508352.0000 - val_loss: 428454281216.0000\n",
      "Epoch 183/400\n",
      "2/2 [==============================] - 0s 7ms/step - loss: 575587942400.0000 - val_loss: 428444647424.0000\n",
      "Epoch 184/400\n",
      "2/2 [==============================] - 0s 7ms/step - loss: 575571427328.0000 - val_loss: 428434849792.0000\n",
      "Epoch 185/400\n",
      "2/2 [==============================] - 0s 7ms/step - loss: 575557074944.0000 - val_loss: 428424691712.0000\n",
      "Epoch 186/400\n",
      "2/2 [==============================] - 0s 7ms/step - loss: 575540428800.0000 - val_loss: 428414402560.0000\n",
      "Epoch 187/400\n",
      "2/2 [==============================] - 0s 7ms/step - loss: 575524306944.0000 - val_loss: 428403818496.0000\n",
      "Epoch 188/400\n",
      "2/2 [==============================] - 0s 7ms/step - loss: 575508512768.0000 - val_loss: 428392939520.0000\n",
      "Epoch 189/400\n",
      "2/2 [==============================] - 0s 7ms/step - loss: 575490883584.0000 - val_loss: 428381929472.0000\n",
      "Epoch 190/400\n",
      "2/2 [==============================] - 0s 9ms/step - loss: 575473844224.0000 - val_loss: 428370657280.0000\n",
      "Epoch 191/400\n",
      "2/2 [==============================] - 0s 8ms/step - loss: 575454052352.0000 - val_loss: 428359254016.0000\n",
      "Epoch 192/400\n",
      "2/2 [==============================] - 0s 7ms/step - loss: 575437209600.0000 - val_loss: 428347424768.0000\n",
      "Epoch 193/400\n",
      "2/2 [==============================] - 0s 8ms/step - loss: 575419580416.0000 - val_loss: 428335398912.0000\n",
      "Epoch 194/400\n",
      "2/2 [==============================] - 0s 7ms/step - loss: 575399329792.0000 - val_loss: 428323110912.0000\n",
      "Epoch 195/400\n",
      "2/2 [==============================] - 0s 7ms/step - loss: 575380520960.0000 - val_loss: 428310560768.0000\n",
      "Epoch 196/400\n",
      "2/2 [==============================] - 0s 7ms/step - loss: 575360925696.0000 - val_loss: 428297814016.0000\n",
      "Epoch 197/400\n",
      "2/2 [==============================] - 0s 7ms/step - loss: 575339233280.0000 - val_loss: 428284837888.0000\n",
      "Epoch 198/400\n",
      "2/2 [==============================] - 0s 8ms/step - loss: 575318327296.0000 - val_loss: 428271599616.0000\n",
      "Epoch 199/400\n",
      "2/2 [==============================] - 0s 8ms/step - loss: 575297159168.0000 - val_loss: 428258000896.0000\n",
      "Epoch 200/400\n",
      "2/2 [==============================] - 0s 7ms/step - loss: 575276515328.0000 - val_loss: 428244041728.0000\n",
      "Epoch 201/400\n",
      "2/2 [==============================] - 0s 7ms/step - loss: 575254167552.0000 - val_loss: 428229722112.0000\n",
      "Epoch 202/400\n",
      "2/2 [==============================] - 0s 7ms/step - loss: 575231754240.0000 - val_loss: 428215173120.0000\n",
      "Epoch 203/400\n",
      "2/2 [==============================] - 0s 8ms/step - loss: 575205801984.0000 - val_loss: 428200493056.0000\n",
      "Epoch 204/400\n",
      "2/2 [==============================] - 0s 7ms/step - loss: 575182864384.0000 - val_loss: 428185354240.0000\n",
      "Epoch 205/400\n",
      "2/2 [==============================] - 0s 8ms/step - loss: 575159336960.0000 - val_loss: 428169789440.0000\n",
      "Epoch 206/400\n",
      "2/2 [==============================] - 0s 7ms/step - loss: 575134236672.0000 - val_loss: 428153864192.0000\n",
      "Epoch 207/400\n",
      "2/2 [==============================] - 0s 7ms/step - loss: 575108481024.0000 - val_loss: 428137709568.0000\n",
      "Epoch 208/400\n",
      "2/2 [==============================] - 0s 7ms/step - loss: 575084363776.0000 - val_loss: 428121030656.0000\n",
      "Epoch 209/400\n",
      "2/2 [==============================] - 0s 7ms/step - loss: 575056969728.0000 - val_loss: 428104155136.0000\n",
      "Epoch 210/400\n",
      "2/2 [==============================] - 0s 8ms/step - loss: 575029116928.0000 - val_loss: 428086984704.0000\n",
      "Epoch 211/400\n",
      "2/2 [==============================] - 0s 7ms/step - loss: 575000805376.0000 - val_loss: 428069486592.0000\n",
      "Epoch 212/400\n",
      "2/2 [==============================] - 0s 7ms/step - loss: 574972821504.0000 - val_loss: 428051628032.0000\n",
      "Epoch 213/400\n",
      "2/2 [==============================] - 0s 7ms/step - loss: 574944444416.0000 - val_loss: 428033376256.0000\n",
      "Epoch 214/400\n",
      "2/2 [==============================] - 0s 7ms/step - loss: 574915739648.0000 - val_loss: 428014665728.0000\n",
      "Epoch 215/400\n",
      "2/2 [==============================] - 0s 7ms/step - loss: 574885920768.0000 - val_loss: 427995660288.0000\n",
      "Epoch 216/400\n",
      "2/2 [==============================] - 0s 7ms/step - loss: 574855708672.0000 - val_loss: 427976359936.0000\n",
      "Epoch 217/400\n",
      "2/2 [==============================] - 0s 7ms/step - loss: 574822350848.0000 - val_loss: 427956895744.0000\n",
      "Epoch 218/400\n",
      "2/2 [==============================] - 0s 8ms/step - loss: 574789124096.0000 - val_loss: 427937005568.0000\n",
      "Epoch 219/400\n",
      "2/2 [==============================] - 0s 7ms/step - loss: 574760747008.0000 - val_loss: 427916460032.0000\n",
      "Epoch 220/400\n",
      "2/2 [==============================] - 0s 7ms/step - loss: 574724505600.0000 - val_loss: 427895750656.0000\n",
      "Epoch 221/400\n",
      "2/2 [==============================] - ETA: 0s - loss: 499308658688.00 - 0s 7ms/step - loss: 574691278848.0000 - val_loss: 427874516992.0000\n",
      "Epoch 222/400\n",
      "2/2 [==============================] - 0s 8ms/step - loss: 574656348160.0000 - val_loss: 427852955648.0000\n",
      "Epoch 223/400\n",
      "2/2 [==============================] - 0s 7ms/step - loss: 574621417472.0000 - val_loss: 427830771712.0000\n",
      "Epoch 224/400\n",
      "2/2 [==============================] - 0s 7ms/step - loss: 574586945536.0000 - val_loss: 427808096256.0000\n",
      "Epoch 225/400\n",
      "2/2 [==============================] - 0s 7ms/step - loss: 574552473600.0000 - val_loss: 427784929280.0000\n",
      "Epoch 226/400\n",
      "2/2 [==============================] - 0s 7ms/step - loss: 574511841280.0000 - val_loss: 427761696768.0000\n",
      "Epoch 227/400\n",
      "2/2 [==============================] - 0s 8ms/step - loss: 574472257536.0000 - val_loss: 427738071040.0000\n",
      "Epoch 228/400\n",
      "2/2 [==============================] - 0s 8ms/step - loss: 574438506496.0000 - val_loss: 427713658880.0000\n",
      "Epoch 229/400\n",
      "2/2 [==============================] - 0s 7ms/step - loss: 574398726144.0000 - val_loss: 427689017344.0000\n",
      "Epoch 230/400\n",
      "2/2 [==============================] - 0s 8ms/step - loss: 574354292736.0000 - val_loss: 427664375808.0000\n",
      "Epoch 231/400\n",
      "2/2 [==============================] - 0s 7ms/step - loss: 574317658112.0000 - val_loss: 427638816768.0000\n",
      "Epoch 232/400\n",
      "2/2 [==============================] - 0s 7ms/step - loss: 574271520768.0000 - val_loss: 427613224960.0000\n",
      "Epoch 233/400\n",
      "2/2 [==============================] - 0s 7ms/step - loss: 574233837568.0000 - val_loss: 427586682880.0000\n",
      "Epoch 234/400\n",
      "2/2 [==============================] - 0s 7ms/step - loss: 574188945408.0000 - val_loss: 427559944192.0000\n",
      "Epoch 235/400\n",
      "2/2 [==============================] - 0s 7ms/step - loss: 574143725568.0000 - val_loss: 427532648448.0000\n",
      "Epoch 236/400\n",
      "2/2 [==============================] - 0s 7ms/step - loss: 574102831104.0000 - val_loss: 427504631808.0000\n",
      "Epoch 237/400\n",
      "2/2 [==============================] - 0s 9ms/step - loss: 574057545728.0000 - val_loss: 427476254720.0000\n",
      "Epoch 238/400\n",
      "2/2 [==============================] - 0s 7ms/step - loss: 574011015168.0000 - val_loss: 427447451648.0000\n",
      "Epoch 239/400\n",
      "2/2 [==============================] - 0s 7ms/step - loss: 573960028160.0000 - val_loss: 427418517504.0000\n",
      "Epoch 240/400\n",
      "2/2 [==============================] - 0s 6ms/step - loss: 573914611712.0000 - val_loss: 427388796928.0000\n",
      "Epoch 241/400\n",
      "2/2 [==============================] - 0s 7ms/step - loss: 573867425792.0000 - val_loss: 427358420992.0000\n",
      "Epoch 242/400\n",
      "2/2 [==============================] - 0s 7ms/step - loss: 573819518976.0000 - val_loss: 427327586304.0000\n",
      "Epoch 243/400\n",
      "2/2 [==============================] - 0s 7ms/step - loss: 573765451776.0000 - val_loss: 427296653312.0000\n",
      "Epoch 244/400\n",
      "2/2 [==============================] - 0s 7ms/step - loss: 573719052288.0000 - val_loss: 427264835584.0000\n",
      "Epoch 245/400\n",
      "2/2 [==============================] - 0s 8ms/step - loss: 573659611136.0000 - val_loss: 427233116160.0000\n",
      "Epoch 246/400\n",
      "2/2 [==============================] - 0s 7ms/step - loss: 573611966464.0000 - val_loss: 427200282624.0000\n",
      "Epoch 247/400\n",
      "2/2 [==============================] - 0s 9ms/step - loss: 573557702656.0000 - val_loss: 427166990336.0000\n",
      "Epoch 248/400\n",
      "2/2 [==============================] - 0s 7ms/step - loss: 573502324736.0000 - val_loss: 427133206528.0000\n",
      "Epoch 249/400\n",
      "2/2 [==============================] - 0s 7ms/step - loss: 573449175040.0000 - val_loss: 427098636288.0000\n",
      "Epoch 250/400\n",
      "2/2 [==============================] - 0s 8ms/step - loss: 573389406208.0000 - val_loss: 427063738368.0000\n",
      "Epoch 251/400\n",
      "2/2 [==============================] - 0s 8ms/step - loss: 573329375232.0000 - val_loss: 427028348928.0000\n",
      "Epoch 252/400\n",
      "2/2 [==============================] - 0s 8ms/step - loss: 573273866240.0000 - val_loss: 426992041984.0000\n",
      "Epoch 253/400\n",
      "2/2 [==============================] - 0s 7ms/step - loss: 573212983296.0000 - val_loss: 426955145216.0000\n",
      "Epoch 254/400\n",
      "2/2 [==============================] - 0s 7ms/step - loss: 573154131968.0000 - val_loss: 426917494784.0000\n",
      "Epoch 255/400\n",
      "2/2 [==============================] - 0s 7ms/step - loss: 573092921344.0000 - val_loss: 426879254528.0000\n",
      "Epoch 256/400\n",
      "2/2 [==============================] - 0s 7ms/step - loss: 573027778560.0000 - val_loss: 426840588288.0000\n",
      "Epoch 257/400\n",
      "2/2 [==============================] - 0s 7ms/step - loss: 572962635776.0000 - val_loss: 426801430528.0000\n",
      "Epoch 258/400\n",
      "2/2 [==============================] - 0s 7ms/step - loss: 572897099776.0000 - val_loss: 426761453568.0000\n",
      "Epoch 259/400\n",
      "2/2 [==============================] - 0s 7ms/step - loss: 572833005568.0000 - val_loss: 426720657408.0000\n",
      "Epoch 260/400\n",
      "2/2 [==============================] - 0s 7ms/step - loss: 572768911360.0000 - val_loss: 426679140352.0000\n",
      "Epoch 261/400\n",
      "2/2 [==============================] - 0s 7ms/step - loss: 572700950528.0000 - val_loss: 426637197312.0000\n",
      "Epoch 262/400\n",
      "2/2 [==============================] - 0s 8ms/step - loss: 572629843968.0000 - val_loss: 426594861056.0000\n",
      "Epoch 263/400\n",
      "2/2 [==============================] - 0s 7ms/step - loss: 572560965632.0000 - val_loss: 426551902208.0000\n",
      "Epoch 264/400\n",
      "2/2 [==============================] - 0s 7ms/step - loss: 572488482816.0000 - val_loss: 426508517376.0000\n",
      "Epoch 265/400\n",
      "2/2 [==============================] - 0s 7ms/step - loss: 572415672320.0000 - val_loss: 426464509952.0000\n",
      "Epoch 266/400\n",
      "2/2 [==============================] - 0s 7ms/step - loss: 572340502528.0000 - val_loss: 426419912704.0000\n",
      "Epoch 267/400\n",
      "2/2 [==============================] - 0s 8ms/step - loss: 572267233280.0000 - val_loss: 426374299648.0000\n",
      "Epoch 268/400\n",
      "2/2 [==============================] - 0s 7ms/step - loss: 572190359552.0000 - val_loss: 426328064000.0000\n",
      "Epoch 269/400\n",
      "2/2 [==============================] - 0s 11ms/step - loss: 572110864384.0000 - val_loss: 426281107456.0000\n",
      "Epoch 270/400\n",
      "2/2 [==============================] - 0s 7ms/step - loss: 572039430144.0000 - val_loss: 426232807424.0000\n",
      "Epoch 271/400\n"
     ]
    },
    {
     "name": "stdout",
     "output_type": "stream",
     "text": [
      "2/2 [==============================] - 0s 7ms/step - loss: 571958755328.0000 - val_loss: 426183983104.0000\n",
      "Epoch 272/400\n",
      "2/2 [==============================] - 0s 8ms/step - loss: 571880833024.0000 - val_loss: 426134470656.0000\n",
      "Epoch 273/400\n",
      "2/2 [==============================] - 0s 7ms/step - loss: 571800289280.0000 - val_loss: 426084466688.0000\n",
      "Epoch 274/400\n",
      "2/2 [==============================] - 0s 7ms/step - loss: 571712667648.0000 - val_loss: 426034298880.0000\n",
      "Epoch 275/400\n",
      "2/2 [==============================] - 0s 7ms/step - loss: 571622096896.0000 - val_loss: 425983803392.0000\n",
      "Epoch 276/400\n",
      "2/2 [==============================] - 0s 7ms/step - loss: 571549548544.0000 - val_loss: 425931505664.0000\n",
      "Epoch 277/400\n",
      "2/2 [==============================] - 0s 7ms/step - loss: 571462778880.0000 - val_loss: 425878913024.0000\n",
      "Epoch 278/400\n",
      "2/2 [==============================] - 0s 8ms/step - loss: 571366309888.0000 - val_loss: 425826254848.0000\n",
      "Epoch 279/400\n",
      "2/2 [==============================] - 0s 7ms/step - loss: 571282489344.0000 - val_loss: 425772285952.0000\n",
      "Epoch 280/400\n",
      "2/2 [==============================] - 0s 7ms/step - loss: 571186741248.0000 - val_loss: 425717858304.0000\n",
      "Epoch 281/400\n",
      "2/2 [==============================] - 0s 7ms/step - loss: 571105542144.0000 - val_loss: 425661726720.0000\n",
      "Epoch 282/400\n",
      "2/2 [==============================] - 0s 7ms/step - loss: 571006189568.0000 - val_loss: 425605398528.0000\n",
      "Epoch 283/400\n",
      "2/2 [==============================] - 0s 7ms/step - loss: 570917650432.0000 - val_loss: 425547825152.0000\n",
      "Epoch 284/400\n",
      "2/2 [==============================] - 0s 7ms/step - loss: 570808532992.0000 - val_loss: 425490481152.0000\n",
      "Epoch 285/400\n",
      "2/2 [==============================] - 0s 7ms/step - loss: 570723729408.0000 - val_loss: 425431040000.0000\n",
      "Epoch 286/400\n",
      "2/2 [==============================] - 0s 7ms/step - loss: 570617888768.0000 - val_loss: 425371336704.0000\n",
      "Epoch 287/400\n",
      "2/2 [==============================] - 0s 7ms/step - loss: 570523189248.0000 - val_loss: 425310224384.0000\n",
      "Epoch 288/400\n",
      "2/2 [==============================] - 0s 7ms/step - loss: 570417610752.0000 - val_loss: 425248555008.0000\n",
      "Epoch 289/400\n",
      "2/2 [==============================] - 0s 8ms/step - loss: 570311507968.0000 - val_loss: 425186000896.0000\n",
      "Epoch 290/400\n",
      "2/2 [==============================] - 0s 7ms/step - loss: 570208616448.0000 - val_loss: 425122332672.0000\n",
      "Epoch 291/400\n",
      "2/2 [==============================] - 0s 8ms/step - loss: 570112409600.0000 - val_loss: 425057157120.0000\n",
      "Epoch 292/400\n",
      "2/2 [==============================] - 0s 7ms/step - loss: 569990381568.0000 - val_loss: 424992342016.0000\n",
      "Epoch 293/400\n",
      "2/2 [==============================] - 0s 7ms/step - loss: 569880936448.0000 - val_loss: 424926314496.0000\n",
      "Epoch 294/400\n",
      "2/2 [==============================] - 0s 8ms/step - loss: 569777324032.0000 - val_loss: 424858812416.0000\n",
      "Epoch 295/400\n",
      "2/2 [==============================] - 0s 7ms/step - loss: 569661521920.0000 - val_loss: 424790622208.0000\n",
      "Epoch 296/400\n",
      "2/2 [==============================] - 0s 7ms/step - loss: 569553125376.0000 - val_loss: 424721317888.0000\n",
      "Epoch 297/400\n",
      "2/2 [==============================] - 0s 7ms/step - loss: 569432408064.0000 - val_loss: 424651587584.0000\n",
      "Epoch 298/400\n",
      "2/2 [==============================] - 0s 7ms/step - loss: 569314967552.0000 - val_loss: 424581038080.0000\n",
      "Epoch 299/400\n",
      "2/2 [==============================] - 0s 7ms/step - loss: 569191956480.0000 - val_loss: 424509898752.0000\n",
      "Epoch 300/400\n",
      "2/2 [==============================] - 0s 7ms/step - loss: 569075105792.0000 - val_loss: 424437252096.0000\n",
      "Epoch 301/400\n",
      "2/2 [==============================] - 0s 7ms/step - loss: 568959107072.0000 - val_loss: 424363360256.0000\n",
      "Epoch 302/400\n",
      "2/2 [==============================] - 0s 7ms/step - loss: 568825872384.0000 - val_loss: 424289206272.0000\n",
      "Epoch 303/400\n",
      "2/2 [==============================] - 0s 7ms/step - loss: 568706662400.0000 - val_loss: 424213577728.0000\n",
      "Epoch 304/400\n",
      "2/2 [==============================] - 0s 9ms/step - loss: 568569495552.0000 - val_loss: 424137621504.0000\n",
      "Epoch 305/400\n",
      "2/2 [==============================] - 0s 7ms/step - loss: 568446353408.0000 - val_loss: 424059928576.0000\n",
      "Epoch 306/400\n",
      "2/2 [==============================] - 0s 7ms/step - loss: 568317181952.0000 - val_loss: 423981121536.0000\n",
      "Epoch 307/400\n",
      "2/2 [==============================] - 0s 7ms/step - loss: 568196792320.0000 - val_loss: 423900577792.0000\n",
      "Epoch 308/400\n",
      "2/2 [==============================] - 0s 7ms/step - loss: 568058642432.0000 - val_loss: 423820066816.0000\n",
      "Epoch 309/400\n",
      "2/2 [==============================] - 0s 8ms/step - loss: 567908696064.0000 - val_loss: 423739686912.0000\n",
      "Epoch 310/400\n",
      "2/2 [==============================] - 0s 7ms/step - loss: 567780966400.0000 - val_loss: 423657340928.0000\n",
      "Epoch 311/400\n",
      "2/2 [==============================] - 0s 7ms/step - loss: 567634034688.0000 - val_loss: 423574437888.0000\n",
      "Epoch 312/400\n",
      "2/2 [==============================] - 0s 7ms/step - loss: 567507025920.0000 - val_loss: 423489437696.0000\n",
      "Epoch 313/400\n",
      "2/2 [==============================] - 0s 8ms/step - loss: 567358324736.0000 - val_loss: 423403978752.0000\n",
      "Epoch 314/400\n",
      "2/2 [==============================] - 0s 7ms/step - loss: 567213948928.0000 - val_loss: 423317438464.0000\n",
      "Epoch 315/400\n",
      "2/2 [==============================] - 0s 9ms/step - loss: 567066689536.0000 - val_loss: 423229784064.0000\n",
      "Epoch 316/400\n",
      "2/2 [==============================] - 0s 7ms/step - loss: 566919561216.0000 - val_loss: 423140917248.0000\n",
      "Epoch 317/400\n",
      "2/2 [==============================] - 0s 7ms/step - loss: 566764896256.0000 - val_loss: 423051165696.0000\n",
      "Epoch 318/400\n",
      "2/2 [==============================] - 0s 7ms/step - loss: 566613508096.0000 - val_loss: 422959874048.0000\n",
      "Epoch 319/400\n",
      "2/2 [==============================] - 0s 7ms/step - loss: 566469066752.0000 - val_loss: 422866812928.0000\n",
      "Epoch 320/400\n",
      "2/2 [==============================] - 0s 7ms/step - loss: 566298869760.0000 - val_loss: 422773653504.0000\n",
      "Epoch 321/400\n",
      "2/2 [==============================] - 0s 7ms/step - loss: 566151872512.0000 - val_loss: 422678265856.0000\n",
      "Epoch 322/400\n",
      "2/2 [==============================] - 0s 7ms/step - loss: 565985476608.0000 - val_loss: 422582222848.0000\n",
      "Epoch 323/400\n",
      "2/2 [==============================] - 0s 7ms/step - loss: 565838938112.0000 - val_loss: 422484246528.0000\n",
      "Epoch 324/400\n",
      "2/2 [==============================] - 0s 7ms/step - loss: 565674573824.0000 - val_loss: 422385975296.0000\n",
      "Epoch 325/400\n",
      "2/2 [==============================] - 0s 7ms/step - loss: 565499068416.0000 - val_loss: 422287867904.0000\n",
      "Epoch 326/400\n",
      "2/2 [==============================] - 0s 7ms/step - loss: 565325070336.0000 - val_loss: 422188941312.0000\n",
      "Epoch 327/400\n",
      "2/2 [==============================] - 0s 8ms/step - loss: 565149892608.0000 - val_loss: 422088769536.0000\n",
      "Epoch 328/400\n",
      "2/2 [==============================] - 0s 7ms/step - loss: 564995555328.0000 - val_loss: 421985681408.0000\n",
      "Epoch 329/400\n",
      "2/2 [==============================] - 0s 7ms/step - loss: 564816183296.0000 - val_loss: 421881937920.0000\n",
      "Epoch 330/400\n",
      "2/2 [==============================] - 0s 7ms/step - loss: 564635500544.0000 - val_loss: 421777178624.0000\n",
      "Epoch 331/400\n",
      "2/2 [==============================] - 0s 7ms/step - loss: 564465041408.0000 - val_loss: 421670354944.0000\n",
      "Epoch 332/400\n",
      "2/2 [==============================] - 0s 8ms/step - loss: 564284030976.0000 - val_loss: 421562187776.0000\n",
      "Epoch 333/400\n",
      "2/2 [==============================] - 0s 6ms/step - loss: 564107673600.0000 - val_loss: 421452611584.0000\n",
      "Epoch 334/400\n",
      "2/2 [==============================] - 0s 7ms/step - loss: 563913949184.0000 - val_loss: 421342674944.0000\n",
      "Epoch 335/400\n",
      "2/2 [==============================] - 0s 7ms/step - loss: 563730644992.0000 - val_loss: 421231198208.0000\n",
      "Epoch 336/400\n",
      "2/2 [==============================] - 0s 8ms/step - loss: 563554942976.0000 - val_loss: 421117886464.0000\n",
      "Epoch 337/400\n",
      "2/2 [==============================] - 0s 7ms/step - loss: 563346538496.0000 - val_loss: 421005000704.0000\n",
      "Epoch 338/400\n",
      "2/2 [==============================] - 0s 7ms/step - loss: 563171426304.0000 - val_loss: 420889722880.0000\n"
     ]
    },
    {
     "name": "stdout",
     "output_type": "stream",
     "text": [
      "Epoch 339/400\n",
      "2/2 [==============================] - 0s 7ms/step - loss: 562964856832.0000 - val_loss: 420774379520.0000\n",
      "Epoch 340/400\n",
      "2/2 [==============================] - 0s 7ms/step - loss: 562777292800.0000 - val_loss: 420657168384.0000\n",
      "Epoch 341/400\n",
      "2/2 [==============================] - 0s 7ms/step - loss: 562579243008.0000 - val_loss: 420538974208.0000\n",
      "Epoch 342/400\n",
      "2/2 [==============================] - 0s 8ms/step - loss: 562361925632.0000 - val_loss: 420420648960.0000\n",
      "Epoch 343/400\n",
      "2/2 [==============================] - 0s 7ms/step - loss: 562174361600.0000 - val_loss: 420299341824.0000\n",
      "Epoch 344/400\n",
      "2/2 [==============================] - 0s 7ms/step - loss: 561971593216.0000 - val_loss: 420176691200.0000\n",
      "Epoch 345/400\n",
      "2/2 [==============================] - 0s 7ms/step - loss: 561771249664.0000 - val_loss: 420052598784.0000\n",
      "Epoch 346/400\n",
      "2/2 [==============================] - 0s 7ms/step - loss: 561553539072.0000 - val_loss: 419928145920.0000\n",
      "Epoch 347/400\n",
      "2/2 [==============================] - 0s 7ms/step - loss: 561343954944.0000 - val_loss: 419802185728.0000\n",
      "Epoch 348/400\n",
      "2/2 [==============================] - 0s 7ms/step - loss: 561121525760.0000 - val_loss: 419675242496.0000\n",
      "Epoch 349/400\n",
      "2/2 [==============================] - 0s 7ms/step - loss: 560924983296.0000 - val_loss: 419545284608.0000\n",
      "Epoch 350/400\n",
      "2/2 [==============================] - 0s 7ms/step - loss: 560694493184.0000 - val_loss: 419414933504.0000\n",
      "Epoch 351/400\n",
      "2/2 [==============================] - 0s 7ms/step - loss: 560461185024.0000 - val_loss: 419283566592.0000\n",
      "Epoch 352/400\n",
      "2/2 [==============================] - 0s 8ms/step - loss: 560244064256.0000 - val_loss: 419149348864.0000\n",
      "Epoch 353/400\n",
      "2/2 [==============================] - 0s 8ms/step - loss: 560024715264.0000 - val_loss: 419012247552.0000\n",
      "Epoch 354/400\n",
      "2/2 [==============================] - 0s 7ms/step - loss: 559793242112.0000 - val_loss: 418873114624.0000\n",
      "Epoch 355/400\n",
      "2/2 [==============================] - 0s 7ms/step - loss: 559548137472.0000 - val_loss: 418733096960.0000\n",
      "Epoch 356/400\n",
      "2/2 [==============================] - 0s 7ms/step - loss: 559300542464.0000 - val_loss: 418591571968.0000\n",
      "Epoch 357/400\n",
      "2/2 [==============================] - 0s 7ms/step - loss: 559062122496.0000 - val_loss: 418447523840.0000\n",
      "Epoch 358/400\n",
      "2/2 [==============================] - 0s 7ms/step - loss: 558827831296.0000 - val_loss: 418300493824.0000\n",
      "Epoch 359/400\n",
      "2/2 [==============================] - 0s 8ms/step - loss: 558559068160.0000 - val_loss: 418153136128.0000\n",
      "Epoch 360/400\n",
      "2/2 [==============================] - 0s 7ms/step - loss: 558315864064.0000 - val_loss: 418002599936.0000\n",
      "Epoch 361/400\n",
      "2/2 [==============================] - 0s 9ms/step - loss: 558070235136.0000 - val_loss: 417849212928.0000\n",
      "Epoch 362/400\n",
      "2/2 [==============================] - 0s 7ms/step - loss: 557789872128.0000 - val_loss: 417695694848.0000\n",
      "Epoch 363/400\n",
      "2/2 [==============================] - 0s 7ms/step - loss: 557559447552.0000 - val_loss: 417538113536.0000\n",
      "Epoch 364/400\n",
      "2/2 [==============================] - 0s 7ms/step - loss: 557261455360.0000 - val_loss: 417381679104.0000\n",
      "Epoch 365/400\n",
      "2/2 [==============================] - 0s 7ms/step - loss: 557013991424.0000 - val_loss: 417221574656.0000\n",
      "Epoch 366/400\n",
      "2/2 [==============================] - 0s 8ms/step - loss: 556756893696.0000 - val_loss: 417059569664.0000\n",
      "Epoch 367/400\n",
      "2/2 [==============================] - 0s 7ms/step - loss: 556484263936.0000 - val_loss: 416897204224.0000\n",
      "Epoch 368/400\n",
      "2/2 [==============================] - 0s 7ms/step - loss: 556179980288.0000 - val_loss: 416735690752.0000\n",
      "Epoch 369/400\n",
      "2/2 [==============================] - 0s 8ms/step - loss: 555921768448.0000 - val_loss: 416570933248.0000\n",
      "Epoch 370/400\n",
      "2/2 [==============================] - 0s 7ms/step - loss: 555640422400.0000 - val_loss: 416404832256.0000\n",
      "Epoch 371/400\n",
      "2/2 [==============================] - 0s 6ms/step - loss: 555348197376.0000 - val_loss: 416237846528.0000\n",
      "Epoch 372/400\n",
      "2/2 [==============================] - 0s 7ms/step - loss: 555059576832.0000 - val_loss: 416068796416.0000\n",
      "Epoch 373/400\n",
      "2/2 [==============================] - 0s 7ms/step - loss: 554746773504.0000 - val_loss: 415899058176.0000\n",
      "Epoch 374/400\n",
      "2/2 [==============================] - 0s 7ms/step - loss: 554469556224.0000 - val_loss: 415724765184.0000\n",
      "Epoch 375/400\n",
      "2/2 [==============================] - 0s 7ms/step - loss: 554203283456.0000 - val_loss: 415546507264.0000\n",
      "Epoch 376/400\n",
      "2/2 [==============================] - 0s 8ms/step - loss: 553905487872.0000 - val_loss: 415367823360.0000\n",
      "Epoch 377/400\n",
      "2/2 [==============================] - 0s 7ms/step - loss: 553567322112.0000 - val_loss: 415190646784.0000\n",
      "Epoch 378/400\n",
      "2/2 [==============================] - 0s 7ms/step - loss: 553268805632.0000 - val_loss: 415010422784.0000\n",
      "Epoch 379/400\n",
      "2/2 [==============================] - ETA: 0s - loss: 601371377664.00 - 0s 8ms/step - loss: 552970944512.0000 - val_loss: 414827773952.0000\n",
      "Epoch 380/400\n",
      "2/2 [==============================] - 0s 7ms/step - loss: 552677015552.0000 - val_loss: 414642765824.0000\n",
      "Epoch 381/400\n",
      "2/2 [==============================] - 0s 7ms/step - loss: 552356806656.0000 - val_loss: 414457626624.0000\n",
      "Epoch 382/400\n",
      "2/2 [==============================] - 0s 7ms/step - loss: 551999569920.0000 - val_loss: 414273798144.0000\n",
      "Epoch 383/400\n",
      "2/2 [==============================] - 0s 7ms/step - loss: 551728250880.0000 - val_loss: 414083973120.0000\n",
      "Epoch 384/400\n",
      "2/2 [==============================] - 0s 7ms/step - loss: 551390216192.0000 - val_loss: 413894410240.0000\n",
      "Epoch 385/400\n",
      "2/2 [==============================] - 0s 7ms/step - loss: 551044317184.0000 - val_loss: 413704126464.0000\n",
      "Epoch 386/400\n",
      "2/2 [==============================] - 0s 7ms/step - loss: 550729482240.0000 - val_loss: 413509582848.0000\n",
      "Epoch 387/400\n",
      "2/2 [==============================] - 0s 7ms/step - loss: 550380109824.0000 - val_loss: 413313695744.0000\n",
      "Epoch 388/400\n",
      "2/2 [==============================] - 0s 7ms/step - loss: 550068551680.0000 - val_loss: 413113319424.0000\n",
      "Epoch 389/400\n",
      "2/2 [==============================] - 0s 7ms/step - loss: 549727109120.0000 - val_loss: 412911140864.0000\n",
      "Epoch 390/400\n",
      "2/2 [==============================] - 0s 7ms/step - loss: 549376131072.0000 - val_loss: 412707848192.0000\n",
      "Epoch 391/400\n",
      "2/2 [==============================] - 0s 8ms/step - loss: 549051465728.0000 - val_loss: 412501475328.0000\n",
      "Epoch 392/400\n",
      "2/2 [==============================] - 0s 7ms/step - loss: 548689281024.0000 - val_loss: 412295200768.0000\n",
      "Epoch 393/400\n",
      "2/2 [==============================] - 0s 9ms/step - loss: 548353474560.0000 - val_loss: 412086829056.0000\n",
      "Epoch 394/400\n",
      "2/2 [==============================] - 0s 7ms/step - loss: 547979526144.0000 - val_loss: 411878752256.0000\n",
      "Epoch 395/400\n",
      "2/2 [==============================] - 0s 8ms/step - loss: 547607445504.0000 - val_loss: 411669463040.0000\n",
      "Epoch 396/400\n",
      "2/2 [==============================] - 0s 7ms/step - loss: 547249061888.0000 - val_loss: 411456765952.0000\n",
      "Epoch 397/400\n",
      "2/2 [==============================] - 0s 8ms/step - loss: 546893201408.0000 - val_loss: 411240660992.0000\n",
      "Epoch 398/400\n",
      "2/2 [==============================] - 0s 7ms/step - loss: 546516107264.0000 - val_loss: 411022131200.0000\n",
      "Epoch 399/400\n",
      "2/2 [==============================] - 0s 7ms/step - loss: 546155790336.0000 - val_loss: 410799931392.0000\n",
      "Epoch 400/400\n",
      "2/2 [==============================] - 0s 8ms/step - loss: 545756151808.0000 - val_loss: 410576977920.0000\n"
     ]
    },
    {
     "data": {
      "text/plain": [
       "<tensorflow.python.keras.callbacks.History at 0x156de49b948>"
      ]
     },
     "execution_count": 186,
     "metadata": {},
     "output_type": "execute_result"
    }
   ],
   "source": [
    "model.fit(x=X_train,y=y_train,\n",
    "          validation_data=(X_test,y_test),\n",
    "          batch_size=128,epochs=400)"
   ]
  },
  {
   "cell_type": "code",
   "execution_count": 187,
   "metadata": {},
   "outputs": [
    {
     "name": "stdout",
     "output_type": "stream",
     "text": [
      "Model: \"sequential_1\"\n",
      "_________________________________________________________________\n",
      "Layer (type)                 Output Shape              Param #   \n",
      "=================================================================\n",
      "dense_5 (Dense)              (None, 7)                 56        \n",
      "_________________________________________________________________\n",
      "dense_6 (Dense)              (None, 7)                 56        \n",
      "_________________________________________________________________\n",
      "dense_7 (Dense)              (None, 7)                 56        \n",
      "_________________________________________________________________\n",
      "dense_8 (Dense)              (None, 7)                 56        \n",
      "_________________________________________________________________\n",
      "dense_9 (Dense)              (None, 1)                 8         \n",
      "=================================================================\n",
      "Total params: 232\n",
      "Trainable params: 232\n",
      "Non-trainable params: 0\n",
      "_________________________________________________________________\n"
     ]
    }
   ],
   "source": [
    "model.summary()"
   ]
  },
  {
   "cell_type": "code",
   "execution_count": 188,
   "metadata": {},
   "outputs": [
    {
     "data": {
      "text/plain": [
       "<matplotlib.axes._subplots.AxesSubplot at 0x156df8ee648>"
      ]
     },
     "execution_count": 188,
     "metadata": {},
     "output_type": "execute_result"
    },
    {
     "data": {
      "image/png": "[encoded data removed]",
      "text/plain": [
       "<Figure size 864x576 with 1 Axes>"
      ]
     },
     "metadata": {
      "needs_background": "light"
     },
     "output_type": "display_data"
    }
   ],
   "source": [
    "loss_df = pd.DataFrame(model.history.history)\n",
    "loss_df.plot(figsize=(12,8))"
   ]
  },
  {
   "cell_type": "code",
   "execution_count": 189,
   "metadata": {},
   "outputs": [],
   "source": [
    "y_pred = model.predict(X_test)"
   ]
  },
  {
   "cell_type": "code",
   "execution_count": 190,
   "metadata": {},
   "outputs": [
    {
     "data": {
      "text/plain": [
       "array([[ 385000],\n",
       "       [1295000],\n",
       "       [ 545000],\n",
       "       [ 255000],\n",
       "       [ 249900],\n",
       "       [ 239900],\n",
       "       [2000000],\n",
       "       [ 559919],\n",
       "       [ 375000],\n",
       "       [ 510000],\n",
       "       [ 425000],\n",
       "       [ 470000],\n",
       "       [ 300000],\n",
       "       [ 749000],\n",
       "       [ 215000],\n",
       "       [ 595000],\n",
       "       [ 379900],\n",
       "       [1295000],\n",
       "       [ 424000],\n",
       "       [ 549000],\n",
       "       [ 739000],\n",
       "       [ 325000],\n",
       "       [ 393500],\n",
       "       [2850000],\n",
       "       [ 535000],\n",
       "       [ 375000],\n",
       "       [ 604995],\n",
       "       [ 729000],\n",
       "       [ 399900],\n",
       "       [ 447900],\n",
       "       [ 349000],\n",
       "       [ 975000],\n",
       "       [ 417500],\n",
       "       [ 364990],\n",
       "       [ 445000],\n",
       "       [ 390000],\n",
       "       [ 338000],\n",
       "       [ 819900],\n",
       "       [ 339000],\n",
       "       [ 469900],\n",
       "       [1025000],\n",
       "       [ 329000],\n",
       "       [ 974998],\n",
       "       [ 429900],\n",
       "       [ 449900],\n",
       "       [ 475000],\n",
       "       [ 419900],\n",
       "       [ 599900],\n",
       "       [ 468950],\n",
       "       [ 689000],\n",
       "       [ 850000],\n",
       "       [ 374900],\n",
       "       [ 519900],\n",
       "       [ 330000],\n",
       "       [ 340000],\n",
       "       [ 513000],\n",
       "       [ 365900],\n",
       "       [ 564900],\n",
       "       [ 449000],\n",
       "       [ 449900],\n",
       "       [ 499000],\n",
       "       [ 465000],\n",
       "       [ 675000],\n",
       "       [ 375000],\n",
       "       [ 634900],\n",
       "       [ 295000],\n",
       "       [ 349000],\n",
       "       [ 229900],\n",
       "       [ 299000],\n",
       "       [ 539900],\n",
       "       [ 599900],\n",
       "       [ 700000],\n",
       "       [ 335000],\n",
       "       [ 389000],\n",
       "       [ 309900],\n",
       "       [ 349950],\n",
       "       [ 409000],\n",
       "       [ 446950],\n",
       "       [ 395000],\n",
       "       [ 550000],\n",
       "       [ 449000],\n",
       "       [ 649000],\n",
       "       [ 379900],\n",
       "       [ 349900],\n",
       "       [ 369999],\n",
       "       [ 365000],\n",
       "       [ 425000],\n",
       "       [ 405000],\n",
       "       [ 249000],\n",
       "       [ 504900],\n",
       "       [ 969900],\n",
       "       [ 299000],\n",
       "       [1949000],\n",
       "       [ 430000],\n",
       "       [ 345000],\n",
       "       [ 475000],\n",
       "       [ 289900],\n",
       "       [ 329000],\n",
       "       [ 648000],\n",
       "       [ 441500],\n",
       "       [ 599900],\n",
       "       [ 749000],\n",
       "       [ 318999],\n",
       "       [ 415000],\n",
       "       [ 879900],\n",
       "       [ 949900],\n",
       "       [ 500000],\n",
       "       [ 315000],\n",
       "       [ 539900],\n",
       "       [ 409000],\n",
       "       [ 995000]], dtype=int64)"
      ]
     },
     "execution_count": 190,
     "metadata": {},
     "output_type": "execute_result"
    }
   ],
   "source": [
    "y_test"
   ]
  },
  {
   "cell_type": "code",
   "execution_count": 191,
   "metadata": {},
   "outputs": [
    {
     "name": "stdout",
     "output_type": "stream",
     "text": [
      "Mean Absolute Error: 531891.03\n",
      "Mean Squared Error: 410576963763.86\n",
      "Root Mean Squared Error: 640762.80\n",
      "Variance score is: 0.02\n"
     ]
    }
   ],
   "source": [
    "from sklearn import metrics\n",
    "\n",
    "print('Mean Absolute Error: {:.2f}'.format(metrics.mean_absolute_error(y_test, y_pred)))\n",
    "print('Mean Squared Error: {:.2f}'.format(metrics.mean_squared_error(y_test, y_pred)))\n",
    "print('Root Mean Squared Error: {:.2f}'.format(np.sqrt(metrics.mean_squared_error(y_test, y_pred))))\n",
    "print('Variance score is: {:.2f}'.format(metrics.explained_variance_score(y_test,y_pred)))"
   ]
  },
  {
   "cell_type": "code",
   "execution_count": 192,
   "metadata": {},
   "outputs": [
    {
     "data": {
      "text/plain": [
       "570026.8630952381"
      ]
     },
     "execution_count": 192,
     "metadata": {},
     "output_type": "execute_result"
    }
   ],
   "source": [
    "data['PRICE'].mean()"
   ]
  },
  {
   "cell_type": "code",
   "execution_count": 193,
   "metadata": {},
   "outputs": [
    {
     "data": {
      "text/plain": [
       "[<matplotlib.lines.Line2D at 0x156df9c3d08>]"
      ]
     },
     "execution_count": 193,
     "metadata": {},
     "output_type": "execute_result"
    },
    {
     "data": {
      "image/png": "[encoded data removed]",
      "text/plain": [
       "<Figure size 720x360 with 1 Axes>"
      ]
     },
     "metadata": {
      "needs_background": "light"
     },
     "output_type": "display_data"
    }
   ],
   "source": [
    "# Our predictions\n",
    "fig = plt.figure(figsize=(10,5))\n",
    "plt.scatter(y_test,y_pred)\n",
    "# Perfect predictions\n",
    "plt.plot(y_test,y_test,'r')"
   ]
  },
  {
   "cell_type": "code",
   "execution_count": 195,
   "metadata": {},
   "outputs": [
    {
     "data": {
      "text/plain": [
       "<matplotlib.axes._subplots.AxesSubplot at 0x156dfa756c8>"
      ]
     },
     "execution_count": 195,
     "metadata": {},
     "output_type": "execute_result"
    },
    {
     "data": {
      "image/png": "[encoded data removed]",
      "text/plain": [
       "<Figure size 720x360 with 1 Axes>"
      ]
     },
     "metadata": {
      "needs_background": "light"
     },
     "output_type": "display_data"
    }
   ],
   "source": [
    "fig = plt.figure(figsize=(10,5))\n",
    "residuals = (y_test- y_pred)\n",
    "sns.distplot(residuals)"
   ]
  },
  {
   "cell_type": "code",
   "execution_count": 196,
   "metadata": {},
   "outputs": [],
   "source": [
    "single_house = data.drop(['PROPERTY TYPE', 'CITY', 'PRICE', 'LOT SIZE', 'YEAR BUILT', '$/SQUARE FEET', 'HOA/MONTH'],axis = 1).iloc[0]"
   ]
  },
  {
   "cell_type": "code",
   "execution_count": 197,
   "metadata": {},
   "outputs": [
    {
     "data": {
      "text/plain": [
       "ZIP OR POSTAL CODE    97045.000000\n",
       "BEDS                      4.000000\n",
       "BATHS                     3.000000\n",
       "SQUARE FEET            2621.000000\n",
       "DAYS ON MARKET            1.000000\n",
       "LATITUDE                 45.328852\n",
       "LONGITUDE              -122.631600\n",
       "Name: 0, dtype: float64"
      ]
     },
     "execution_count": 197,
     "metadata": {},
     "output_type": "execute_result"
    }
   ],
   "source": [
    "single_house"
   ]
  },
  {
   "cell_type": "code",
   "execution_count": 198,
   "metadata": {},
   "outputs": [],
   "source": [
    "single_house = s_scaler.transform(single_house.values.reshape(-1,7))"
   ]
  },
  {
   "cell_type": "code",
   "execution_count": 199,
   "metadata": {},
   "outputs": [
    {
     "data": {
      "text/plain": [
       "array([[8.059018e+08]], dtype=float32)"
      ]
     },
     "execution_count": 199,
     "metadata": {},
     "output_type": "execute_result"
    }
   ],
   "source": [
    "model.predict(single_house)"
   ]
  },
  {
   "cell_type": "code",
   "execution_count": 200,
   "metadata": {},
   "outputs": [
    {
     "data": {
      "text/plain": [
       "595000"
      ]
     },
     "execution_count": 200,
     "metadata": {},
     "output_type": "execute_result"
    }
   ],
   "source": [
    "data['PRICE'][0]"
   ]
  },
  {
   "cell_type": "code",
   "execution_count": 202,
   "metadata": {},
   "outputs": [
    {
     "name": "stdout",
     "output_type": "stream",
     "text": [
      "Model: Keras Regression\n",
      "\n",
      "Mean Absolute Error(MAE): 531891.03\n",
      "Mean Squared Error(MSE): 410576963763.86\n",
      "Root Mean Squared Error(RMSE): 640762.80\n",
      "Variance score: 2.45\n",
      "\n",
      "*********************************\n",
      "\n",
      "Model: Multiple Linear Regression\n",
      "\n",
      "Mean Absolute Error(MAE): 145429.02\n",
      "Mean Squared Error(MSE):57760412866.38\n",
      "Root Mean Squared Error(RMSE):240333.96\n",
      "Variance score: 56.87\n"
     ]
    }
   ],
   "source": [
    "print('Model: Keras Regression\\n')\n",
    "\n",
    "print('Mean Absolute Error(MAE): {:.2f}'.format(metrics.mean_absolute_error(y_test, y_pred)))\n",
    "print('Mean Squared Error(MSE): {:.2f}'.format(metrics.mean_squared_error(y_test, y_pred)))\n",
    "print('Root Mean Squared Error(RMSE): {:.2f}'.format(np.sqrt(metrics.mean_squared_error(y_test, y_pred))))\n",
    "print('Variance score: {:.2f}\\n'.format(metrics.explained_variance_score(y_test,y_pred)*100))\n",
    "print('*********************************\\n')\n",
    "print('Model: Multiple Linear Regression\\n')\n",
    "print('Mean Absolute Error(MAE): {:.2f}'.format(metrics.mean_absolute_error(y_test, y_predd))) \n",
    "print('Mean Squared Error(MSE):{:.2f}'.format(metrics.mean_squared_error(y_test, y_predd)))  \n",
    "print('Root Mean Squared Error(RMSE):{:.2f}'.format(np.sqrt(metrics.mean_squared_error(y_test, y_predd))))\n",
    "print('Variance score: {:.2f}'.format(metrics.explained_variance_score(y_test,y_predd)*100))"
   ]
  },
  {
   "cell_type": "code",
   "execution_count": null,
   "metadata": {},
   "outputs": [],
   "source": []
  }
 ],
 "metadata": {
  "kernelspec": {
   "display_name": "Python 3",
   "language": "python",
   "name": "python3"
  },
  "language_info": {
   "codemirror_mode": {
    "name": "ipython",
    "version": 3
   },
   "file_extension": ".py",
   "mimetype": "text/x-python",
   "name": "python",
   "nbconvert_exporter": "python",
   "pygments_lexer": "ipython3",
   "version": "3.7.4"
  }
 },
 "nbformat": 4,
 "nbformat_minor": 4
}
